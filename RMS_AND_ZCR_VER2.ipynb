{
 "cells": [
  {
   "cell_type": "code",
   "execution_count": 240,
   "metadata": {
    "collapsed": true
   },
   "outputs": [],
   "source": [
    "import librosa\n",
    "import librosa.display\n",
    "import numpy as np\n",
    "import IPython.display as ipd\n",
    "import matplotlib.pyplot as plt\n",
    "from pydub import AudioSegment\n",
    "%matplotlib inline\n",
    "import os"
   ]
  },
  {
   "cell_type": "code",
   "execution_count": 162,
   "metadata": {},
   "outputs": [],
   "source": [
    "f_path = 'shinmina.wav'\n",
    "wave, fs = librosa.load(f_path, sr=None)"
   ]
  },
  {
   "cell_type": "code",
   "execution_count": 163,
   "metadata": {},
   "outputs": [
    {
     "data": {
      "text/plain": [
       "441.0"
      ]
     },
     "execution_count": 163,
     "metadata": {},
     "output_type": "execute_result"
    }
   ],
   "source": [
    "10 * fs / 1000"
   ]
  },
  {
   "cell_type": "code",
   "execution_count": 257,
   "metadata": {},
   "outputs": [],
   "source": [
    "def _get_frame(frame_sample_ms=20, shift_sample_ms=10):\n",
    "    \"\"\"\n",
    "    input: frame_sample_ms(samples of window, ms단위, int)\n",
    "           shift_sample_ms(samples of shift, ms단위, int)\n",
    "    todo: frame과 hop_frame의 길이 안의 samples를 계산\n",
    "    return: frame_len, frame_shift \n",
    "            자료형은 int\n",
    "    \"\"\"\n",
    "    frame_len = int(frame_sample_ms*fs/1000) # frame_len = len_sample(ms) 만큼의 samples\n",
    "    frame_shift = int(shift_sample_ms*fs/1000)\n",
    "    return frame_len, frame_shift\n",
    "\n",
    "def _get_rms_zcr(frame_sample_ms=20, shift_sample_ms=10):\n",
    "    \"\"\"\n",
    "    input: frame_sample_ms, shift_sample_ms\n",
    "    todo: RMS, ZCR 계산 후 벡터라이징\n",
    "    return: rms, zcr\n",
    "    \"\"\"\n",
    "    # get frame_len, frame_shift\n",
    "    frame_len, frame_shift = _get_frame(frame_sample_ms, shift_sample_ms)\n",
    "    # calculate RMS\n",
    "    rms = librosa.feature.rmse(wave,frame_length=frame_len, hop_length=frame_shift)\n",
    "    rms = rms[0]\n",
    "    rms = librosa.util.normalize(rms, axis=0)\n",
    "    # calculate zero-crossing rate\n",
    "    zcr = librosa.feature.zero_crossing_rate(wave, frame_length=frame_len, hop_length=frame_shift)\n",
    "    zcr = zcr[0]\n",
    "    return rms, zcr\n",
    "    \n",
    "def _get_frame_idxs(min_rms=0.1, min_zcr=0.3):\n",
    "    \"\"\"\n",
    "    rms, zcr을 구한 뒤 실행\n",
    "    todo: rms와 zcr의 기준점을 인풋으로 하여 조건을 충족하는 element의 인덱스를 return.(현재는 임의)\n",
    "    input: min_rms, min_zcr\n",
    "    return: frame_idxs\n",
    "    \"\"\"\n",
    "    frame_idxs = np.where((rms>min_rms)|(zcr>min_zcr))[0]\n",
    "    return frame_idxs\n",
    "\n",
    "def _getboundaries(frame_idxs, frame_len, frame_shift):\n",
    "    \"\"\"\n",
    "    todo: starttime과 endtime을 구한다.\n",
    "    input: frame_idxs, frame_len,frame_shift\n",
    "    return: start_t, end_t (시작시간과 끝시간을 np.array로 리턴한다.)\n",
    "    \"\"\"\n",
    "    start_idxs = [frame_idxs[0]]\n",
    "    end_idxs = []\n",
    "    shapeOfIdxs = np.shape(frame_idxs)\n",
    "    for i in range(shapeOfIdxs[0]-1):\n",
    "        if (frame_idxs[i+1]-frame_idxs[i]) != 1:\n",
    "            end_idxs.append(frame_idxs[i])\n",
    "            start_idxs.append(frame_idxs[i+1])\n",
    "    end_idxs.append(frame_idxs[-1])\n",
    "    \n",
    "    # del the last boundaries if it is both start point and end point\n",
    "    if end_idxs[-1] == start_idxs[-1]:\n",
    "        end_idxs.pop()\n",
    "        start_idxs.pop()\n",
    "    assert len(start_idxs) == len(end_idxs), \"Error! Num of start_idxs doesnt match Num of end_idxs\"\n",
    "    start_idxs = np.array(start_idxs)\n",
    "    end_idxs = np.array(end_idxs)\n",
    "    start_t = start_idxs*frame_shift/fs\n",
    "    end_t=end_idxs*frame_shift/fs\n",
    "    return start_t, end_t\n",
    "\n",
    "def _arraytolist(start_t, end_t):\n",
    "    \"\"\"\n",
    "    todo: 시작, 끝, 구간시간, 구간별차이시간을 구해서 리턴한다.\n",
    "    input: start_t, end_t\n",
    "    output: [[start, end], 구간시간, 구간별차이시간(gap)]의 리스트\n",
    "    \"\"\"\n",
    "    tolist = list(zip(start_t, end_t))\n",
    "    info_list = []\n",
    "    for i in range(len(tolist)):\n",
    "        elm_minus = tolist[i][1] - tolist[i][0]\n",
    "        elm_minus = round(elm_minus, 3)\n",
    "        if i != 0: #이전과의 gap을측정\n",
    "            gap = tolist[i][0] - tolist[i-1][1]\n",
    "            gap = round(gap, 3)\n",
    "        else: # i==0\n",
    "            gap = -1 # 예외처리\n",
    "        to_append = [[tolist[i][0], tolist[i][1]], elm_minus, gap]\n",
    "        info_list.append(to_append)\n",
    "    return info_list \n",
    "            \n",
    "def endpoint_connect(info_list, prm_len=0.1, prm_gap=0.3):\n",
    "    \"\"\"\n",
    "    todo: 구간길이와, 구간별 gap을 통하여 endpoint를 연결하고\n",
    "          너무 짧은 구간은 삭제한다.\n",
    "    input: info_list,  prm_len(구간의 길이), prm_gap(구간별 타임코드의 차이)\n",
    "    return: confirm_list(모든 처리가 끝난 후의 리스트, info_list와 같은 형식)\n",
    "    \"\"\"\n",
    "    i = 1\n",
    "    tmp = 0\n",
    "    new_zip = [] # 간격이 벌어진 구간이 나타날 때 이전 구간을 저장하는 곳\n",
    "    confirm_list = []\n",
    "    while i < len(info_list):         \n",
    "        if info_list[i][2] <= prm_gap: # 간격이 작으면 앞의 것과 연결하기\n",
    "            info_list[tmp][0][1] = info_list[i][0][1]\n",
    "            if i == len(info_list)-1:\n",
    "                new_zip.append(info_list[tmp][0])\n",
    "        else: # 간격이 충분히 크다면\n",
    "            new_zip.append(info_list[tmp][0])\n",
    "            tmp = i # 시작 변경\n",
    "        i += 1\n",
    "    for elm in new_zip: # 확정구간중 너무 작은 구간을 제거함\n",
    "        if elm[1]-elm[0] < prm_len:\n",
    "            pass\n",
    "        else:\n",
    "            confirm_list.append(elm)\n",
    "    return confirm_list\n",
    "            \n",
    "def audioseg(t1, t2, i=0, rms=0):\n",
    "    \"\"\"\n",
    "    todo: t1(sec), t2(sec) 사이를 잘라 지정 디렉토리에 리턴하는 함수\n",
    "    input: t1, t2\n",
    "    output: 디렉토리에 파일 생성\n",
    "    \"\"\"\n",
    "    t1 = t1*1000\n",
    "    t2 = t2*1000\n",
    "    newAudio = AudioSegment.from_wav(f_path)\n",
    "    newAudio = newAudio[t1:t2]\n",
    "    try:\n",
    "        export_path = 'C:\\\\Users\\\\jmlik\\\\Desktop\\\\Work\\\\mywork\\\\simplevad\\\\auditok_eg\\\\'+str(rms)\n",
    "        mkdir_mina = os.mkdir(export_path)\n",
    "    except:\n",
    "        export_path = 'C:\\\\Users\\\\jmlik\\\\Desktop\\\\Work\\\\mywork\\\\simplevad\\\\auditok_eg\\\\'+str(rms)\n",
    "    return newAudio.export(export_path+'\\\\newmina' +str(i)+ '.wav', format=\"wav\")\n",
    "\n",
    "def makeWavFile(confirm_list, rms):\n",
    "    for num in range(len(confirm_list)):\n",
    "        audioseg(confirm_list[num][0], confirm_list[num][1], num, rms)\n",
    "    return \"Finish\""
   ]
  },
  {
   "cell_type": "code",
   "execution_count": 165,
   "metadata": {
    "collapsed": true
   },
   "outputs": [],
   "source": [
    "frame_len, frame_shift = _get_frame()\n",
    "rms, zcr = _get_rms_zcr()\n",
    "frame_idxs = _get_frame_idxs(0.1, 0.4)\n",
    "start_t, end_t = _getboundaries(frame_idxs, frame_len, frame_shift)\n",
    "info_list = _arraytolist(start_t, end_t)\n",
    "confirm_list = endpoint_connect(info_list, prm_gap=0.5,prm_len=0.2)"
   ]
  },
  {
   "cell_type": "code",
   "execution_count": 166,
   "metadata": {},
   "outputs": [
    {
     "data": {
      "text/plain": [
       "'Finish'"
      ]
     },
     "execution_count": 166,
     "metadata": {},
     "output_type": "execute_result"
    }
   ],
   "source": [
    "makeWavFile(confirm_list)"
   ]
  },
  {
   "cell_type": "code",
   "execution_count": 167,
   "metadata": {
    "collapsed": true
   },
   "outputs": [],
   "source": [
    "frame_len, frame_shif = _get_frame()\n",
    "rms, zcr = _get_rms_zcr()"
   ]
  },
  {
   "cell_type": "code",
   "execution_count": 168,
   "metadata": {},
   "outputs": [],
   "source": [
    "frame_idxs_0 = _get_frame_idxs(0,1)"
   ]
  },
  {
   "cell_type": "code",
   "execution_count": 169,
   "metadata": {},
   "outputs": [],
   "source": [
    "def frameOffRate(now_frame_idxs, pre_frame_idxs):\n",
    "    now_len = len(now_frame_idxs)\n",
    "    pre_len = len(pre_frame_idxs)\n",
    "    offrate = now_len/pre_len\n",
    "    return offrate"
   ]
  },
  {
   "cell_type": "code",
   "execution_count": 170,
   "metadata": {},
   "outputs": [
    {
     "data": {
      "text/plain": [
       "0.07807118254879448"
      ]
     },
     "execution_count": 170,
     "metadata": {},
     "output_type": "execute_result"
    }
   ],
   "source": [
    "frame_idxs_01 = _get_frame_idxs(0.5, 1)\n",
    "offRate = frameOffRate(frame_idxs_01, frame_idxs_0)\n",
    "offRate"
   ]
  },
  {
   "cell_type": "code",
   "execution_count": 211,
   "metadata": {},
   "outputs": [],
   "source": [
    "x_bar = np.arange(0,1,0.01)\n",
    "def get_offrate(x_bar):\n",
    "    \"\"\"zrc고정\"\"\"\n",
    "    prelen = len(_get_frame_idxs(0, 1))\n",
    "    nowlen = 0\n",
    "    y_bar = []\n",
    "    toreturn = []\n",
    "    toreturndic = {}\n",
    "    for i in x_bar:\n",
    "        nowlen = len(_get_frame_idxs(i, 1))\n",
    "        offrate = 1 - (nowlen/prelen)\n",
    "        offrate = round(offrate, 2)\n",
    "        toreturndic = {\"RMS\":round(i,3), \"Offrate\":offrate}\n",
    "        toreturn.append(toreturndic)\n",
    "#         y_bar.append(offrate)\n",
    "        prelen = nowlen\n",
    "    \n",
    "    \n",
    "    return toreturn"
   ]
  },
  {
   "cell_type": "code",
   "execution_count": 215,
   "metadata": {},
   "outputs": [],
   "source": [
    "rms_and_offrate_dic = get_offrate(x_bar)"
   ]
  },
  {
   "cell_type": "code",
   "execution_count": 217,
   "metadata": {},
   "outputs": [
    {
     "data": {
      "text/plain": [
       "100"
      ]
     },
     "execution_count": 217,
     "metadata": {},
     "output_type": "execute_result"
    }
   ],
   "source": [
    "# y_axis = get_y_bar(x_bar)\n",
    "y_axis = []\n",
    "for i in rms_and_offrate_dic:\n",
    "    y_axis.append(i[\"Offrate\"])\n",
    "len(y_axis)"
   ]
  },
  {
   "cell_type": "code",
   "execution_count": 218,
   "metadata": {},
   "outputs": [
    {
     "data": {
      "text/plain": [
       "'\\nx_bar는 rms 0.01단위 수치\\ny_axis는 손실률\\n'"
      ]
     },
     "execution_count": 218,
     "metadata": {},
     "output_type": "execute_result"
    },
    {
     "data": {
      "image/png": "[encoded data removed]",
      "text/plain": [
       "<matplotlib.figure.Figure at 0x278abd8c400>"
      ]
     },
     "metadata": {},
     "output_type": "display_data"
    }
   ],
   "source": [
    "plt.plot(x_bar, y_axis)\n",
    "\"\"\"\n",
    "x_bar는 rms 0.01단위 수치\n",
    "y_axis는 손실률\n",
    "\"\"\""
   ]
  },
  {
   "cell_type": "code",
   "execution_count": 183,
   "metadata": {},
   "outputs": [
    {
     "data": {
      "text/plain": [
       "<matplotlib.legend.Legend at 0x278ab7a4b38>"
      ]
     },
     "execution_count": 183,
     "metadata": {},
     "output_type": "execute_result"
    },
    {
     "data": {
      "image/png": "[encoded data removed]",
      "text/plain": [
       "<matplotlib.figure.Figure at 0x278ab665a90>"
      ]
     },
     "metadata": {},
     "output_type": "display_data"
    }
   ],
   "source": [
    "t = np.linspace(0, len(wave)/sr, len(wave))\n",
    "plt.figure(figsize=(14,6))\n",
    "plt.plot(t, wave, label=\"Waveform\")\n",
    "plt.legend(loc=\"best\")"
   ]
  },
  {
   "cell_type": "code",
   "execution_count": 219,
   "metadata": {},
   "outputs": [
    {
     "data": {
      "text/plain": [
       "[{'Offrate': 0.0, 'RMS': 0.0},\n",
       " {'Offrate': 0.0, 'RMS': 0.01},\n",
       " {'Offrate': 0.0, 'RMS': 0.02},\n",
       " {'Offrate': 0.03, 'RMS': 0.029999999999999999},\n",
       " {'Offrate': 0.12, 'RMS': 0.040000000000000001},\n",
       " {'Offrate': 0.11, 'RMS': 0.050000000000000003},\n",
       " {'Offrate': 0.08, 'RMS': 0.059999999999999998},\n",
       " {'Offrate': 0.04, 'RMS': 0.070000000000000007},\n",
       " {'Offrate': 0.04, 'RMS': 0.080000000000000002},\n",
       " {'Offrate': 0.04, 'RMS': 0.089999999999999997},\n",
       " {'Offrate': 0.03, 'RMS': 0.10000000000000001},\n",
       " {'Offrate': 0.04, 'RMS': 0.11},\n",
       " {'Offrate': 0.03, 'RMS': 0.12},\n",
       " {'Offrate': 0.03, 'RMS': 0.13},\n",
       " {'Offrate': 0.03, 'RMS': 0.14000000000000001},\n",
       " {'Offrate': 0.03, 'RMS': 0.14999999999999999},\n",
       " {'Offrate': 0.03, 'RMS': 0.16},\n",
       " {'Offrate': 0.03, 'RMS': 0.17000000000000001},\n",
       " {'Offrate': 0.03, 'RMS': 0.17999999999999999},\n",
       " {'Offrate': 0.04, 'RMS': 0.19},\n",
       " {'Offrate': 0.04, 'RMS': 0.20000000000000001},\n",
       " {'Offrate': 0.05, 'RMS': 0.20999999999999999},\n",
       " {'Offrate': 0.04, 'RMS': 0.22},\n",
       " {'Offrate': 0.04, 'RMS': 0.23000000000000001},\n",
       " {'Offrate': 0.05, 'RMS': 0.23999999999999999},\n",
       " {'Offrate': 0.05, 'RMS': 0.25},\n",
       " {'Offrate': 0.02, 'RMS': 0.26000000000000001},\n",
       " {'Offrate': 0.04, 'RMS': 0.27000000000000002},\n",
       " {'Offrate': 0.05, 'RMS': 0.28000000000000003},\n",
       " {'Offrate': 0.05, 'RMS': 0.28999999999999998},\n",
       " {'Offrate': 0.04, 'RMS': 0.29999999999999999},\n",
       " {'Offrate': 0.05, 'RMS': 0.31},\n",
       " {'Offrate': 0.04, 'RMS': 0.32000000000000001},\n",
       " {'Offrate': 0.03, 'RMS': 0.33000000000000002},\n",
       " {'Offrate': 0.03, 'RMS': 0.34000000000000002},\n",
       " {'Offrate': 0.03, 'RMS': 0.34999999999999998},\n",
       " {'Offrate': 0.05, 'RMS': 0.35999999999999999},\n",
       " {'Offrate': 0.05, 'RMS': 0.37},\n",
       " {'Offrate': 0.05, 'RMS': 0.38},\n",
       " {'Offrate': 0.02, 'RMS': 0.39000000000000001},\n",
       " {'Offrate': 0.06, 'RMS': 0.40000000000000002},\n",
       " {'Offrate': 0.05, 'RMS': 0.40999999999999998},\n",
       " {'Offrate': 0.07, 'RMS': 0.41999999999999998},\n",
       " {'Offrate': 0.09, 'RMS': 0.42999999999999999},\n",
       " {'Offrate': 0.06, 'RMS': 0.44},\n",
       " {'Offrate': 0.05, 'RMS': 0.45000000000000001},\n",
       " {'Offrate': 0.11, 'RMS': 0.46000000000000002},\n",
       " {'Offrate': 0.11, 'RMS': 0.46999999999999997},\n",
       " {'Offrate': 0.05, 'RMS': 0.47999999999999998},\n",
       " {'Offrate': 0.12, 'RMS': 0.48999999999999999},\n",
       " {'Offrate': 0.09, 'RMS': 0.5},\n",
       " {'Offrate': 0.11, 'RMS': 0.51000000000000001},\n",
       " {'Offrate': 0.11, 'RMS': 0.52000000000000002},\n",
       " {'Offrate': 0.11, 'RMS': 0.53000000000000003},\n",
       " {'Offrate': 0.05, 'RMS': 0.54000000000000004},\n",
       " {'Offrate': 0.09, 'RMS': 0.55000000000000004},\n",
       " {'Offrate': 0.14, 'RMS': 0.56000000000000005},\n",
       " {'Offrate': 0.13, 'RMS': 0.56999999999999995},\n",
       " {'Offrate': 0.03, 'RMS': 0.57999999999999996},\n",
       " {'Offrate': 0.13, 'RMS': 0.58999999999999997},\n",
       " {'Offrate': 0.08, 'RMS': 0.59999999999999998},\n",
       " {'Offrate': 0.1, 'RMS': 0.60999999999999999},\n",
       " {'Offrate': 0.12, 'RMS': 0.62},\n",
       " {'Offrate': 0.16, 'RMS': 0.63},\n",
       " {'Offrate': 0.16, 'RMS': 0.64000000000000001},\n",
       " {'Offrate': 0.04, 'RMS': 0.65000000000000002},\n",
       " {'Offrate': 0.12, 'RMS': 0.66000000000000003},\n",
       " {'Offrate': 0.04, 'RMS': 0.67000000000000004},\n",
       " {'Offrate': 0.14, 'RMS': 0.68000000000000005},\n",
       " {'Offrate': 0.11, 'RMS': 0.68999999999999995},\n",
       " {'Offrate': 0.18, 'RMS': 0.69999999999999996},\n",
       " {'Offrate': 0.14, 'RMS': 0.70999999999999996},\n",
       " {'Offrate': 0.17, 'RMS': 0.71999999999999997},\n",
       " {'Offrate': 0.3, 'RMS': 0.72999999999999998},\n",
       " {'Offrate': 0.0, 'RMS': 0.73999999999999999},\n",
       " {'Offrate': 0.14, 'RMS': 0.75},\n",
       " {'Offrate': 0.0, 'RMS': 0.76000000000000001},\n",
       " {'Offrate': 0.0, 'RMS': 0.77000000000000002},\n",
       " {'Offrate': 0.0, 'RMS': 0.78000000000000003},\n",
       " {'Offrate': 0.0, 'RMS': 0.79000000000000004},\n",
       " {'Offrate': 0.0, 'RMS': 0.80000000000000004},\n",
       " {'Offrate': 0.0, 'RMS': 0.81000000000000005},\n",
       " {'Offrate': 0.0, 'RMS': 0.81999999999999995},\n",
       " {'Offrate': 0.0, 'RMS': 0.82999999999999996},\n",
       " {'Offrate': 0.0, 'RMS': 0.83999999999999997},\n",
       " {'Offrate': 0.0, 'RMS': 0.84999999999999998},\n",
       " {'Offrate': 0.0, 'RMS': 0.85999999999999999},\n",
       " {'Offrate': 0.0, 'RMS': 0.87},\n",
       " {'Offrate': 0.0, 'RMS': 0.88},\n",
       " {'Offrate': 0.17, 'RMS': 0.89000000000000001},\n",
       " {'Offrate': 0.0, 'RMS': 0.90000000000000002},\n",
       " {'Offrate': 0.0, 'RMS': 0.91000000000000003},\n",
       " {'Offrate': 0.2, 'RMS': 0.92000000000000004},\n",
       " {'Offrate': 0.0, 'RMS': 0.93000000000000005},\n",
       " {'Offrate': 0.0, 'RMS': 0.93999999999999995},\n",
       " {'Offrate': 0.5, 'RMS': 0.94999999999999996},\n",
       " {'Offrate': 0.0, 'RMS': 0.95999999999999996},\n",
       " {'Offrate': 0.5, 'RMS': 0.96999999999999997},\n",
       " {'Offrate': 0.0, 'RMS': 0.97999999999999998},\n",
       " {'Offrate': 0.0, 'RMS': 0.98999999999999999}]"
      ]
     },
     "execution_count": 219,
     "metadata": {},
     "output_type": "execute_result"
    }
   ],
   "source": [
    "rms_and_offrate_dic"
   ]
  },
  {
   "cell_type": "code",
   "execution_count": 271,
   "metadata": {},
   "outputs": [],
   "source": [
    "\"\"\"\n",
    "dic에 doffrate 추가하기\n",
    "\"\"\"\n",
    "def get_doffrate(rms_and_offrate_dic):\n",
    "    x_bar = []\n",
    "    y_axis = []\n",
    "    for i in rms_and_offrate_dic:\n",
    "        x_bar.append(i[\"RMS\"])\n",
    "        y_axis.append(i[\"Offrate\"])\n",
    "    dx = x_bar[1] - x_bar[0]\n",
    "    dorlist = []\n",
    "    for idx, elm in enumerate(y_axis):\n",
    "        if idx == 0: # 끝이라면\n",
    "            dor = 0.0\n",
    "            dorlist.append(dor)\n",
    "        else:\n",
    "            dor = (y_axis[idx] - y_axis[idx-1]) / dx\n",
    "            dor = round(dor,3)\n",
    "            dorlist.append(dor)                \n",
    "\n",
    "    for idx, elm in enumerate(rms_and_offrate_dic):\n",
    "        elm[\"dOffrate\"] = dorlist[idx]\n",
    "\n",
    "    \"\"\"\n",
    "    float로 바꾸기\n",
    "    \"\"\"\n",
    "    \n",
    "    for idx, elm in enumerate(rms_and_offrate_dic):\n",
    "        elm[\"RMS\"] = int(elm[\"RMS\"] * 100) / 100\n",
    "        elm[\"dOffrate\"] = int(elm[\"dOffrate\"] * 100) / 100\n",
    "    \n",
    "    return rms_and_offrate_dic"
   ]
  },
  {
   "cell_type": "code",
   "execution_count": 235,
   "metadata": {
    "collapsed": true
   },
   "outputs": [],
   "source": [
    "\"\"\"\n",
    "dor이 3 이상인 밸류만 찾기\n",
    "\"\"\"\n",
    "check_dor = {}\n",
    "check_dor_list = []\n",
    "for idx, elm in enumerate(doffratelist):\n",
    "    if int(abs(elm[\"dOffrate\"])) >= 3 or idx == 0:\n",
    "        check_dor = elm\n",
    "        check_dor_list.append(check_dor)"
   ]
  },
  {
   "cell_type": "code",
   "execution_count": 236,
   "metadata": {},
   "outputs": [],
   "source": [
    "for i in check_dor_list:\n",
    "    i[\"RMS\"] = int(i[\"RMS\"] * 100)/100"
   ]
  },
  {
   "cell_type": "code",
   "execution_count": 237,
   "metadata": {
    "collapsed": true
   },
   "outputs": [
    {
     "data": {
      "text/plain": [
       "[{'Offrate': 0.0, 'RMS': 0.0, 'dOffrate': 0.0},\n",
       " {'Offrate': 0.0, 'RMS': 0.02, 'dOffrate': 3.0},\n",
       " {'Offrate': 0.03, 'RMS': 0.03, 'dOffrate': 9.0},\n",
       " {'Offrate': 0.11, 'RMS': 0.05, 'dOffrate': -3.0},\n",
       " {'Offrate': 0.08, 'RMS': 0.06, 'dOffrate': -4.0},\n",
       " {'Offrate': 0.05, 'RMS': 0.25, 'dOffrate': -3.0},\n",
       " {'Offrate': 0.05, 'RMS': 0.38, 'dOffrate': -3.0},\n",
       " {'Offrate': 0.02, 'RMS': 0.39, 'dOffrate': 4.0},\n",
       " {'Offrate': 0.09, 'RMS': 0.43, 'dOffrate': -3.0},\n",
       " {'Offrate': 0.05, 'RMS': 0.45, 'dOffrate': 6.0},\n",
       " {'Offrate': 0.11, 'RMS': 0.47, 'dOffrate': -6.0},\n",
       " {'Offrate': 0.05, 'RMS': 0.48, 'dOffrate': 7.0},\n",
       " {'Offrate': 0.12, 'RMS': 0.49, 'dOffrate': -3.0},\n",
       " {'Offrate': 0.11, 'RMS': 0.53, 'dOffrate': -6.0},\n",
       " {'Offrate': 0.05, 'RMS': 0.54, 'dOffrate': 4.0},\n",
       " {'Offrate': 0.09, 'RMS': 0.55, 'dOffrate': 5.0},\n",
       " {'Offrate': 0.13, 'RMS': 0.56, 'dOffrate': -10.0},\n",
       " {'Offrate': 0.03, 'RMS': 0.56, 'dOffrate': 10.0},\n",
       " {'Offrate': 0.13, 'RMS': 0.59, 'dOffrate': -5.0},\n",
       " {'Offrate': 0.12, 'RMS': 0.62, 'dOffrate': 4.0},\n",
       " {'Offrate': 0.16, 'RMS': 0.64, 'dOffrate': -12.0},\n",
       " {'Offrate': 0.04, 'RMS': 0.65, 'dOffrate': 8.0},\n",
       " {'Offrate': 0.12, 'RMS': 0.66, 'dOffrate': -8.0},\n",
       " {'Offrate': 0.04, 'RMS': 0.67, 'dOffrate': 10.0},\n",
       " {'Offrate': 0.14, 'RMS': 0.68, 'dOffrate': -3.0},\n",
       " {'Offrate': 0.11, 'RMS': 0.69, 'dOffrate': 7.0},\n",
       " {'Offrate': 0.18, 'RMS': 0.7, 'dOffrate': -4.0},\n",
       " {'Offrate': 0.14, 'RMS': 0.71, 'dOffrate': 3.0},\n",
       " {'Offrate': 0.17, 'RMS': 0.72, 'dOffrate': 13.0},\n",
       " {'Offrate': 0.3, 'RMS': 0.73, 'dOffrate': -30.0},\n",
       " {'Offrate': 0.0, 'RMS': 0.74, 'dOffrate': 14.0},\n",
       " {'Offrate': 0.14, 'RMS': 0.75, 'dOffrate': -14.0},\n",
       " {'Offrate': 0.0, 'RMS': 0.88, 'dOffrate': 17.0},\n",
       " {'Offrate': 0.17, 'RMS': 0.89, 'dOffrate': -17.0},\n",
       " {'Offrate': 0.0, 'RMS': 0.91, 'dOffrate': 20.0},\n",
       " {'Offrate': 0.2, 'RMS': 0.92, 'dOffrate': -20.0},\n",
       " {'Offrate': 0.0, 'RMS': 0.94, 'dOffrate': 50.0},\n",
       " {'Offrate': 0.5, 'RMS': 0.95, 'dOffrate': -50.0},\n",
       " {'Offrate': 0.0, 'RMS': 0.96, 'dOffrate': 50.0},\n",
       " {'Offrate': 0.5, 'RMS': 0.97, 'dOffrate': -50.0}]"
      ]
     },
     "execution_count": 237,
     "metadata": {},
     "output_type": "execute_result"
    }
   ],
   "source": [
    "check_dor_list"
   ]
  },
  {
   "cell_type": "code",
   "execution_count": 238,
   "metadata": {
    "collapsed": true
   },
   "outputs": [],
   "source": [
    "rms_list = []\n",
    "for i in check_dor_list:\n",
    "    rms_list.append(i[\"RMS\"])"
   ]
  },
  {
   "cell_type": "code",
   "execution_count": 259,
   "metadata": {},
   "outputs": [],
   "source": [
    "frame_len, frame_shift = _get_frame()\n",
    "rms, zcr = _get_rms_zcr()\n",
    "for i in rms_list:\n",
    "    frame_idxs = _get_frame_idxs(i, 1)\n",
    "    start_t, end_t = _getboundaries(frame_idxs, frame_len, frame_shift)\n",
    "    info_list = _arraytolist(start_t, end_t)\n",
    "    confirm_list = endpoint_connect(info_list, prm_gap=0.0,prm_len=0.0)\n",
    "    makeWavFile(confirm_list=confirm_list, rms=i)"
   ]
  },
  {
   "cell_type": "code",
   "execution_count": 261,
   "metadata": {
    "collapsed": true
   },
   "outputs": [
    {
     "data": {
      "text/plain": [
       "[[[0.080000000000000002, 0.089999999999999997], 0.01, -1],\n",
       " [[0.28999999999999998, 0.28999999999999998], 0.0, 0.20000000000000001],\n",
       " [[0.34999999999999998, 0.35999999999999999], 0.01, 0.059999999999999998],\n",
       " [[0.42999999999999999, 0.44], 0.01, 0.070000000000000007],\n",
       " [[0.47999999999999998, 0.48999999999999999], 0.01, 0.040000000000000001],\n",
       " [[0.62, 0.63], 0.01, 0.13],\n",
       " [[0.65000000000000002, 1.71], 1.0600000000000001, 0.02],\n",
       " [[1.8400000000000001, 1.8400000000000001], 0.0, 0.13],\n",
       " [[1.99, 4.3499999999999996], 2.3599999999999999, 0.14999999999999999],\n",
       " [[4.3899999999999997, 4.3899999999999997], 0.0, 0.040000000000000001],\n",
       " [[4.4699999999999998, 4.4800000000000004], 0.01, 0.080000000000000002],\n",
       " [[4.5599999999999996, 4.5599999999999996], 0.0, 0.080000000000000002],\n",
       " [[4.6500000000000004, 4.6799999999999997],\n",
       "  0.029999999999999999,\n",
       "  0.089999999999999997],\n",
       " [[4.7400000000000002, 4.75], 0.01, 0.059999999999999998],\n",
       " [[4.9699999999999998, 5.4699999999999998], 0.5, 0.22],\n",
       " [[5.5199999999999996, 5.54], 0.02, 0.050000000000000003],\n",
       " [[5.5599999999999996, 8.2899999999999991], 2.73, 0.02],\n",
       " [[8.3100000000000005, 8.75], 0.44, 0.02],\n",
       " [[8.8000000000000007, 8.8000000000000007], 0.0, 0.050000000000000003],\n",
       " [[8.8599999999999994, 8.9600000000000009],\n",
       "  0.10000000000000001,\n",
       "  0.059999999999999998],\n",
       " [[9.0299999999999994, 9.4199999999999999],\n",
       "  0.39000000000000001,\n",
       "  0.070000000000000007],\n",
       " [[9.4399999999999995, 9.4499999999999993], 0.01, 0.02],\n",
       " [[9.4900000000000002, 9.4900000000000002], 0.0, 0.040000000000000001],\n",
       " [[9.5399999999999991, 9.5399999999999991], 0.0, 0.050000000000000003],\n",
       " [[9.5700000000000003, 9.5700000000000003], 0.0, 0.029999999999999999],\n",
       " [[9.5899999999999999, 9.6099999999999994], 0.02, 0.02],\n",
       " [[9.6500000000000004, 9.6500000000000004], 0.0, 0.040000000000000001],\n",
       " [[9.6899999999999995, 9.75], 0.059999999999999998, 0.040000000000000001],\n",
       " [[9.9299999999999997, 10.02], 0.089999999999999997, 0.17999999999999999],\n",
       " [[10.1, 10.1], 0.0, 0.080000000000000002],\n",
       " [[10.130000000000001, 10.49], 0.35999999999999999, 0.029999999999999999],\n",
       " [[10.6, 11.27], 0.67000000000000004, 0.11],\n",
       " [[11.35, 11.74], 0.39000000000000001, 0.080000000000000002],\n",
       " [[11.76, 11.800000000000001], 0.040000000000000001, 0.02],\n",
       " [[11.82, 11.83], 0.01, 0.02],\n",
       " [[11.91, 11.99], 0.080000000000000002, 0.080000000000000002],\n",
       " [[12.039999999999999, 12.039999999999999], 0.0, 0.050000000000000003],\n",
       " [[12.1, 12.869999999999999], 0.77000000000000002, 0.059999999999999998],\n",
       " [[12.91, 13.33], 0.41999999999999998, 0.040000000000000001],\n",
       " [[13.359999999999999, 13.369999999999999], 0.01, 0.029999999999999999],\n",
       " [[13.4, 13.550000000000001], 0.14999999999999999, 0.029999999999999999],\n",
       " [[13.619999999999999, 13.98], 0.35999999999999999, 0.070000000000000007],\n",
       " [[14.01, 14.029999999999999], 0.02, 0.029999999999999999],\n",
       " [[14.130000000000001, 15.130000000000001], 1.0, 0.10000000000000001],\n",
       " [[15.470000000000001, 15.48], 0.01, 0.34000000000000002],\n",
       " [[15.68, 15.69], 0.01, 0.20000000000000001],\n",
       " [[15.73, 15.73], 0.0, 0.040000000000000001],\n",
       " [[15.75, 15.75], 0.0, 0.02],\n",
       " [[15.77, 16.210000000000001], 0.44, 0.02],\n",
       " [[16.41, 16.41], 0.0, 0.20000000000000001]]"
      ]
     },
     "execution_count": 261,
     "metadata": {},
     "output_type": "execute_result"
    }
   ],
   "source": [
    "frame_len, frame_shift = _get_frame()\n",
    "rms, zcr = _get_rms_zcr()\n",
    "i = rms_list[3]\n",
    "frame_idxs = _get_frame_idxs(i, 1)\n",
    "start_t, end_t = _getboundaries(frame_idxs, frame_len, frame_shift)\n",
    "info_list = _arraytolist(start_t, end_t)\n",
    "# confirm_list = endpoint_connect(info_list, prm_gap=0.0,prm_len=0.0)\n",
    "# makeWavFile(confirm_list=confirm_list, rms=i)\n",
    "info_list"
   ]
  },
  {
   "cell_type": "code",
   "execution_count": 262,
   "metadata": {
    "collapsed": true
   },
   "outputs": [],
   "source": [
    "x = np.arange(0,1,0.03)"
   ]
  },
  {
   "cell_type": "code",
   "execution_count": 278,
   "metadata": {},
   "outputs": [
    {
     "data": {
      "text/plain": [
       "[{'Offrate': 0.0, 'RMS': 0.0, 'dOffrate': 0.0},\n",
       " {'Offrate': 0.04, 'RMS': 0.03, 'dOffrate': 1.33},\n",
       " {'Offrate': 0.28, 'RMS': 0.06, 'dOffrate': 8.0},\n",
       " {'Offrate': 0.11, 'RMS': 0.09, 'dOffrate': -5.66},\n",
       " {'Offrate': 0.1, 'RMS': 0.12, 'dOffrate': -0.33},\n",
       " {'Offrate': 0.09, 'RMS': 0.15, 'dOffrate': -0.33},\n",
       " {'Offrate': 0.08, 'RMS': 0.18, 'dOffrate': -0.33},\n",
       " {'Offrate': 0.12, 'RMS': 0.21, 'dOffrate': 1.33},\n",
       " {'Offrate': 0.12, 'RMS': 0.24, 'dOffrate': 0.0},\n",
       " {'Offrate': 0.1, 'RMS': 0.27, 'dOffrate': -0.66},\n",
       " {'Offrate': 0.13, 'RMS': 0.3, 'dOffrate': 1.0},\n",
       " {'Offrate': 0.12, 'RMS': 0.33, 'dOffrate': -0.33},\n",
       " {'Offrate': 0.11, 'RMS': 0.36, 'dOffrate': -0.33},\n",
       " {'Offrate': 0.12, 'RMS': 0.39, 'dOffrate': 0.33},\n",
       " {'Offrate': 0.17, 'RMS': 0.42, 'dOffrate': 1.66},\n",
       " {'Offrate': 0.19, 'RMS': 0.45, 'dOffrate': 0.66},\n",
       " {'Offrate': 0.25, 'RMS': 0.48, 'dOffrate': 2.0},\n",
       " {'Offrate': 0.29, 'RMS': 0.51, 'dOffrate': 1.33},\n",
       " {'Offrate': 0.25, 'RMS': 0.54, 'dOffrate': -1.33},\n",
       " {'Offrate': 0.32, 'RMS': 0.56, 'dOffrate': 2.33},\n",
       " {'Offrate': 0.23, 'RMS': 0.6, 'dOffrate': -3.0},\n",
       " {'Offrate': 0.33, 'RMS': 0.63, 'dOffrate': 3.33},\n",
       " {'Offrate': 0.28, 'RMS': 0.66, 'dOffrate': -1.66},\n",
       " {'Offrate': 0.26, 'RMS': 0.69, 'dOffrate': -0.66},\n",
       " {'Offrate': 0.41, 'RMS': 0.72, 'dOffrate': 5.0},\n",
       " {'Offrate': 0.4, 'RMS': 0.75, 'dOffrate': -0.33},\n",
       " {'Offrate': 0.0, 'RMS': 0.78, 'dOffrate': -13.33},\n",
       " {'Offrate': 0.0, 'RMS': 0.81, 'dOffrate': 0.0},\n",
       " {'Offrate': 0.0, 'RMS': 0.84, 'dOffrate': 0.0},\n",
       " {'Offrate': 0.0, 'RMS': 0.87, 'dOffrate': 0.0},\n",
       " {'Offrate': 0.17, 'RMS': 0.9, 'dOffrate': 5.66},\n",
       " {'Offrate': 0.2, 'RMS': 0.93, 'dOffrate': 1.0},\n",
       " {'Offrate': 0.5, 'RMS': 0.96, 'dOffrate': 10.0},\n",
       " {'Offrate': 0.5, 'RMS': 0.99, 'dOffrate': 0.0}]"
      ]
     },
     "execution_count": 278,
     "metadata": {},
     "output_type": "execute_result"
    }
   ],
   "source": [
    "dic3 = get_offrate(x_bar=x)\n",
    "total_list = get_doffrate(dic3)\n",
    "total_list"
   ]
  },
  {
   "cell_type": "code",
   "execution_count": 274,
   "metadata": {},
   "outputs": [],
   "source": [
    "dic3\n",
    "total_list = get_doffrate(dic3)\n",
    "rms_list = []\n",
    "offrate_list = []\n",
    "doffrate_list = []\n",
    "for i in total_list:\n",
    "    rms_list.append(i[\"RMS\"])\n",
    "    offrate_list.append(i[\"Offrate\"])\n",
    "    doffrate_list.append(i['dOffrate'])"
   ]
  },
  {
   "cell_type": "code",
   "execution_count": 279,
   "metadata": {},
   "outputs": [
    {
     "data": {
      "image/png": "[encoded data removed]",
      "text/plain": [
       "<matplotlib.figure.Figure at 0x278ab682d30>"
      ]
     },
     "metadata": {},
     "output_type": "display_data"
    }
   ],
   "source": [
    "plt.figure(figsize=(14,6))\n",
    "plt.subplot(3,1,1)\n",
    "plt.plot(rms_list, offrate_list, label=\"Offrate\")\n",
    "plt.legend(loc=\"best\")\n",
    "\n",
    "plt.subplot(3,1,2)\n",
    "plt.plot(rms_list, doffrate_list, label=\"dOffrate\")\n",
    "plt.legend(loc='best')\n",
    "\n",
    "plt.show()"
   ]
  },
  {
   "cell_type": "code",
   "execution_count": 289,
   "metadata": {},
   "outputs": [],
   "source": [
    "te = tuple(offrate_list)\n",
    "offrate_array = np.asarray(te)\n",
    "te = tuple(doffrate_list)\n",
    "doffrate_array = np.asarray(te)\n",
    "\n",
    "offrate_mean = np.mean(offrate_array)\n",
    "doffrate_mean = np.mean(doffrate_array)\n",
    "offrate_std = np.std(offrate_array)\n",
    "doffrate_std = np.std(doffrate_array)"
   ]
  },
  {
   "cell_type": "code",
   "execution_count": 299,
   "metadata": {},
   "outputs": [
    {
     "data": {
      "text/plain": [
       "[{'Offrate': 0.0, 'RMS': 0.0, 'dOffrate': 0.0},\n",
       " {'Offrate': 0.04, 'RMS': 0.03, 'dOffrate': 1.33},\n",
       " {'Offrate': 0.28, 'RMS': 0.06, 'dOffrate': 8.0},\n",
       " {'Offrate': 0.11, 'RMS': 0.09, 'dOffrate': -5.66},\n",
       " {'Offrate': 0.1, 'RMS': 0.12, 'dOffrate': -0.33},\n",
       " {'Offrate': 0.09, 'RMS': 0.15, 'dOffrate': -0.33},\n",
       " {'Offrate': 0.08, 'RMS': 0.18, 'dOffrate': -0.33},\n",
       " {'Offrate': 0.12, 'RMS': 0.21, 'dOffrate': 1.33},\n",
       " {'Offrate': 0.12, 'RMS': 0.24, 'dOffrate': 0.0},\n",
       " {'Offrate': 0.1, 'RMS': 0.27, 'dOffrate': -0.66},\n",
       " {'Offrate': 0.13, 'RMS': 0.3, 'dOffrate': 1.0},\n",
       " {'Offrate': 0.12, 'RMS': 0.33, 'dOffrate': -0.33},\n",
       " {'Offrate': 0.11, 'RMS': 0.36, 'dOffrate': -0.33},\n",
       " {'Offrate': 0.12, 'RMS': 0.39, 'dOffrate': 0.33},\n",
       " {'Offrate': 0.17, 'RMS': 0.42, 'dOffrate': 1.66},\n",
       " {'Offrate': 0.19, 'RMS': 0.45, 'dOffrate': 0.66},\n",
       " {'Offrate': 0.25, 'RMS': 0.48, 'dOffrate': 2.0},\n",
       " {'Offrate': 0.29, 'RMS': 0.51, 'dOffrate': 1.33},\n",
       " {'Offrate': 0.25, 'RMS': 0.54, 'dOffrate': -1.33},\n",
       " {'Offrate': 0.32, 'RMS': 0.56, 'dOffrate': 2.33},\n",
       " {'Offrate': 0.23, 'RMS': 0.6, 'dOffrate': -3.0},\n",
       " {'Offrate': 0.33, 'RMS': 0.63, 'dOffrate': 3.33},\n",
       " {'Offrate': 0.28, 'RMS': 0.66, 'dOffrate': -1.66},\n",
       " {'Offrate': 0.26, 'RMS': 0.69, 'dOffrate': -0.66},\n",
       " {'Offrate': 0.41, 'RMS': 0.72, 'dOffrate': 5.0},\n",
       " {'Offrate': 0.4, 'RMS': 0.75, 'dOffrate': -0.33},\n",
       " {'Offrate': 0.0, 'RMS': 0.78, 'dOffrate': -13.33},\n",
       " {'Offrate': 0.0, 'RMS': 0.81, 'dOffrate': 0.0},\n",
       " {'Offrate': 0.0, 'RMS': 0.84, 'dOffrate': 0.0},\n",
       " {'Offrate': 0.0, 'RMS': 0.87, 'dOffrate': 0.0},\n",
       " {'Offrate': 0.17, 'RMS': 0.9, 'dOffrate': 5.66},\n",
       " {'Offrate': 0.2, 'RMS': 0.93, 'dOffrate': 1.0},\n",
       " {'Offrate': 0.5, 'RMS': 0.96, 'dOffrate': 10.0},\n",
       " {'Offrate': 0.5, 'RMS': 0.99, 'dOffrate': 0.0}]"
      ]
     },
     "execution_count": 299,
     "metadata": {},
     "output_type": "execute_result"
    }
   ],
   "source": [
    "total_list"
   ]
  },
  {
   "cell_type": "markdown",
   "metadata": {},
   "source": [
    "Vocal Separation"
   ]
  },
  {
   "cell_type": "code",
   "execution_count": 300,
   "metadata": {
    "collapsed": true
   },
   "outputs": [],
   "source": [
    "f_path = 'shinmina.wav'"
   ]
  },
  {
   "cell_type": "code",
   "execution_count": 301,
   "metadata": {
    "collapsed": true
   },
   "outputs": [],
   "source": [
    "from __future__ import print_function"
   ]
  },
  {
   "cell_type": "code",
   "execution_count": 302,
   "metadata": {
    "collapsed": true
   },
   "outputs": [],
   "source": [
    "y, sr = librosa.load(f_path)\n",
    "\n",
    "S_full, phase = librosa.magphase(librosa.stft(y))"
   ]
  },
  {
   "cell_type": "code",
   "execution_count": 308,
   "metadata": {},
   "outputs": [],
   "source": [
    "S_filter = librosa.decompose.nn_filter(S_full,\n",
    "                                      aggregate=np.median,\n",
    "                                      metric='cosine',\n",
    "                                      width=int(librosa.time_to_frames(2,sr=sr)))"
   ]
  },
  {
   "cell_type": "code",
   "execution_count": 310,
   "metadata": {},
   "outputs": [],
   "source": [
    "S_filter = np.minimum(S_full, S_filter)"
   ]
  },
  {
   "cell_type": "code",
   "execution_count": 311,
   "metadata": {
    "collapsed": true
   },
   "outputs": [],
   "source": [
    "margin_i, margin_v = 2, 10\n",
    "power = 2\n",
    "mask_i = librosa.util.softmask(S_filter,\n",
    "                              margin_i*(S_full-S_filter),\n",
    "                              power=power)\n",
    "\n",
    "mask_v = librosa.util.softmask(S_full - S_filter,\n",
    "                              margin_v * S_filter,\n",
    "                              power=power)\n",
    "\n",
    "S_foreground = mask_v * S_full\n",
    "S_background = mask_i * S_full"
   ]
  }
 ],
 "metadata": {
  "kernelspec": {
   "display_name": "Python (mywork)",
   "language": "python",
   "name": "myenv"
  },
  "language_info": {
   "codemirror_mode": {
    "name": "ipython",
    "version": 3
   },
   "file_extension": ".py",
   "mimetype": "text/x-python",
   "name": "python",
   "nbconvert_exporter": "python",
   "pygments_lexer": "ipython3",
   "version": "3.6.3"
  }
 },
 "nbformat": 4,
 "nbformat_minor": 2
}
