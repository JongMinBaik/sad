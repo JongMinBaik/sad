{
 "cells": [
  {
   "cell_type": "code",
   "execution_count": 1,
   "metadata": {
    "collapsed": true
   },
   "outputs": [],
   "source": [
    "import librosa\n",
    "import librosa.display\n",
    "import numpy as np\n",
    "import IPython.display as ipd\n",
    "import matplotlib.pyplot as plt\n",
    "from pydub import AudioSegment\n",
    "%matplotlib inline\n",
    "import os"
   ]
  },
  {
   "cell_type": "code",
   "execution_count": 2,
   "metadata": {
    "collapsed": true
   },
   "outputs": [],
   "source": [
    "# f_path = 'C:/Users/jmlik/Desktop/Work/mywork/simplevad/auditok_eg/jeju.wav'\n",
    "f_path = 'shinmina.wav'\n",
    "# f_path = 'sojoong2.wav'\n",
    "wave, fs = librosa.load(f_path, sr=None)\n",
    "\n",
    "# \"\"\"\n",
    "# median filtered\n",
    "# \"\"\"\n",
    "# wave = scipy.signal.medfilt(wave)\n",
    "# \"\"\"\n",
    "# normalization\n",
    "# \"\"\"\n",
    "# wave = wave / np.max(np.abs(wave), axis=0)"
   ]
  },
  {
   "cell_type": "code",
   "execution_count": 3,
   "metadata": {
    "collapsed": true
   },
   "outputs": [],
   "source": [
    "def _get_frame(frame_sample_ms=20, shift_sample_ms=10):\n",
    "    \"\"\"\n",
    "    input: frame_sample_ms(samples of window, ms단위, int)\n",
    "           shift_sample_ms(samples of shift, ms단위, int)\n",
    "    todo: frame과 hop_frame의 길이 안의 samples를 계산\n",
    "    return: frame_len, frame_shift \n",
    "            자료형은 int\n",
    "    \"\"\"\n",
    "    frame_len = int(frame_sample_ms*fs/1000) # frame_len = len_sample(ms) 만큼의 samples\n",
    "    frame_shift = int(shift_sample_ms*fs/1000)\n",
    "    return frame_len, frame_shift\n",
    "\n",
    "def _get_rms_zcr(frame_sample_ms=20, shift_sample_ms=10):\n",
    "    \"\"\"\n",
    "    input: frame_sample_ms, shift_sample_ms\n",
    "    todo: RMS, ZCR 계산 후 벡터라이징\n",
    "    return: rms, zcr\n",
    "    \"\"\"\n",
    "    # get frame_len, frame_shift\n",
    "    frame_len, frame_shift = _get_frame(frame_sample_ms, shift_sample_ms)\n",
    "    # calculate RMS\n",
    "    rms = librosa.feature.rmse(wave,frame_length=frame_len, hop_length=frame_shift)\n",
    "    rms = rms[0]\n",
    "    rms = librosa.util.normalize(rms, axis=0)\n",
    "    # calculate zero-crossing rate\n",
    "    zcr = librosa.feature.zero_crossing_rate(wave+0.02, frame_length=frame_len, hop_length=frame_shift)\n",
    "    zcr = zcr[0]\n",
    "    return rms, zcr\n",
    "    \n",
    "def _get_frame_idxs(min_rms=0.1, min_zcr=0.3):\n",
    "    \"\"\"\n",
    "    rms, zcr을 구한 뒤 실행\n",
    "    todo: rms와 zcr의 기준점을 인풋으로 하여 조건을 충족하는 element의 인덱스를 return.(현재는 임의)\n",
    "    input: min_rms, min_zcr\n",
    "    return: frame_idxs\n",
    "    \"\"\"\n",
    "    rms, zcr = _get_rms_zcr()\n",
    "    frame_idxs = np.where((rms>min_rms) | (zcr>min_zcr))[0]\n",
    "    return frame_idxs\n",
    "\n",
    "def _getboundaries(frame_idxs, frame_len, frame_shift):\n",
    "    \"\"\"\n",
    "    todo: starttime과 endtime을 구한다.\n",
    "    input: frame_idxs, frame_len,frame_shift\n",
    "    return: start_t, end_t (시작시간과 끝시간을 np.array로 리턴한다.)\n",
    "    \"\"\"\n",
    "    start_idxs = [frame_idxs[0]]\n",
    "    end_idxs = []\n",
    "    shapeOfIdxs = np.shape(frame_idxs)\n",
    "    for i in range(shapeOfIdxs[0]-1):\n",
    "        if (frame_idxs[i+1]-frame_idxs[i]) != 1:\n",
    "            end_idxs.append(frame_idxs[i])\n",
    "            start_idxs.append(frame_idxs[i+1])\n",
    "    end_idxs.append(frame_idxs[-1])\n",
    "    \n",
    "    # del the last boundaries if it is both start point and end point\n",
    "    if end_idxs[-1] == start_idxs[-1]:\n",
    "        end_idxs.pop()\n",
    "        start_idxs.pop()\n",
    "    assert len(start_idxs) == len(end_idxs), \"Error! Num of start_idxs doesnt match Num of end_idxs\"\n",
    "    start_idxs = np.array(start_idxs)\n",
    "    end_idxs = np.array(end_idxs)\n",
    "    start_t = start_idxs*frame_shift/fs\n",
    "    end_t=end_idxs*frame_shift/fs\n",
    "    return start_t, end_t\n",
    "\n",
    "def _arraytolist(start_t, end_t):\n",
    "    \"\"\"\n",
    "    todo: 시작, 끝, 구간시간, 구간별차이시간을 구해서 리턴한다.\n",
    "    input: start_t, end_t\n",
    "    output: [[start, end], 구간시간, 구간별차이시간(gap)]의 리스트\n",
    "    \"\"\"\n",
    "    tolist = list(zip(start_t, end_t))\n",
    "    info_list = []\n",
    "    for i in range(len(tolist)):\n",
    "        elm_minus = tolist[i][1] - tolist[i][0]\n",
    "        elm_minus = round(elm_minus, 3)\n",
    "        if i != 0: #이전과의 gap을측정\n",
    "            gap = tolist[i][0] - tolist[i-1][1]\n",
    "            gap = round(gap, 3)\n",
    "        else: # i==0\n",
    "            gap = -1 # 예외처리\n",
    "        to_append = [[tolist[i][0], tolist[i][1]], elm_minus, gap]\n",
    "        info_list.append(to_append)\n",
    "    return info_list \n",
    "            \n",
    "def endpoint_connect(info_list, prm_len=0.1, prm_gap=0.3):\n",
    "    \"\"\"\n",
    "    todo: 구간길이와, 구간별 gap을 통하여 endpoint를 연결하고\n",
    "          너무 짧은 구간은 삭제한다.\n",
    "    input: info_list,  prm_len(구간의 길이), prm_gap(구간별 타임코드의 차이)\n",
    "    return: confirm_list(모든 처리가 끝난 후의 리스트, info_list와 같은 형식)\n",
    "    \"\"\"\n",
    "    i = 1\n",
    "    tmp = 0\n",
    "    new_zip = [] # 간격이 벌어진 구간이 나타날 때 이전 구간을 저장하는 곳\n",
    "    confirm_list = []\n",
    "    while i < len(info_list):         \n",
    "        if info_list[i][2] <= prm_gap: # 간격이 작으면 앞의 것과 연결하기\n",
    "            info_list[tmp][0][1] = info_list[i][0][1]\n",
    "            if i == len(info_list)-1:\n",
    "                new_zip.append(info_list[tmp][0])\n",
    "        else: # 간격이 충분히 크다면\n",
    "            new_zip.append(info_list[tmp][0])\n",
    "            tmp = i # 시작 변경\n",
    "        i += 1\n",
    "    for elm in new_zip: # 확정구간중 너무 작은 구간을 제거함\n",
    "        if elm[1]-elm[0] < prm_len:\n",
    "            pass\n",
    "        else:\n",
    "            confirm_list.append(elm)\n",
    "    return confirm_list\n",
    "            "
   ]
  },
  {
   "cell_type": "code",
   "execution_count": 4,
   "metadata": {
    "collapsed": true
   },
   "outputs": [],
   "source": [
    "def audioseg(t1, t2, i=0, rms=0):\n",
    "    \"\"\"\n",
    "    todo: t1(sec), t2(sec) 사이를 잘라 지정 디렉토리에 리턴하는 함수\n",
    "    input: t1, t2\n",
    "    output: 디렉토리에 파일 생성\n",
    "    \"\"\"\n",
    "    t1 = t1*1000\n",
    "    t2 = t2*1000\n",
    "    newAudio = AudioSegment.from_wav(f_path)\n",
    "    newAudio = newAudio[t1:t2]\n",
    "    try:\n",
    "        export_path = 'C:\\\\Users\\\\jmlik\\\\Desktop\\\\Work\\\\mywork\\\\simplevad\\\\auditok_eg\\\\'+str(rms)\n",
    "        mkdir_mina = os.mkdir(export_path)\n",
    "    except:\n",
    "        export_path = 'C:\\\\Users\\\\jmlik\\\\Desktop\\\\Work\\\\mywork\\\\simplevad\\\\auditok_eg\\\\'+str(rms)\n",
    "    return newAudio.export(export_path+'\\\\newmina' +str(i)+ '.wav', format=\"wav\")\n",
    "\n",
    "def makeWavFile(confirm_list, rms):\n",
    "    for num in range(len(confirm_list)):\n",
    "        audioseg(confirm_list[num][0], confirm_list[num][1], num, rms)\n",
    "    return \"Finish\""
   ]
  },
  {
   "cell_type": "code",
   "execution_count": 5,
   "metadata": {
    "collapsed": true
   },
   "outputs": [],
   "source": [
    "def get_info_list(rms_min, zcr_min):\n",
    "    frame_len, frame_shift = _get_frame()\n",
    "    rms, zcr = _get_rms_zcr()\n",
    "    frame_idxs = _get_frame_idxs(rms_min, zcr_min)\n",
    "    start_t, end_t = _getboundaries(frame_idxs, frame_len, frame_shift)\n",
    "    info_list = _arraytolist(start_t, end_t)\n",
    "    return info_list\n",
    "\n",
    "def get_confirm_list(rms, zcr, prm_len, prm_gap):\n",
    "    info_list = get_info_list(rms, zcr)\n",
    "    confirm_list = endpoint_connect(info_list, prm_len, prm_gap)\n",
    "    return confirm_list"
   ]
  },
  {
   "cell_type": "code",
   "execution_count": 6,
   "metadata": {
    "collapsed": true
   },
   "outputs": [],
   "source": [
    "def make_x_bar(gap):\n",
    "    \"\"\"\n",
    "    rms, zcr gap으로 x_bar 만들기\n",
    "    \"\"\"\n",
    "    x_bar = np.arange(0, 1, gap)\n",
    "    return x_bar\n",
    "\n",
    "def _get_offrate_rms(x_bar):\n",
    "    \"\"\"zrc고정\"\"\"\n",
    "    prelen = len(_get_frame_idxs(0, 1))\n",
    "    nowlen = 0\n",
    "    y_bar = []\n",
    "    toreturn = []\n",
    "    toreturndic = {}\n",
    "    for i in x_bar:\n",
    "        nowlen = len(_get_frame_idxs(i, 1))\n",
    "        offrate = 1 - (nowlen/prelen)\n",
    "        offrate = round(offrate, 2)\n",
    "        toreturndic = {\"RMS\":round(i,3), \"Offrate\":offrate}\n",
    "        toreturn.append(toreturndic)\n",
    "        prelen = nowlen\n",
    "\n",
    "    return toreturn\n",
    "\n",
    "def _get_offrate_zcr(x_bar):\n",
    "    \"\"\"\n",
    "    rms 고정\n",
    "    \"\"\"    \n",
    "    prelen = len(_get_frame_idxs(1, 0))\n",
    "    nowlen = 0\n",
    "    y_bar = []\n",
    "    toreturn = []\n",
    "    toreturndic = {}\n",
    "    for i in x_bar:\n",
    "        nowlen = len(_get_frame_idxs(1, i))\n",
    "        try:\n",
    "            offrate = 1 - (nowlen/prelen)\n",
    "            offrate = round(offrate, 2)\n",
    "            toreturndic = {\"ZCR\":round(i,3), \"Offrate\":offrate}\n",
    "            toreturn.append(toreturndic)\n",
    "            prelen = nowlen\n",
    "        except:\n",
    "            offrate = 0.0\n",
    "            toreturndic = {\"ZCR\":round(i, 3), \"Offrate\":offrate}\n",
    "            toreturn.append(toreturndic)\n",
    "\n",
    "    return toreturn\n",
    "\n",
    "def _get_doffrate_rms(rms_and_offrate_dic):\n",
    "    \"\"\"\n",
    "    dic에 doffrate 추가하기\n",
    "    \"\"\"\n",
    "    x_bar = []\n",
    "    y_axis = []\n",
    "    for i in rms_and_offrate_dic:\n",
    "        x_bar.append(i[\"RMS\"])\n",
    "        y_axis.append(i[\"Offrate\"])\n",
    "    dx = x_bar[1] - x_bar[0]\n",
    "    dorlist = []\n",
    "    for idx, elm in enumerate(y_axis):\n",
    "        if idx == 0: # 끝이라면\n",
    "            dor = 0.0\n",
    "            dorlist.append(dor)\n",
    "        else:\n",
    "            dor = (y_axis[idx] - y_axis[idx-1]) / dx\n",
    "            dor = round(dor,3)\n",
    "            dorlist.append(dor)                \n",
    "\n",
    "    for idx, elm in enumerate(rms_and_offrate_dic):\n",
    "        elm[\"dOffrate\"] = dorlist[idx]\n",
    "\n",
    "    \"\"\"\n",
    "    float로 바꾸기\n",
    "    \"\"\"\n",
    "    for idx, elm in enumerate(rms_and_offrate_dic):\n",
    "        elm[\"RMS\"] = int(elm[\"RMS\"] * 100) / 100\n",
    "        elm[\"dOffrate\"] = int(elm[\"dOffrate\"] * 100) / 100\n",
    "    \n",
    "    return rms_and_offrate_dic\n",
    "\n",
    "def _get_doffrate_zcr(zcr_and_offrate_dic):\n",
    "    \"\"\"\n",
    "    dic에 doffrate 추가하기\n",
    "    \"\"\"\n",
    "    x_bar = []\n",
    "    y_axis = []\n",
    "    for i in zcr_and_offrate_dic:\n",
    "        x_bar.append(i[\"ZCR\"])\n",
    "        y_axis.append(i[\"Offrate\"])\n",
    "    dx = x_bar[1] - x_bar[0]\n",
    "    dorlist = []\n",
    "    for idx, elm in enumerate(y_axis):\n",
    "        if idx == 0: # 끝이라면\n",
    "            dor = 0.0\n",
    "            dorlist.append(dor)\n",
    "        else:\n",
    "            dor = (y_axis[idx] - y_axis[idx-1]) / dx\n",
    "            dor = round(dor,3)\n",
    "            dorlist.append(dor)                \n",
    "\n",
    "    for idx, elm in enumerate(zcr_and_offrate_dic):\n",
    "        elm[\"dOffrate\"] = dorlist[idx]\n",
    "\n",
    "    \"\"\"\n",
    "    float로 바꾸기\n",
    "    \"\"\"\n",
    "    \n",
    "    for idx, elm in enumerate(zcr_and_offrate_dic):\n",
    "        elm[\"ZCR\"] = int(elm[\"ZCR\"] * 100) / 100\n",
    "        elm[\"dOffrate\"] = int(elm[\"dOffrate\"] * 100) / 100\n",
    "    \n",
    "    return zcr_and_offrate_dic"
   ]
  },
  {
   "cell_type": "code",
   "execution_count": 67,
   "metadata": {},
   "outputs": [
    {
     "data": {
      "text/plain": [
       "array([    7,     8,     9, ..., 86513, 86514, 86515], dtype=int64)"
      ]
     },
     "execution_count": 67,
     "metadata": {},
     "output_type": "execute_result"
    }
   ],
   "source": [
    "_get_frame_idxs(1, 0)"
   ]
  },
  {
   "cell_type": "code",
   "execution_count": 92,
   "metadata": {},
   "outputs": [
    {
     "data": {
      "text/plain": [
       "[{'Offrate': 0.0, 'ZCR': 0.0},\n",
       " {'Offrate': 0.43, 'ZCR': 0.029999999999999999},\n",
       " {'Offrate': 0.7, 'ZCR': 0.059999999999999998},\n",
       " {'Offrate': 0.74, 'ZCR': 0.089999999999999997},\n",
       " {'Offrate': 0.67, 'ZCR': 0.12},\n",
       " {'Offrate': 0.62, 'ZCR': 0.14999999999999999},\n",
       " {'Offrate': 0.48, 'ZCR': 0.17999999999999999},\n",
       " {'Offrate': 0.43, 'ZCR': 0.20999999999999999},\n",
       " {'Offrate': 0.38, 'ZCR': 0.23999999999999999},\n",
       " {'Offrate': 0.24, 'ZCR': 0.27000000000000002},\n",
       " {'Offrate': 0.35, 'ZCR': 0.29999999999999999},\n",
       " {'Offrate': 0.43, 'ZCR': 0.33000000000000002},\n",
       " {'Offrate': 0.38, 'ZCR': 0.35999999999999999},\n",
       " {'Offrate': 0.0, 'ZCR': 0.39000000000000001},\n",
       " {'Offrate': 0.2, 'ZCR': 0.41999999999999998},\n",
       " {'Offrate': 0.08, 'ZCR': 0.45000000000000001},\n",
       " {'Offrate': 0.18, 'ZCR': 0.47999999999999998},\n",
       " {'Offrate': 0.44, 'ZCR': 0.51000000000000001},\n",
       " {'Offrate': 1.0, 'ZCR': 0.54000000000000004},\n",
       " {'Offrate': 0.0, 'ZCR': 0.56999999999999995},\n",
       " {'Offrate': 0.0, 'ZCR': 0.59999999999999998},\n",
       " {'Offrate': 0.0, 'ZCR': 0.63},\n",
       " {'Offrate': 0.0, 'ZCR': 0.66000000000000003},\n",
       " {'Offrate': 0.0, 'ZCR': 0.68999999999999995},\n",
       " {'Offrate': 0.0, 'ZCR': 0.71999999999999997},\n",
       " {'Offrate': 0.0, 'ZCR': 0.75},\n",
       " {'Offrate': 0.0, 'ZCR': 0.78000000000000003},\n",
       " {'Offrate': 0.0, 'ZCR': 0.81000000000000005},\n",
       " {'Offrate': 0.0, 'ZCR': 0.83999999999999997},\n",
       " {'Offrate': 0.0, 'ZCR': 0.87},\n",
       " {'Offrate': 0.0, 'ZCR': 0.90000000000000002},\n",
       " {'Offrate': 0.0, 'ZCR': 0.93000000000000005},\n",
       " {'Offrate': 0.0, 'ZCR': 0.95999999999999996},\n",
       " {'Offrate': 0.0, 'ZCR': 0.98999999999999999}]"
      ]
     },
     "execution_count": 92,
     "metadata": {},
     "output_type": "execute_result"
    }
   ],
   "source": [
    "x_bar = make_x_bar(0.03)\n",
    "# total_rms = _get_doffrate_rms(_get_offrate_rms(x_bar))\n",
    "# total_rms\n",
    "# total_zcr = _get_doffrate_zcr(_get_offrate_zcr(x_bar))\n",
    "offrate_zcr = _get_offrate_zcr(x_bar)\n",
    "offrate_zcr"
   ]
  },
  {
   "cell_type": "code",
   "execution_count": 7,
   "metadata": {
    "collapsed": true
   },
   "outputs": [],
   "source": [
    "def pick_rms(gap):\n",
    "    x = make_x_bar(gap)\n",
    "    AboutRMS = _get_doffrate_rms(_get_offrate_rms(x))\n",
    "    totalAboutRMS = []\n",
    "    for i in AboutRMS:\n",
    "        if i[\"dOffrate\"] < 0:\n",
    "            pass\n",
    "        else:\n",
    "            totalAboutRMS.append(i)\n",
    "    \"\"\"\n",
    "    dic to list\n",
    "    \"\"\"\n",
    "    offrate_list = []\n",
    "    doffrate_list = []\n",
    "    for i in totalAboutRMS:\n",
    "        offrate_list.append(i[\"Offrate\"])\n",
    "        doffrate_list.append(i[\"dOffrate\"])\n",
    "    \"\"\"\n",
    "    list to array\n",
    "    \"\"\"\n",
    "    offrate_array = np.asarray(offrate_list)\n",
    "    doffrate_array = np.asarray(doffrate_list)\n",
    "    \n",
    "    \"\"\"\n",
    "    mean, std 구하기\n",
    "    \"\"\"\n",
    "    offrate_mean = np.mean(offrate_array)\n",
    "    offrate_std = np.std(offrate_array)\n",
    "    doffrate_mean = np.mean(offrate_array)\n",
    "    \n",
    "    mul_standard = (offrate_mean + offrate_std) * doffrate_mean\n",
    "    \n",
    "    for idx,i in enumerate(totalAboutRMS):\n",
    "        if ((i[\"Offrate\"] + offrate_std) * i[\"dOffrate\"] > mul_standard\n",
    "           and i[\"Offrate\"] > offrate_mean\n",
    "           and i[\"dOffrate\"] > doffrate_mean) :\n",
    "            standard_rms = i[\"RMS\"]\n",
    "            break\n",
    "        else:\n",
    "            pass\n",
    "    \n",
    "    return standard_rms\n",
    "\n",
    "def pick_zcr(gap):\n",
    "    x = make_x_bar(gap)\n",
    "    AboutZCR = _get_doffrate_zcr(_get_offrate_zcr(x))\n",
    "    totalAboutZCR = []\n",
    "    for i in AboutZCR:\n",
    "        if i[\"dOffrate\"] < 0:\n",
    "            pass\n",
    "        else:\n",
    "            totalAboutZCR.append(i)\n",
    "    \"\"\"\n",
    "    dic to list\n",
    "    \"\"\"\n",
    "    offrate_list = []\n",
    "    doffrate_list = []\n",
    "    for i in totalAboutZCR:\n",
    "        offrate_list.append(i[\"Offrate\"])\n",
    "        doffrate_list.append(i[\"dOffrate\"])\n",
    "    \"\"\"\n",
    "    list to array\n",
    "    \"\"\"\n",
    "    offrate_array = np.asarray(offrate_list)\n",
    "    doffrate_array = np.asarray(doffrate_list)\n",
    "    \n",
    "    \"\"\"\n",
    "    mean, std 구하기\n",
    "    \"\"\"\n",
    "    offrate_mean = np.mean(offrate_array)\n",
    "    offrate_std = np.std(offrate_array)\n",
    "    doffrate_mean = np.mean(offrate_array)\n",
    "    \n",
    "    mul_standard = (offrate_mean + offrate_std) * doffrate_mean\n",
    "    \n",
    "    for idx,i in enumerate(totalAboutZCR):\n",
    "        if ((i[\"Offrate\"] + offrate_std) * i[\"dOffrate\"] > mul_standard\n",
    "           and i[\"Offrate\"] > offrate_mean\n",
    "           and i[\"dOffrate\"] > doffrate_mean) :\n",
    "            standard_zcr = i[\"ZCR\"]\n",
    "            break\n",
    "        else:\n",
    "            pass\n",
    "    \n",
    "    return standard_zcr"
   ]
  },
  {
   "cell_type": "code",
   "execution_count": 8,
   "metadata": {},
   "outputs": [
    {
     "data": {
      "text/plain": [
       "(0.04, 0.01)"
      ]
     },
     "execution_count": 8,
     "metadata": {},
     "output_type": "execute_result"
    }
   ],
   "source": [
    "rms = pick_rms(0.015)\n",
    "zcr = pick_zcr(0.015)\n",
    "rms, zcr"
   ]
  },
  {
   "cell_type": "code",
   "execution_count": 290,
   "metadata": {
    "scrolled": false
   },
   "outputs": [
    {
     "data": {
      "text/plain": [
       "'Finish'"
      ]
     },
     "execution_count": 290,
     "metadata": {},
     "output_type": "execute_result"
    }
   ],
   "source": [
    "confirm_list = get_confirm_list(rms, zcr, 0.001, 0.02)\n",
    "\"\"\"\n",
    "오디오파일 생성\n",
    "\"\"\"\n",
    "makeWavFile(confirm_list, rms=rms)"
   ]
  },
  {
   "cell_type": "code",
   "execution_count": 291,
   "metadata": {},
   "outputs": [
    {
     "data": {
      "image/png": "[encoded data removed]",
      "text/plain": [
       "<matplotlib.figure.Figure at 0x22881162828>"
      ]
     },
     "metadata": {},
     "output_type": "display_data"
    }
   ],
   "source": [
    "plt.figure(figsize=(14,6))\n",
    "t = np.linspace(0, len(wave)/fs, len(wave))\n",
    "plt.plot(t, wave, label='Waveform')\n",
    "for i in confirm_list:\n",
    "    plt.axvline(x=i[0], color=\"#d62728\")\n",
    "    plt.axvline(x=i[1], color=\"#2ca02c\")\n",
    "plt.legend(loc='best')\n",
    "plt.show()"
   ]
  },
  {
   "cell_type": "code",
   "execution_count": 9,
   "metadata": {
    "collapsed": true
   },
   "outputs": [],
   "source": [
    "import scipy"
   ]
  },
  {
   "cell_type": "code",
   "execution_count": 16,
   "metadata": {},
   "outputs": [
    {
     "data": {
      "text/plain": [
       "array(5.809805224998854e-05)"
      ]
     },
     "execution_count": 16,
     "metadata": {},
     "output_type": "execute_result"
    }
   ],
   "source": [
    "a = np.asanyarray(wave)\n",
    "m = a.mean(axis=0)\n",
    "sd = a.std(axis=0, ddof=0)\n",
    "np.where(sd==0, 0, m/sd)"
   ]
  }
 ],
 "metadata": {
  "kernelspec": {
   "display_name": "Python (mywork)",
   "language": "python",
   "name": "myenv"
  },
  "language_info": {
   "codemirror_mode": {
    "name": "ipython",
    "version": 3
   },
   "file_extension": ".py",
   "mimetype": "text/x-python",
   "name": "python",
   "nbconvert_exporter": "python",
   "pygments_lexer": "ipython3",
   "version": "3.6.3"
  }
 },
 "nbformat": 4,
 "nbformat_minor": 2
}
