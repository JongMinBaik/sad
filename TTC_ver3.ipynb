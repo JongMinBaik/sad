{
 "cells": [
  {
   "cell_type": "code",
   "execution_count": 2,
   "metadata": {
    "collapsed": true
   },
   "outputs": [],
   "source": [
    "import librosa\n",
    "import librosa.display\n",
    "import numpy as np\n",
    "from numpy import inf\n",
    "import IPython.display as ipd\n",
    "import matplotlib.pyplot as plt\n",
    "from pydub import AudioSegment\n",
    "%matplotlib inline\n",
    "import os"
   ]
  },
  {
   "cell_type": "code",
   "execution_count": null,
   "metadata": {
    "collapsed": true
   },
   "outputs": [],
   "source": [
    "f_path = '../haneul.wav'\n",
    "wave, fs = librosa.load(f_path)\n",
    "wave = wave / np.max(np.abs(wave), axis=0)"
   ]
  },
  {
   "cell_type": "code",
   "execution_count": null,
   "metadata": {
    "collapsed": true
   },
   "outputs": [],
   "source": [
    "frame_len, frame_shift = _get_frame()\n",
    "stft = librosa.stft(wave, hop_length=frame_shift, win_length=frame_len)"
   ]
  },
  {
   "cell_type": "code",
   "execution_count": 3,
   "metadata": {
    "collapsed": true
   },
   "outputs": [],
   "source": [
    "noiseDB_mean = {\n",
    "    \"Train\": 0.2737,\n",
    "    \"Airport\": 0.2157,\n",
    "    \"Street\":0.2836,\n",
    "    \"Exhibition\": 0.2671,\n",
    "    \"Station\": 0.1778,\n",
    "    \"Restaurant\": 0.1865,\n",
    "    \"Car\": 0.2611,\n",
    "    \"Babble\": 0.2983,\n",
    "}\n",
    "\n",
    "noiseDB_var = {\n",
    "    \"Train\": 0.0708,\n",
    "    \"Airport\": 0.1116,\n",
    "    \"Street\": 0.0688,\n",
    "    \"Exhibition\": 0.0674,\n",
    "    \"Station\": 0.0685,\n",
    "    \"Restaurant\": 0.1066,\n",
    "    \"Car\": 0.0770,\n",
    "    \"Babble\": 0.0891,\n",
    "}\n",
    "\n",
    "noiseDB = [\n",
    "    noiseDB_mean,\n",
    "    noiseDB_var,\n",
    "]"
   ]
  },
  {
   "cell_type": "code",
   "execution_count": 28,
   "metadata": {
    "collapsed": true
   },
   "outputs": [],
   "source": [
    "def _get_frame(frame_sample_ms=20, shift_sample_ms=10):\n",
    "    \"\"\"\n",
    "    input: frame_sample_ms(samples of window, ms단위, int)\n",
    "           shift_sample_ms(samples of shift, ms단위, int)\n",
    "    todo: frame과 hop_frame의 길이 안의 samples를 계산\n",
    "    return: frame_len, frame_shift \n",
    "            자료형은 int\n",
    "    \"\"\"\n",
    "    frame_len = int(frame_sample_ms*fs/1000) # frame_len = len_sample(ms) 만큼의 samples\n",
    "    frame_shift = int(shift_sample_ms*fs/1000)\n",
    "    return frame_len, frame_shift"
   ]
  },
  {
   "cell_type": "markdown",
   "metadata": {},
   "source": [
    "# entropy"
   ]
  },
  {
   "cell_type": "code",
   "execution_count": 5,
   "metadata": {
    "collapsed": true
   },
   "outputs": [],
   "source": [
    "\"\"\"\n",
    "Entropy\n",
    "\"\"\"\n",
    "def _get_entropy(stft):\n",
    "    \"\"\"\n",
    "    stft : numpy_array\n",
    "           stft = librosa.stft(wavefile)\n",
    "    stft된 배열의 entropy 배열을 구하는 것.\n",
    "    크기는 stft와 동일\\n\"\n",
    "    \"\"\"\n",
    "    Y = np.abs(stft)\n",
    "    sqr_Y = Y ** 2\n",
    "    div_Y = sqr_Y / np.sum(sqr_Y, axis=0)\n",
    "    oneofpart = div_Y * np.log2(div_Y) * (-1)\n",
    "    entropy = np.sum(oneofpart, axis=0)\n",
    "    return entropy\n",
    "\n",
    "def get_entropy_element(wave):\n",
    "    frame_len, frame_shift = _get_frame()\n",
    "    stft = librosa.stft(wave, hop_length=frame_shift, win_length=frame_len)\n",
    "    Y = np.abs(stft)\n",
    "    sqr_Y = Y ** 2\n",
    "    div_Y = sqr_Y / np.sum(sqr_Y, axis=0)\n",
    "    oneofpart = div_Y * np.log2(div_Y) * (-1)\n",
    "    entropy = np.sum(oneofpart, axis=0)\n",
    "    entropy[entropy == inf]=0\n",
    "    entropy = np.nan_to_num(entropy)\n",
    "    return entropy"
   ]
  },
  {
   "cell_type": "markdown",
   "metadata": {},
   "source": [
    "# Harmonics"
   ]
  },
  {
   "cell_type": "code",
   "execution_count": 6,
   "metadata": {
    "collapsed": true
   },
   "outputs": [],
   "source": [
    "\"\"\"\n",
    "Harmonics\n",
    "\"\"\"\n",
    "def _get_hpeak(stft):\n",
    "    \"\"\"\n",
    "    hpeak와 fk를 리턴하는 함수\n",
    "    hpeak는 peak된 배열\n",
    "    \"\"\"\n",
    "#     stft, _ = librosa.decompose.hpss(stft)\n",
    "    hpeak = np.zeros_like(stft)\n",
    "    hpeak = np.abs(hpeak)\n",
    "    fk = np.zeros((stft.shape[1],))\n",
    "    for i in range(stft.shape[1]): # 열기준 세로뭉텅이 자르기\n",
    "        abs_stft = np.abs(stft[:, i])\n",
    "        flag = 0\n",
    "        for idx, elm in enumerate(abs_stft):\n",
    "            if (idx == 0) or (idx == stft.shape[0] - 1):\n",
    "                pass\n",
    "            else:\n",
    "                if (abs_stft[idx] > abs_stft[idx-1]) and (abs_stft[idx] > abs_stft[idx+1]):\n",
    "                    hpeak[idx, i] = elm\n",
    "                    if flag == 0:\n",
    "                        fk[i,] = idx\n",
    "                        flag = 1\n",
    "                else:\n",
    "                    pass\n",
    "    return hpeak, fk\n",
    "\n",
    "def _get_column_harmonic(column_hpeak):\n",
    "    idx_col = np.where(column_hpeak != 0.0)[0]\n",
    "    N = idx_col.shape[0]\n",
    "    if N == 0:\n",
    "        return 0\n",
    "    mean_col = 0.0\n",
    "    var_col = 0.0\n",
    "    dist_col = 0.0\n",
    "    tmp = 0.0\n",
    "    for idx in idx_col:\n",
    "        tmp = column_hpeak[idx]\n",
    "        mean_col += tmp\n",
    "    mean_col = mean_col/N\n",
    "    tmp = 0.0\n",
    "    for idx in idx_col:\n",
    "        tmp = (column_hpeak[idx]-mean_col)**2\n",
    "        var_col += tmp\n",
    "    var_col = var_col/N\n",
    "    tmp = 0.0\n",
    "    for idx, elm in enumerate(idx_col):\n",
    "        if idx != 0:\n",
    "            tmp = (np.abs(column_hpeak[idx_col[idx]] - column_hpeak[idx_col[idx-1]]))/N\n",
    "        else:\n",
    "            tmp = column_hpeak[idx] / N\n",
    "        dist_col += tmp\n",
    "    return dist_col\n",
    "\n",
    "def _get_all_harmonics(hpeak):\n",
    "    blankarray = np.zeros((hpeak.shape[1],))\n",
    "    for i in range(hpeak.shape[1]):\n",
    "        blankarray[i] = _get_column_harmonic(hpeak[:,i])\n",
    "    harmonics = blankarray\n",
    "    return harmonics\n",
    "\n",
    "def get_harmonics_element(wave):\n",
    "    frame_len, frame_shift = _get_frame()\n",
    "    stft = librosa.stft(wave, hop_length=frame_shift, win_length=frame_len)\n",
    "    hpeak, fk = _get_hpeak(stft=stft)\n",
    "    harmonics = _get_all_harmonics(hpeak=hpeak)\n",
    "    return harmonics"
   ]
  },
  {
   "cell_type": "markdown",
   "metadata": {},
   "source": [
    "# SEM"
   ]
  },
  {
   "cell_type": "code",
   "execution_count": 7,
   "metadata": {
    "collapsed": true
   },
   "outputs": [],
   "source": [
    "\"\"\"\n",
    "SEM\n",
    "\"\"\"\n",
    "def ftobark(stft, fs):\n",
    "    freqs = librosa.core.fft_frequencies(n_fft=stft.shape[0]*2-1, sr=fs)\n",
    "    bark_freqs = 13*np.arctan(0.00076*freqs)+3.5*np.arctan(((freqs/7500)**2))\n",
    "    bark_freqs_bin = bark_freqs.astype(int)\n",
    "    bark_freqs_bin = bark_freqs_bin + 1\n",
    "    zeroscore_idx = np.where(freqs < 20)[0]\n",
    "    if zeroscore_idx.shape[0] != 0:\n",
    "        for idx in zeroscore_idx:\n",
    "            bark_freqs_bin[idx] = 0\n",
    "    \n",
    "    return bark_freqs_bin\n",
    "\n",
    "def _make_mu(stft, fs):\n",
    "    abs_stft = np.abs(stft)\n",
    "    bf = ftobark(stft, fs)\n",
    "    N = bf[-1]+1\n",
    "    fre_sum = np.sum(abs_stft, axis=0)\n",
    "    mu = fre_sum / N\n",
    "    return mu\n",
    "\n",
    "def _get_column_B(stft,stft_column, fs):\n",
    "    bf = ftobark(stft, fs)\n",
    "    N = bf[-1] + 1\n",
    "    Bshell = np.arange(N, dtype=float)\n",
    "    stft_column = np.abs(stft_column)\n",
    "    for i in range(N):\n",
    "        idx_array = np.where(bf == i)[0]\n",
    "        toadd = 0.0\n",
    "        for idx in idx_array:\n",
    "            toadd += stft_column[idx]\n",
    "#         print(toadd, i)\n",
    "        Bshell[i] = toadd\n",
    "    return Bshell\n",
    "\n",
    "def _get_all_column_B(stft, fs):\n",
    "    n = stft.shape[1]\n",
    "#     toreturn = _get_column_B(stft, stft[:, i], fs)\n",
    "    for i in range(n):\n",
    "        forreshape = _get_column_B(stft, stft[:, i], fs)\n",
    "        forstack = forreshape.reshape((forreshape.shape[0],1))\n",
    "        if i==0:\n",
    "            forreturn = forstack\n",
    "        else:\n",
    "            forreturn = np.hstack([forreturn, forstack])\n",
    "    B = forreturn\n",
    "    \n",
    "    return B\n",
    "\n",
    "def _get_Pmin(B):\n",
    "    \"\"\"\n",
    "    B는 3.9의 B\n",
    "    \"\"\"\n",
    "    return np.min(B, axis=0)\n",
    "\n",
    "def _get_PSR(B, Pmin, mu):\n",
    "    PSR = (B - Pmin)/mu\n",
    "    return PSR\n",
    "\n",
    "def _get_Bbar(B, PSR):\n",
    "    Bbar = B * PSR\n",
    "    return Bbar\n",
    "\n",
    "def _get_muhat(Bbar):\n",
    "    muhat = np.mean(Bbar, axis=0)\n",
    "    return muhat\n",
    "\n",
    "def _get_sigmahat(muhat, Bbar):\n",
    "    sigmahat = np.sqrt(np.mean((Bbar - muhat)**2, axis=0))\n",
    "    return sigmahat\n",
    "\n",
    "def _get_Bhat(Bbar, muhat, sigmahat):\n",
    "    Bhat = Bbar*((Bbar - muhat)/sigmahat)\n",
    "    Bhat = np.nan_to_num(Bhat)\n",
    "    return Bhat\n",
    "\n",
    "def get_sem_element(wave, fs):\n",
    "    \"\"\"\n",
    "    muhat: Array\n",
    "           (1, stft.shape[1])\n",
    "    sigmahat : Array\n",
    "               (1. stft.shape[1])\n",
    "    \"\"\"\n",
    "    frame_len, frame_shift = _get_frame()\n",
    "    stft = librosa.stft(wave, hop_length=frame_shift, win_length=frame_len)\n",
    "    B = _get_all_column_B(stft, fs)\n",
    "    Pmin = _get_Pmin(B)\n",
    "    mu = _make_mu(fs=fs, stft=stft)\n",
    "    PSR = _get_PSR(B, Pmin, mu)\n",
    "    Bbar = _get_Bbar(B, PSR)\n",
    "    muhat = _get_muhat(Bbar)\n",
    "    sigmahat = _get_sigmahat(muhat, Bbar)\n",
    "    muhat = np.nan_to_num(muhat)\n",
    "    sigmahat = np.nan_to_num(sigmahat)\n",
    "    return muhat, sigmahat"
   ]
  },
  {
   "cell_type": "markdown",
   "metadata": {},
   "source": [
    "# Short-term energy"
   ]
  },
  {
   "cell_type": "code",
   "execution_count": 9,
   "metadata": {
    "collapsed": true
   },
   "outputs": [],
   "source": [
    "\"\"\"\n",
    "Short-term energy\n",
    "\"\"\"\n",
    "def shortTermEnergy(stft):\n",
    "    doublestft = np.abs(stft)**2\n",
    "    lenframe = stft.shape[0]\n",
    "    return np.sum(doublestft, axis=0)/lenframe"
   ]
  },
  {
   "cell_type": "markdown",
   "metadata": {},
   "source": [
    "# Zero-crossing rate"
   ]
  },
  {
   "cell_type": "code",
   "execution_count": 10,
   "metadata": {
    "collapsed": true
   },
   "outputs": [],
   "source": [
    "\"\"\"\n",
    "Zero-crossing rate\n",
    "\"\"\"\n",
    "def get_ZCR(wave, pad=0):\n",
    "    frame_len, frame_shift = _get_frame()\n",
    "    zcr = librosa.feature.zero_crossing_rate(wave+pad, frame_length=frame_len, hop_length=frame_shift)\n",
    "    zcr = zcr[0]\n",
    "    return zcr"
   ]
  },
  {
   "cell_type": "code",
   "execution_count": 11,
   "metadata": {
    "collapsed": true
   },
   "outputs": [],
   "source": [
    "def checkpartByVariance(wave):\n",
    "    \"\"\"\n",
    "    분산으로 h0, h1 결정\n",
    "    \"\"\"\n",
    "    frame_len, frame_shift = _get_frame()\n",
    "    stft = librosa.stft(wave, hop_length=frame_shift, win_length=frame_len)\n",
    "    abs_stft = np.abs(stft)\n",
    "    var_abs_stft = np.var(abs_stft, axis=0)\n",
    "    gamma = (var_abs_stft/0.082475)\n",
    "    return np.where(gamma>1.0)[0], np.where(gamma<=1.0)[0] # noise+speech"
   ]
  },
  {
   "cell_type": "code",
   "execution_count": 12,
   "metadata": {
    "collapsed": true
   },
   "outputs": [],
   "source": [
    "def _get_normEH(wave):\n",
    "    frame_len, frame_shift = _get_frame()\n",
    "    stft = librosa.stft(wave, hop_length=frame_shift, win_length=frame_len)\n",
    "    entropy = _get_entropy(stft=stft)\n",
    "    entropy = np.nan_to_num(entropy)\n",
    "    entropy[entropy == 0]=5\n",
    "    harmonics = get_harmonics_element(wave=wave)\n",
    "    normEH = harmonics/entropy\n",
    "    normEH = normEH/np.max(normEH)\n",
    "    return normEH\n",
    "\n",
    "def get_wave_point(wave, cl=0.03, cutEH=0.95, cutN=0.95):\n",
    "    normEH = _get_normEH(wave)\n",
    "    musigma, muhat = get_sem_element(fs=fs, wave=wave)\n",
    "    Nmask = musigma + muhat\n",
    "    normN = Nmask/np.max(Nmask)\n",
    "    toadd=0.0\n",
    "    floor_EH = np.zeros_like(normEH)\n",
    "    for i in range(20):\n",
    "        toadd = 1-cl*i\n",
    "        floor_EH += np.floor(normEH+toadd)\n",
    "    floor_EH = floor_EH/np.max(floor_EH)\n",
    "    floor_EH = np.floor(floor_EH+cutEH)\n",
    "    floor_N = np.floor(normN+cutN)\n",
    "    tominusarray = np.zeros_like(floor_N)\n",
    "    for idx, elm in enumerate(floor_EH):\n",
    "        if elm == 1:\n",
    "            if floor_N[idx] == 0:\n",
    "                tominusarray[idx] = 1\n",
    "    maskingEH = floor_EH - tominusarray\n",
    "    return maskingEH"
   ]
  },
  {
   "cell_type": "code",
   "execution_count": 61,
   "metadata": {},
   "outputs": [
    {
     "name": "stderr",
     "output_type": "stream",
     "text": [
      "C:\\ProgramData\\Anaconda3\\lib\\site-packages\\ipykernel_launcher.py:13: RuntimeWarning: invalid value encountered in true_divide\n",
      "  del sys.path[0]\n",
      "C:\\ProgramData\\Anaconda3\\lib\\site-packages\\ipykernel_launcher.py:59: RuntimeWarning: invalid value encountered in true_divide\n"
     ]
    }
   ],
   "source": [
    "maskingeh = get_wave_point(hjwave)"
   ]
  },
  {
   "cell_type": "code",
   "execution_count": 13,
   "metadata": {
    "collapsed": true
   },
   "outputs": [],
   "source": [
    "def check_speech(wavepointarray, frameoffset=5):\n",
    "    wavepointarray[-1]=0\n",
    "    startflag=0\n",
    "    startpoint = 0\n",
    "    endpoint = 0\n",
    "    detectset = []\n",
    "    for idx, elm in enumerate(wavepointarray):\n",
    "        if idx < wavepointarray.shape[0]-4:\n",
    "            if startflag==0: #startpoint를 찾아야돼!\n",
    "                if (wavepointarray[idx]==1 # speech start 확인\n",
    "                   and (wavepointarray[idx+1]+wavepointarray[idx+2])!=0\n",
    "                   and wavepointarray[idx+3]==1):\n",
    "                    startflag = 1\n",
    "                    startpoint = idx\n",
    "            else: #endpoint 찾기, startflag==1\n",
    "                if (wavepointarray[idx]==0 \n",
    "                   and (wavepointarray[idx+1]+wavepointarray[idx+2])!=2\n",
    "                   and wavepointarray[idx+3]==0):\n",
    "                    endpoint = idx\n",
    "                    startflag=0\n",
    "                    detectset.append((startpoint, endpoint))\n",
    "        else:\n",
    "            if startflag==1:\n",
    "                if wavepointarray[idx]==0:\n",
    "                    endpoint = idx\n",
    "                    startflag=0\n",
    "                    detectset.append((startpoint, endpoint))\n",
    "    if len(detectset)>=1:\n",
    "        for i in detectset:\n",
    "            startcut=frameoffset\n",
    "            endcut=frameoffset\n",
    "            if i[0]<=5:\n",
    "                startcut=i[0]\n",
    "            else:\n",
    "                pass\n",
    "            if i[1] >= (wavepointarray.shape[0]-endcut+1):\n",
    "                endcut = wavepointarray.shape[0]-i[1]\n",
    "            else:\n",
    "                pass\n",
    "            wavepointarray[(i[0]-startcut):(i[1]+endcut)]=1\n",
    "    else:\n",
    "        raise \"Can't detect speech part.\"\n",
    "    return wavepointarray\n",
    "\n",
    "def check_final(wave, cl=0.05, cutEH=0.98, cutN=0.98,frameoffset=5):\n",
    "    maskingEH = get_wave_point(wave, cl, cutEH, cutN)\n",
    "    H1, H0 = checkpartByVariance(wave=wave)\n",
    "    for i in H0:\n",
    "        maskingEH[i]=0\n",
    "    print(\"Checking the speech\")\n",
    "    speechpart = check_speech(wavepointarray=maskingEH, frameoffset=frameoffset)\n",
    "    return speechpart"
   ]
  },
  {
   "cell_type": "code",
   "execution_count": 14,
   "metadata": {
    "collapsed": true
   },
   "outputs": [],
   "source": [
    "# (1/fs)*final.shape[0]*frame_shift\n",
    "def pointset(finalarray):\n",
    "    finalarray[-1] = 0\n",
    "    startflag = 0\n",
    "    startpoint = 0\n",
    "    endpoint = 0\n",
    "    pointlst = []\n",
    "    for idx, elm in enumerate(finalarray):\n",
    "        if startflag==0:\n",
    "            if elm==1:\n",
    "                startflag = 1\n",
    "                startpoint = idx\n",
    "            else:\n",
    "                pass\n",
    "        elif startflag==1:\n",
    "            if elm==0:\n",
    "                startflag = 0\n",
    "                endpoint = idx\n",
    "                pointlst.append((startpoint, endpoint))\n",
    "            else:\n",
    "                pass\n",
    "    return pointlst"
   ]
  },
  {
   "cell_type": "code",
   "execution_count": 15,
   "metadata": {
    "collapsed": true
   },
   "outputs": [],
   "source": [
    "def _audioseg(startframe, endframe, frame_shift, fs):\n",
    "    \"\"\"\n",
    "    start, end\n",
    "    \"\"\"\n",
    "    starttime = startframe * (1/fs) * frame_shift * 1000\n",
    "    endtime = endframe * (1/fs) * frame_shift * 1000\n",
    "    newAudio = AudioSegment.from_wav(f_path)\n",
    "    newAudio = newAudio[starttime: endtime]\n",
    "    return newAudio\n",
    "\n",
    "def makeWavSegFile(newAudio,dirname=\"shinminadir\", i=0):\n",
    "    try:\n",
    "        export_path = 'C:\\\\Users\\\\jmlik\\\\Desktop\\\\Work\\\\mywork\\\\simplevad\\\\auditok_eg\\\\'+dirname\n",
    "        mkdir_mina = os.mkdir(export_path)\n",
    "    except:\n",
    "        export_path = 'C:\\\\Users\\\\jmlik\\\\Desktop\\\\Work\\\\mywork\\\\simplevad\\\\auditok_eg\\\\'+dirname\n",
    "    return newAudio.export(export_path+'\\\\newmina' +str(i)+ '.wav', format=\"wav\")\n",
    "\n",
    "    \n",
    "def makeWavFile(pointset, frame_shift, fs):\n",
    "    for idx,i in enumerate(pointset):\n",
    "        startframe = i[0]\n",
    "        endframe = i[1]\n",
    "        audioseg = _audioseg(startframe, endframe, frame_shift, fs)\n",
    "        makeWavSegFile(audioseg, i=idx)\n",
    "    return \"Finish\""
   ]
  },
  {
   "cell_type": "code",
   "execution_count": null,
   "metadata": {
    "collapsed": true
   },
   "outputs": [],
   "source": [
    "pointlist = pointset(finalarray=final)\n",
    "makeWavFile(pointlist, frame_shift=frame_shift, fs=fs)"
   ]
  },
  {
   "cell_type": "markdown",
   "metadata": {},
   "source": [
    "# Hyojin!"
   ]
  },
  {
   "cell_type": "code",
   "execution_count": 52,
   "metadata": {
    "collapsed": true
   },
   "outputs": [],
   "source": [
    "filepath = \"../samples/hyojinparis.wav\"\n",
    "hjwave, hjfs = librosa.load(filepath)\n",
    "# hjwave = hjwave/np.max(hjwave)\n",
    "fs = hjfs"
   ]
  },
  {
   "cell_type": "code",
   "execution_count": 20,
   "metadata": {
    "collapsed": true
   },
   "outputs": [],
   "source": [
    "frame_len, frame_shift = _get_frame(hjfs)"
   ]
  },
  {
   "cell_type": "code",
   "execution_count": 21,
   "metadata": {
    "collapsed": true
   },
   "outputs": [],
   "source": [
    "testinputlst = [{'startTime': '3.900s', 'endTime': '4.200s', 'word': '어디에'}, \n",
    "            {'startTime': '4.200s', 'endTime': '4.500s', 'word': '있냐'}, \n",
    "            {'startTime': '4.500s', 'endTime': '4.800s', 'word': '민요'}, \n",
    "            {'startTime': '4.800s', 'endTime': '6.700s', 'word': '프랑스인가'}]\n",
    "\n",
    "def stringTofloat(inputlst):\n",
    "    \"\"\"\n",
    "    자막 한줄의 데이터를 string에서 float로 바꾸는 함수\n",
    "    바껴서 그대로 return\n",
    "    \"\"\"\n",
    "    for idx in range(len(inputlst)):\n",
    "        inputlst[idx]['startTime'] = float(inputlst[idx]['startTime'][0:5])\n",
    "        inputlst[idx]['endTime'] = float(inputlst[idx]['endTime'][0:5])\n",
    "    return inputlst\n",
    "\n",
    "def setwavepoint(includepointarray, decomposingarray):\n",
    "    tomularray = (2*decomposingarray)-1\n",
    "    return tomularray*includepointarray"
   ]
  },
  {
   "cell_type": "code",
   "execution_count": 65,
   "metadata": {},
   "outputs": [
    {
     "data": {
      "text/plain": [
       "[<matplotlib.lines.Line2D at 0x1b00899a908>]"
      ]
     },
     "execution_count": 65,
     "metadata": {},
     "output_type": "execute_result"
    },
    {
     "data": {
      "image/png": "[encoded data removed]",
      "text/plain": [
       "<matplotlib.figure.Figure at 0x1b008970e80>"
      ]
     },
     "metadata": {},
     "output_type": "display_data"
    }
   ],
   "source": [
    "plt.figure(figsize=(14,5))\n",
    "plt.subplot(211)\n",
    "plt.plot(daf[:3000])\n",
    "plt.subplot(212)\n",
    "plt.plot(hjwave[:3000*frame_shift])"
   ]
  },
  {
   "cell_type": "code",
   "execution_count": 23,
   "metadata": {
    "collapsed": true
   },
   "outputs": [],
   "source": [
    "\"\"\"\n",
    "noise 종류는 010, 0110, 01110\n",
    "앞뒤중 하나가 노이즈값에 3프레임 건너서 스피치가 나올 때 (ex. 111100010001111)\n",
    "이는 speech 뭉텅이에 합쳐주고 (앞에 합치는 것을 우선순위로 잡는다.)\n",
    "그 외의 경우는 노이즈 제거\n",
    "\"\"\"\n",
    "def denoisingAfterFinalArray(finalarray):\n",
    "    \"\"\"\n",
    "    input: finalarray(offset처리를 마친 array)\n",
    "    \"\"\"\n",
    "    for idx, elm in enumerate(finalarray):\n",
    "        if (idx>=7) and (idx <= finalarray.shape[0]-1-10): # 양끝고려\n",
    "            if (finalarray[idx] == 1 and # 010\n",
    "                finalarray[idx-1] == 0 and\n",
    "                finalarray[idx+1] == 0):\n",
    "                if np.sum(finalarray[idx-5:idx-1])==4:\n",
    "                    finalarray[idx-5:idx] = 1\n",
    "                elif np.sum(finalarray[idx+2:idx+6])==4:\n",
    "                    finalarray[idx:idx+6] = 1\n",
    "                elif np.sum(finalarray[idx-6:idx-2])==4:\n",
    "                    finalarray[idx-6:idx] = 1\n",
    "                elif np.sum(finalarray[idx+3:idx+7])==4:\n",
    "                    finalarray[idx:idx+7] = 1\n",
    "                elif np.sum(finalarray[idx-7:idx-3])==4:\n",
    "                    finalarray[idx-7:idx] = 1\n",
    "                elif np.sum(finalarray[idx+4:idx+8])==4:\n",
    "                    finalarray[idx:idx+8] = 1\n",
    "                else:\n",
    "                    finalarray[idx] = 0\n",
    "\n",
    "            elif (finalarray[idx] == 1 and # 0110\n",
    "                finalarray[idx-1] == 0 and\n",
    "                finalarray[idx+1] == 1 and\n",
    "                finalarray[idx+1] == 0):\n",
    "                if np.sum(finalarray[idx-5:idx-1])==4:\n",
    "                    finalarray[idx-5:idx] = 1\n",
    "                elif np.sum(finalarray[idx+3:idx+7])==4:\n",
    "                    finalarray[idx:idx+7] = 1\n",
    "                elif np.sum(finalarray[idx-6:idx-2])==4:\n",
    "                    finalarray[idx-6:idx] = 1\n",
    "                elif np.sum(finalarray[idx+4:idx+8])==4:\n",
    "                    finalarray[idx:idx+8] = 1\n",
    "                elif np.sum(finalarray[idx-7:idx-3])==4:\n",
    "                    finalarray[idx-7:idx] = 1\n",
    "                elif np.sum(finalarray[idx+5:idx+9])==4:\n",
    "                    finalarray[idx:idx+9] = 1\n",
    "                else:\n",
    "                    finalarray[idx] = 0\n",
    "                    finalarray[idx+1] = 0\n",
    "\n",
    "            elif (finalarray[idx] == 1 and # 01110\n",
    "                finalarray[idx-1] == 0 and\n",
    "                finalarray[idx+1] == 1 and\n",
    "                finalarray[idx+2] == 1 and\n",
    "                finalarray[idx+3] == 0):\n",
    "                if np.sum(finalarray[idx-5:idx-1])==4:\n",
    "                    finalarray[idx-5:idx] = 1\n",
    "                elif np.sum(finalarray[idx+4:idx+8])==4:\n",
    "                    finalarray[idx:idx+8] = 1\n",
    "                elif np.sum(finalarray[idx-6:idx-2])==4:\n",
    "                    finalarray[idx-6:idx] = 1\n",
    "                elif np.sum(finalarray[idx+5:idx+9])==4:\n",
    "                    finalarray[idx:idx+9] = 1\n",
    "                elif np.sum(finalarray[idx-7:idx-3])==4:\n",
    "                    finalarray[idx-7:idx] = 1\n",
    "                elif np.sum(finalarray[idx+6:idx+10])==4:\n",
    "                    finalarray[idx:idx+10] = 1\n",
    "                else:\n",
    "                    finalarray[idx] = 0    \n",
    "                    finalarray[idx+1] = 0\n",
    "                    finalarray[idx+2] = 0\n",
    "        if idx<7:\n",
    "            if idx==0:\n",
    "                finalarray[idx]=0\n",
    "            if 0<idx<6:\n",
    "                if (finalarray[idx] == 1 and # 010\n",
    "                finalarray[idx-1] == 0 and\n",
    "                finalarray[idx+1] == 0):\n",
    "                    if np.sum(finalarray[idx+1:idx+5])==4:\n",
    "                        finalarray[idx:idx+5]=1\n",
    "                    elif np.sum(finalarray[idx+2:idx+6])==4:\n",
    "                        finalarray[idx:idx+6]=1\n",
    "                    elif np.sum(finalarray[idx+3:idx+7])==4:\n",
    "                        finalarray[idx:idx+7]=1\n",
    "                    else:\n",
    "                        finalarray[idx]=0\n",
    "            \n",
    "                elif (finalarray[idx] == 1 and # 0110\n",
    "                finalarray[idx-1] == 0 and\n",
    "                finalarray[idx+1] == 1 and\n",
    "                finalarray[idx+1] == 0):\n",
    "                    if np.sum(finalarray[idx+3:idx+7])==4:\n",
    "                        finalarray[idx:idx+7] = 1\n",
    "                    elif np.sum(finalarray[idx+4:idx+8])==4:\n",
    "                        finalarray[idx:idx+8] = 1\n",
    "                    elif np.sum(finalarray[idx+5:idx+9])==4:\n",
    "                        finalarray[idx:idx+9] = 1\n",
    "                    else:\n",
    "                        finalarray[idx] = 0\n",
    "                        finalarray[idx+1] = 0\n",
    "            \n",
    "            \n",
    "                elif (finalarray[idx] == 1 and # 01110\n",
    "                finalarray[idx-1] == 0 and\n",
    "                finalarray[idx+1] == 1 and\n",
    "                finalarray[idx+2] == 1 and\n",
    "                finalarray[idx+3] == 0):\n",
    "                    if np.sum(finalarray[idx+4:idx+8])==4:\n",
    "                        finalarray[idx:idx+8] = 1\n",
    "                    elif np.sum(finalarray[idx+5:idx+9])==4:\n",
    "                        finalarray[idx:idx+9] = 1\n",
    "                    elif np.sum(finalarray[idx+6:idx+10])==4:\n",
    "                        finalarray[idx:idx+10] = 1\n",
    "                    else:\n",
    "                        finalarray[idx] = 0    \n",
    "                        finalarray[idx+1] = 0\n",
    "                        finalarray[idx+2] = 0\n",
    "            \n",
    "            if idx==6:\n",
    "                if (finalarray[idx] == 1 and # 010\n",
    "                finalarray[idx-1] == 0 and\n",
    "                finalarray[idx+1] == 0):\n",
    "                    if np.sum(finalarray[1:5])==4:\n",
    "                        finalarray[idx-1:idx+1]=0\n",
    "                    elif np.sum(finalarray[idx+1:idx+5])==4:\n",
    "                        finalarray[idx:idx+5]=1\n",
    "                    elif np.sum(finalarray[idx+2:idx+6])==4:\n",
    "                        finalarray[idx:idx+6]=1\n",
    "                    elif np.sum(finalarray[idx+3:idx+7])==4:\n",
    "                        finalarray[idx:idx+7]=1\n",
    "                    else:\n",
    "                        finalarray[idx]=0\n",
    "            \n",
    "                elif (finalarray[idx] == 1 and # 0110\n",
    "                finalarray[idx-1] == 0 and\n",
    "                finalarray[idx+1] == 1 and\n",
    "                finalarray[idx+1] == 0):\n",
    "                    if np.sum(finalarray[1:5])==4:\n",
    "                        finalarray[idx-1:idx+1]=0\n",
    "                    elif np.sum(finalarray[idx+3:idx+7])==4:\n",
    "                        finalarray[idx:idx+7] = 1\n",
    "                    elif np.sum(finalarray[idx+4:idx+8])==4:\n",
    "                        finalarray[idx:idx+8] = 1\n",
    "                    elif np.sum(finalarray[idx+5:idx+9])==4:\n",
    "                        finalarray[idx:idx+9] = 1\n",
    "                    else:\n",
    "                        finalarray[idx] = 0\n",
    "                        finalarray[idx+1] = 0\n",
    "            \n",
    "            \n",
    "                elif (finalarray[idx] == 1 and # 01110\n",
    "                finalarray[idx-1] == 0 and\n",
    "                finalarray[idx+1] == 1 and\n",
    "                finalarray[idx+2] == 1 and\n",
    "                finalarray[idx+3] == 0):\n",
    "                    if np.sum(finalarray[1:5])==4:\n",
    "                        finalarray[idx-1:idx+1]=0\n",
    "                    elif np.sum(finalarray[idx+4:idx+8])==4:\n",
    "                        finalarray[idx:idx+8] = 1\n",
    "                    elif np.sum(finalarray[idx+5:idx+9])==4:\n",
    "                        finalarray[idx:idx+9] = 1\n",
    "                    elif np.sum(finalarray[idx+6:idx+10])==4:\n",
    "                        finalarray[idx:idx+10] = 1\n",
    "                    else:\n",
    "                        finalarray[idx] = 0    \n",
    "                        finalarray[idx+1] = 0\n",
    "                        finalarray[idx+2] = 0\n",
    "    return finalarray    "
   ]
  },
  {
   "cell_type": "code",
   "execution_count": 24,
   "metadata": {
    "collapsed": true
   },
   "outputs": [],
   "source": [
    "def playAudio(sttt, endd, fs=hjfs, hop_lenght=frame_shift):\n",
    "    stt=0\n",
    "    end=0\n",
    "    if sttt>endd:\n",
    "        stt=endd\n",
    "        end=sttt\n",
    "    elif sttt<endd:\n",
    "        stt=sttt\n",
    "        end=endd\n",
    "    plt.figure(figsize=(20,6))\n",
    "    plt.subplot(311)\n",
    "    plt.plot(hjfinal1[0:1500])\n",
    "    plt.axvline(x=stt, color='g', linewidth=4)\n",
    "    plt.axvline(x=end, color='r', linewidth=4)\n",
    "    plt.subplot(312)\n",
    "    plt.plot(hjwave[:1500*frame_shift])\n",
    "    plt.axvline(x=stt*frame_shift, color='g', linewidth=4)\n",
    "    plt.axvline(x=end*frame_shift, color='r', linewidth=4)\n",
    "    plt.subplot(313)\n",
    "    plt.plot(hjwave[(stt)*frame_shift:(end)*frame_shift])\n",
    "    return ipd.Audio(hjwave[stt*frame_shift:end*frame_shift], rate=fs)"
   ]
  },
  {
   "cell_type": "code",
   "execution_count": 25,
   "metadata": {
    "collapsed": true
   },
   "outputs": [],
   "source": [
    "def get_speech_section(daf, fs, frame_shift):\n",
    "    startflag = 0\n",
    "    daf[-1] = 0\n",
    "    daf[0] = 0\n",
    "    startframe = 0\n",
    "    endframe = 0\n",
    "    Isspeech = []\n",
    "    starttime = 0.0\n",
    "    endtime = 0.0\n",
    "    toadd = 0\n",
    "    costcount = 0\n",
    "    totaltime = 0.0\n",
    "    toaddtime = 0.0\n",
    "    for idx, elm in enumerate(daf):\n",
    "        if startflag==0:\n",
    "            if elm==1:\n",
    "                startflag=1\n",
    "                startframe=idx\n",
    "            else:\n",
    "                pass   \n",
    "        elif startflag==1:\n",
    "            if elm==1:\n",
    "                pass\n",
    "            else: # elm==0:\n",
    "                startflag=0\n",
    "                endframe=idx-1\n",
    "                starttime = (1/fs)*startframe*frame_shift\n",
    "                endtime = (1/fs)*endframe*frame_shift\n",
    "                Isspeech.append({'startTime':starttime,\n",
    "                                'endTime':endtime,\n",
    "                                'word':\"\"})\n",
    "                toadd = int((endtime-starttime)/15)+1\n",
    "                costcount += toadd\n",
    "                toaddtime = endtime-starttime\n",
    "                totaltime += toaddtime\n",
    "    return Isspeech, costcount, totaltime"
   ]
  },
  {
   "cell_type": "code",
   "execution_count": 33,
   "metadata": {
    "collapsed": true
   },
   "outputs": [],
   "source": [
    "daf = denoisingAfterFinalArray(finalarray=hjfinal_zero)\n",
    "isspeech, costcnt, runtime  = get_speech_section(daf=daf, frame_shift=frame_shift, fs=hjfs)"
   ]
  },
  {
   "cell_type": "code",
   "execution_count": 32,
   "metadata": {},
   "outputs": [
    {
     "name": "stderr",
     "output_type": "stream",
     "text": [
      "C:\\ProgramData\\Anaconda3\\lib\\site-packages\\ipykernel_launcher.py:13: RuntimeWarning: invalid value encountered in true_divide\n",
      "  del sys.path[0]\n",
      "C:\\ProgramData\\Anaconda3\\lib\\site-packages\\ipykernel_launcher.py:59: RuntimeWarning: invalid value encountered in true_divide\n"
     ]
    },
    {
     "name": "stdout",
     "output_type": "stream",
     "text": [
      "Checking the speech\n"
     ]
    }
   ],
   "source": [
    "hjfinal_zero = check_final(wave=hjwave, frameoffset=15, cl=0.05, cutN=0.95, cutEH=0.96)"
   ]
  },
  {
   "cell_type": "code",
   "execution_count": 70,
   "metadata": {},
   "outputs": [
    {
     "data": {
      "text/plain": [
       "[<matplotlib.lines.Line2D at 0x1b02ae80518>]"
      ]
     },
     "execution_count": 70,
     "metadata": {},
     "output_type": "execute_result"
    },
    {
     "data": {
      "image/png": "[encoded data removed]",
      "text/plain": [
       "<matplotlib.figure.Figure at 0x1b029c2d390>"
      ]
     },
     "metadata": {},
     "output_type": "display_data"
    }
   ],
   "source": [
    "# hjtest = check_final(wave=hjwave[:6000*frame_shift], frameoffset=10, cl=0.05, cutN=0.96, cutEH=0.97)\n",
    "# daftest = denoisingAfterFinalArray(hjtest)\n",
    "plt.figure(figsize=(20,5))\n",
    "plt.subplot(211)\n",
    "plt.plot(hjtest[:700])\n",
    "plt.subplot(212)\n",
    "plt.plot(hjwave[:700*frame_shift])"
   ]
  },
  {
   "cell_type": "code",
   "execution_count": 37,
   "metadata": {
    "collapsed": true,
    "scrolled": true
   },
   "outputs": [],
   "source": [
    "#finalarray, daf, isspeech\n",
    "def makeForm(wave, fs, Isspeech,step):\n",
    "    totalWave = np.arange(0, dtype=float)\n",
    "    for i in Isspeech:\n",
    "        startframe = int(i[\"startTime\"]*fs)\n",
    "        endframe = int(i[\"endTime\"]*fs) + 1\n",
    "        waveToAdd = np.hstack([wave[startframe:endframe], np.zeros((int(fs*step),))])\n",
    "        totalWave = np.hstack([totalWave, waveToAdd])\n",
    "    return totalWave"
   ]
  },
  {
   "cell_type": "code",
   "execution_count": 38,
   "metadata": {
    "collapsed": true
   },
   "outputs": [],
   "source": [
    "form = makeForm(hjwave, hjfs, isspeech, 0.3)"
   ]
  },
  {
   "cell_type": "code",
   "execution_count": 35,
   "metadata": {
    "collapsed": true
   },
   "outputs": [],
   "source": [
    "import scipy"
   ]
  },
  {
   "cell_type": "code",
   "execution_count": 39,
   "metadata": {
    "collapsed": true
   },
   "outputs": [],
   "source": [
    "sciwav = scipy.io.wavfile.write('1secStep.wav', hjfs, form)"
   ]
  }
 ],
 "metadata": {
  "kernelspec": {
   "display_name": "Python (mywork)",
   "language": "python",
   "name": "myenv"
  },
  "language_info": {
   "codemirror_mode": {
    "name": "ipython",
    "version": 3
   },
   "file_extension": ".py",
   "mimetype": "text/x-python",
   "name": "python",
   "nbconvert_exporter": "python",
   "pygments_lexer": "ipython3",
   "version": "3.6.3"
  }
 },
 "nbformat": 4,
 "nbformat_minor": 2
}
