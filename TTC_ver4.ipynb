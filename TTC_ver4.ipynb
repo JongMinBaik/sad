{
 "cells": [
  {
   "cell_type": "code",
   "execution_count": 32,
   "metadata": {
    "collapsed": true
   },
   "outputs": [],
   "source": [
    "import librosa\n",
    "import librosa.display\n",
    "from numpy import inf\n",
    "import numpy as np\n",
    "from numpy import inf\n",
    "import IPython.display as ipd\n",
    "import matplotlib.pyplot as plt\n",
    "from pydub import AudioSegment\n",
    "%matplotlib inline\n",
    "import os\n",
    "import scipy"
   ]
  },
  {
   "cell_type": "code",
   "execution_count": 12,
   "metadata": {
    "collapsed": true
   },
   "outputs": [],
   "source": [
    "f_path = '../samples/hyojinparis.wav'\n",
    "wave, fs = librosa.load(f_path)\n",
    "wave = wave / np.max(np.abs(wave), axis=0)\n",
    "frame_len, frame_shift = _get_frame()\n",
    "# stft = librosa.stft(wave, hop_length=frame_shift, win_length=frame_len)"
   ]
  },
  {
   "cell_type": "code",
   "execution_count": 13,
   "metadata": {
    "collapsed": true
   },
   "outputs": [],
   "source": [
    "noiseDB_mean = {\n",
    "    \"Train\": 0.2737,\n",
    "    \"Airport\": 0.2157,\n",
    "    \"Street\":0.2836,\n",
    "    \"Exhibition\": 0.2671,\n",
    "    \"Station\": 0.1778,\n",
    "    \"Restaurant\": 0.1865,\n",
    "    \"Car\": 0.2611,\n",
    "    \"Babble\": 0.2983,\n",
    "}\n",
    "\n",
    "noiseDB_var = {\n",
    "    \"Train\": 0.0708,\n",
    "    \"Airport\": 0.1116,\n",
    "    \"Street\": 0.0688,\n",
    "    \"Exhibition\": 0.0674,\n",
    "    \"Station\": 0.0685,\n",
    "    \"Restaurant\": 0.1066,\n",
    "    \"Car\": 0.0770,\n",
    "    \"Babble\": 0.0891,\n",
    "}\n",
    "\n",
    "noiseDB = [\n",
    "    noiseDB_mean,\n",
    "    noiseDB_var,\n",
    "]"
   ]
  },
  {
   "cell_type": "code",
   "execution_count": 14,
   "metadata": {
    "collapsed": true
   },
   "outputs": [],
   "source": [
    "def _get_frame(frame_sample_ms=20, shift_sample_ms=10):\n",
    "    \"\"\"\n",
    "    input: frame_sample_ms(samples of window, ms단위, int)\n",
    "           shift_sample_ms(samples of shift, ms단위, int)\n",
    "    todo: frame과 hop_frame의 길이 안의 samples를 계산\n",
    "    return: frame_len, frame_shift \n",
    "            자료형은 int\n",
    "    \"\"\"\n",
    "    frame_len = int(frame_sample_ms*fs/1000) # frame_len = len_sample(ms) 만큼의 samples\n",
    "    frame_shift = int(shift_sample_ms*fs/1000)\n",
    "    return frame_len, frame_shift"
   ]
  },
  {
   "cell_type": "code",
   "execution_count": 15,
   "metadata": {
    "collapsed": true
   },
   "outputs": [],
   "source": [
    "\"\"\"\n",
    "Entropy\n",
    "\"\"\"\n",
    "def _get_entropy(stft):\n",
    "    \"\"\"\n",
    "    stft : numpy_array\n",
    "           stft = librosa.stft(wavefile)\n",
    "    stft된 배열의 entropy 배열을 구하는 것.\n",
    "    크기는 stft와 동일\\n\"\n",
    "    \"\"\"\n",
    "    Y = np.abs(stft)\n",
    "    sqr_Y = Y ** 2\n",
    "    div_Y = sqr_Y / np.sum(sqr_Y, axis=0)\n",
    "    oneofpart = div_Y * np.log2(div_Y) * (-1)\n",
    "    entropy = np.sum(oneofpart, axis=0)\n",
    "    return entropy\n",
    "\n",
    "def get_entropy_element(wave):\n",
    "    frame_len, frame_shift = _get_frame()\n",
    "    stft = librosa.stft(wave, hop_length=frame_shift, win_length=frame_len)\n",
    "    Y = np.abs(stft)\n",
    "    sqr_Y = Y ** 2\n",
    "    div_Y = sqr_Y / np.sum(sqr_Y, axis=0)\n",
    "    oneofpart = div_Y * np.log2(div_Y) * (-1)\n",
    "    entropy = np.sum(oneofpart, axis=0)\n",
    "    entropy[entropy == inf]=0\n",
    "    entropy = np.nan_to_num(entropy)\n",
    "    return entropy"
   ]
  },
  {
   "cell_type": "code",
   "execution_count": 16,
   "metadata": {
    "collapsed": true
   },
   "outputs": [],
   "source": [
    "\"\"\"\n",
    "Harmonics\n",
    "\"\"\"\n",
    "def _get_hpeak(stft):\n",
    "    \"\"\"\n",
    "    hpeak와 fk를 리턴하는 함수\n",
    "    hpeak는 peak된 배열\n",
    "    \"\"\"\n",
    "#     stft, _ = librosa.decompose.hpss(stft)\n",
    "    hpeak = np.zeros_like(stft)\n",
    "    hpeak = np.abs(hpeak)\n",
    "    fk = np.zeros((stft.shape[1],))\n",
    "    for i in range(stft.shape[1]): # 열기준 세로뭉텅이 자르기\n",
    "        abs_stft = np.abs(stft[:, i])\n",
    "        flag = 0\n",
    "        for idx, elm in enumerate(abs_stft):\n",
    "            if (idx == 0) or (idx == stft.shape[0] - 1):\n",
    "                pass\n",
    "            else:\n",
    "                if (abs_stft[idx] > abs_stft[idx-1]) and (abs_stft[idx] > abs_stft[idx+1]):\n",
    "                    hpeak[idx, i] = elm\n",
    "                    if flag == 0:\n",
    "                        fk[i,] = idx\n",
    "                        flag = 1\n",
    "                else:\n",
    "                    pass\n",
    "    return hpeak, fk\n",
    "\n",
    "def _get_column_harmonic(column_hpeak):\n",
    "    idx_col = np.where(column_hpeak != 0.0)[0]\n",
    "    N = idx_col.shape[0]\n",
    "    if N == 0:\n",
    "        return 0\n",
    "    mean_col = 0.0\n",
    "    var_col = 0.0\n",
    "    dist_col = 0.0\n",
    "    tmp = 0.0\n",
    "    for idx in idx_col:\n",
    "        tmp = column_hpeak[idx]\n",
    "        mean_col += tmp\n",
    "    mean_col = mean_col/N\n",
    "    tmp = 0.0\n",
    "    for idx in idx_col:\n",
    "        tmp = (column_hpeak[idx]-mean_col)**2\n",
    "        var_col += tmp\n",
    "    var_col = var_col/N\n",
    "    tmp = 0.0\n",
    "    for idx, elm in enumerate(idx_col):\n",
    "        if idx != 0:\n",
    "            tmp = (np.abs(column_hpeak[idx_col[idx]] - column_hpeak[idx_col[idx-1]]))/N\n",
    "        else:\n",
    "            tmp = column_hpeak[idx] / N\n",
    "        dist_col += tmp\n",
    "    return dist_col\n",
    "\n",
    "def _get_all_harmonics(hpeak):\n",
    "    blankarray = np.zeros((hpeak.shape[1],))\n",
    "    for i in range(hpeak.shape[1]):\n",
    "        blankarray[i] = _get_column_harmonic(hpeak[:,i])\n",
    "    harmonics = blankarray\n",
    "    return harmonics\n",
    "\n",
    "def get_harmonics_element(wave):\n",
    "    frame_len, frame_shift = _get_frame()\n",
    "    stft = librosa.stft(wave, hop_length=frame_shift, win_length=frame_len)\n",
    "    hpeak, fk = _get_hpeak(stft=stft)\n",
    "    harmonics = _get_all_harmonics(hpeak=hpeak)\n",
    "    return harmonics"
   ]
  },
  {
   "cell_type": "code",
   "execution_count": 17,
   "metadata": {
    "collapsed": true
   },
   "outputs": [],
   "source": [
    "\"\"\"\n",
    "SEM\n",
    "\"\"\"\n",
    "def ftobark(stft, fs):\n",
    "    freqs = librosa.core.fft_frequencies(n_fft=stft.shape[0]*2-1, sr=fs)\n",
    "    bark_freqs = 13*np.arctan(0.00076*freqs)+3.5*np.arctan(((freqs/7500)**2))\n",
    "    bark_freqs_bin = bark_freqs.astype(int)\n",
    "    bark_freqs_bin = bark_freqs_bin + 1\n",
    "    zeroscore_idx = np.where(freqs < 20)[0]\n",
    "    if zeroscore_idx.shape[0] != 0:\n",
    "        for idx in zeroscore_idx:\n",
    "            bark_freqs_bin[idx] = 0\n",
    "    \n",
    "    return bark_freqs_bin\n",
    "\n",
    "def _make_mu(stft, fs):\n",
    "    abs_stft = np.abs(stft)\n",
    "    bf = ftobark(stft, fs)\n",
    "    N = bf[-1]+1\n",
    "    fre_sum = np.sum(abs_stft, axis=0)\n",
    "    mu = fre_sum / N\n",
    "    return mu\n",
    "\n",
    "def _get_column_B(stft,stft_column, fs):\n",
    "    bf = ftobark(stft, fs)\n",
    "    N = bf[-1] + 1\n",
    "    Bshell = np.arange(N, dtype=float)\n",
    "    stft_column = np.abs(stft_column)\n",
    "    for i in range(N):\n",
    "        idx_array = np.where(bf == i)[0]\n",
    "        toadd = 0.0\n",
    "        for idx in idx_array:\n",
    "            toadd += stft_column[idx]\n",
    "#         print(toadd, i)\n",
    "        Bshell[i] = toadd\n",
    "    return Bshell\n",
    "\n",
    "def _get_all_column_B(stft, fs):\n",
    "    n = stft.shape[1]\n",
    "#     toreturn = _get_column_B(stft, stft[:, i], fs)\n",
    "    for i in range(n):\n",
    "        forreshape = _get_column_B(stft, stft[:, i], fs)\n",
    "        forstack = forreshape.reshape((forreshape.shape[0],1))\n",
    "        if i==0:\n",
    "            forreturn = forstack\n",
    "        else:\n",
    "            forreturn = np.hstack([forreturn, forstack])\n",
    "    B = forreturn\n",
    "    \n",
    "    return B\n",
    "\n",
    "def _get_Pmin(B):\n",
    "    \"\"\"\n",
    "    B는 3.9의 B\n",
    "    \"\"\"\n",
    "    return np.min(B, axis=0)\n",
    "\n",
    "def _get_PSR(B, Pmin, mu):\n",
    "    PSR = (B - Pmin)/mu\n",
    "    return PSR\n",
    "\n",
    "def _get_Bbar(B, PSR):\n",
    "    Bbar = B * PSR\n",
    "    return Bbar\n",
    "\n",
    "def _get_muhat(Bbar):\n",
    "    muhat = np.mean(Bbar, axis=0)\n",
    "    return muhat\n",
    "\n",
    "def _get_sigmahat(muhat, Bbar):\n",
    "    sigmahat = np.sqrt(np.mean((Bbar - muhat)**2, axis=0))\n",
    "    return sigmahat\n",
    "\n",
    "def _get_Bhat(Bbar, muhat, sigmahat):\n",
    "    Bhat = Bbar*((Bbar - muhat)/sigmahat)\n",
    "    Bhat = np.nan_to_num(Bhat)\n",
    "    return Bhat\n",
    "\n",
    "def get_sem_element(wave, fs):\n",
    "    \"\"\"\n",
    "    muhat: Array\n",
    "           (1, stft.shape[1])\n",
    "    sigmahat : Array\n",
    "               (1. stft.shape[1])\n",
    "    \"\"\"\n",
    "    frame_len, frame_shift = _get_frame()\n",
    "    stft = librosa.stft(wave, hop_length=frame_shift, win_length=frame_len)\n",
    "    B = _get_all_column_B(stft, fs)\n",
    "    Pmin = _get_Pmin(B)\n",
    "    mu = _make_mu(fs=fs, stft=stft)\n",
    "    PSR = _get_PSR(B, Pmin, mu)\n",
    "    Bbar = _get_Bbar(B, PSR)\n",
    "    muhat = _get_muhat(Bbar)\n",
    "    sigmahat = _get_sigmahat(muhat, Bbar)\n",
    "    muhat = np.nan_to_num(muhat)\n",
    "    sigmahat = np.nan_to_num(sigmahat)\n",
    "    return muhat, sigmahat\n",
    "\n",
    "\"\"\"\n",
    "Short-term energy\n",
    "\"\"\"\n",
    "def shortTermEnergy(stft):\n",
    "    doublestft = np.abs(stft)**2\n",
    "    lenframe = stft.shape[0]\n",
    "    return np.sum(doublestft, axis=0)/lenframe\n",
    "\n",
    "\"\"\"\n",
    "Zero-crossing rate\n",
    "\"\"\"\n",
    "def get_ZCR(wave, pad=0):\n",
    "    frame_len, frame_shift = _get_frame()\n",
    "    zcr = librosa.feature.zero_crossing_rate(wave+pad, frame_length=frame_len, hop_length=frame_shift)\n",
    "    zcr = zcr[0]\n",
    "    return zcr"
   ]
  },
  {
   "cell_type": "code",
   "execution_count": 18,
   "metadata": {
    "collapsed": true
   },
   "outputs": [],
   "source": [
    "def checkpartByVariance(wave):\n",
    "    \"\"\"\n",
    "    DB의 값에서 나온 분산을 이용해서 h0, h1 결정\n",
    "    h1 : numpy array, Speech+Noise section의 index들을 배열로 리턴\n",
    "    h0 : numpy array, Noise section의 index들을 배열로 리턴\n",
    "    \"\"\"\n",
    "    frame_len, frame_shift = _get_frame()\n",
    "    stft = librosa.stft(wave, hop_length=frame_shift, win_length=frame_len)\n",
    "    abs_stft = np.abs(stft)\n",
    "    var_abs_stft = np.var(abs_stft, axis=0)\n",
    "    gamma = (var_abs_stft/0.082475)\n",
    "    return np.where(gamma>1.0)[0], np.where(gamma<=1.0)[0] # noise+speech\n",
    "\n",
    "def _get_normEH(wave):\n",
    "    \"\"\"\n",
    "    harmonics/entropy를 표준화하여 리턴\n",
    "    normEH: 1xtime-domain-frame(numpy array)\n",
    "    \"\"\"\n",
    "    frame_len, frame_shift = _get_frame()\n",
    "    stft = librosa.stft(wave, hop_length=frame_shift, win_length=frame_len)\n",
    "    entropy = _get_entropy(stft=stft)\n",
    "    entropy = np.nan_to_num(entropy)\n",
    "    entropy[entropy == 0]=5\n",
    "    harmonics = get_harmonics_element(wave=wave)\n",
    "    normEH = harmonics/entropy\n",
    "    normEH = normEH/np.max(normEH)\n",
    "    return normEH\n",
    "\n",
    "def get_wave_point(wave, cl=0.03, cutEH=0.95, cutN=0.95):\n",
    "    \"\"\"\n",
    "    normEH로 음성부분을 포함한 후 normN으로 비음성부분을 제거하는 함수\n",
    "    maskingEH: 1xtime-domain-frame(numpy array) 값은 1,0만 있음\n",
    "    \"\"\"\n",
    "    normEH = _get_normEH(wave)\n",
    "    musigma, muhat = get_sem_element(fs=fs, wave=wave)\n",
    "    Nmask = musigma + muhat\n",
    "    normN = Nmask/np.max(Nmask)\n",
    "    toadd=0.0\n",
    "    floor_EH = np.zeros_like(normEH)\n",
    "    for i in range(20):\n",
    "        toadd = 1-cl*i\n",
    "        floor_EH += np.floor(normEH+toadd)\n",
    "    floor_EH = floor_EH/np.max(floor_EH)\n",
    "    floor_EH = np.floor(floor_EH+cutEH)\n",
    "    floor_N = np.floor(normN+cutN)\n",
    "    tominusarray = np.zeros_like(floor_N)\n",
    "    for idx, elm in enumerate(floor_EH):\n",
    "        if elm == 1:\n",
    "            if floor_N[idx] == 0:\n",
    "                tominusarray[idx] = 1\n",
    "    maskingEH = floor_EH - tominusarray\n",
    "    return maskingEH\n",
    "\n",
    "def check_speech(wavepointarray, frameoffset=5):\n",
    "    \"\"\"\n",
    "    wavepointarray에 get_wave_point()의 값을 대입\n",
    "    speech 부분에 offset을 주어서 리턴하는 함수\n",
    "    return: 1xtime-domain-frame(numpy array)\n",
    "    maskingEH에 offset을 도입한 것과 같다.\n",
    "    \"\"\"\n",
    "    wavepointarray[-1]=0\n",
    "    startflag=0\n",
    "    startpoint = 0\n",
    "    endpoint = 0\n",
    "    detectset = []\n",
    "    for idx, elm in enumerate(wavepointarray):\n",
    "        if idx < wavepointarray.shape[0]-4: \n",
    "            if startflag==0: #startpoint를 찾아야돼!\n",
    "                if (wavepointarray[idx]==1 # speech start 확인\n",
    "                   and (wavepointarray[idx+1]+wavepointarray[idx+2])!=0\n",
    "                   and wavepointarray[idx+3]==1):\n",
    "                    startflag = 1\n",
    "                    startpoint = idx\n",
    "            else: #endpoint 찾기, startflag==1\n",
    "                if (wavepointarray[idx]==0 \n",
    "                   and (wavepointarray[idx+1]+wavepointarray[idx+2])!=2\n",
    "                   and wavepointarray[idx+3]==0):\n",
    "                    endpoint = idx\n",
    "                    startflag=0\n",
    "                    detectset.append((startpoint, endpoint))\n",
    "        else:\n",
    "            if startflag==1:\n",
    "                if wavepointarray[idx]==0:\n",
    "                    endpoint = idx\n",
    "                    startflag=0\n",
    "                    detectset.append((startpoint, endpoint))\n",
    "    if len(detectset)>=1:\n",
    "        for i in detectset:\n",
    "            startcut=frameoffset\n",
    "            endcut=frameoffset\n",
    "            if i[0]<=5:\n",
    "                startcut=i[0]\n",
    "            else:\n",
    "                pass\n",
    "            if i[1] >= (wavepointarray.shape[0]-endcut+1):\n",
    "                endcut = wavepointarray.shape[0]-i[1]\n",
    "            else:\n",
    "                pass\n",
    "            wavepointarray[(i[0]-startcut):(i[1]+endcut)]=1\n",
    "    else:\n",
    "        raise \"Can't detect speech part.\"\n",
    "    return wavepointarray\n",
    "\n",
    "def check_final(wave, cl=0.05, cutEH=0.98, cutN=0.98,frameoffset=5):\n",
    "    \"\"\"\n",
    "    이것만 하면 돼!\n",
    "    \"\"\"\n",
    "    maskingEH = get_wave_point(wave, cl, cutEH, cutN)\n",
    "    H1, H0 = checkpartByVariance(wave=wave)\n",
    "    for i in H0:\n",
    "        maskingEH[i]=0\n",
    "    print(\"Checking the speech\")\n",
    "    speechpart = check_speech(wavepointarray=maskingEH, frameoffset=frameoffset)\n",
    "    finalarray = speechpart\n",
    "    return finalarray"
   ]
  },
  {
   "cell_type": "code",
   "execution_count": 19,
   "metadata": {
    "collapsed": true
   },
   "outputs": [],
   "source": [
    "# (1/fs)*final.shape[0]*frame_shift\n",
    "def pointset(finalarray):\n",
    "    finalarray[-1] = 0\n",
    "    startflag = 0\n",
    "    startpoint = 0\n",
    "    endpoint = 0\n",
    "    pointlst = []\n",
    "    for idx, elm in enumerate(finalarray):\n",
    "        if startflag==0:\n",
    "            if elm==1:\n",
    "                startflag = 1\n",
    "                startpoint = idx\n",
    "            else:\n",
    "                pass\n",
    "        elif startflag==1:\n",
    "            if elm==0:\n",
    "                startflag = 0\n",
    "                endpoint = idx\n",
    "                pointlst.append((startpoint, endpoint))\n",
    "            else:\n",
    "                pass\n",
    "    return pointlst\n",
    "\n",
    "def _audioseg(startframe, endframe, frame_shift, fs):\n",
    "    \"\"\"\n",
    "    start, end\n",
    "    \"\"\"\n",
    "    starttime = startframe * (1/fs) * frame_shift * 1000\n",
    "    endtime = endframe * (1/fs) * frame_shift * 1000\n",
    "    newAudio = AudioSegment.from_wav(f_path)\n",
    "    newAudio = newAudio[starttime: endtime]\n",
    "    return newAudio\n",
    "\n",
    "def makeWavSegFile(newAudio,dirname=\"shinminadir\", i=0):\n",
    "    try:\n",
    "        export_path = 'C:\\\\Users\\\\jmlik\\\\Desktop\\\\Work\\\\mywork\\\\simplevad\\\\auditok_eg\\\\'+dirname\n",
    "        mkdir_mina = os.mkdir(export_path)\n",
    "    except:\n",
    "        export_path = 'C:\\\\Users\\\\jmlik\\\\Desktop\\\\Work\\\\mywork\\\\simplevad\\\\auditok_eg\\\\'+dirname\n",
    "    return newAudio.export(export_path+'\\\\newmina' +str(i)+ '.wav', format=\"wav\")\n",
    "\n",
    "    \n",
    "def makeWavFile(pointset, frame_shift, fs):\n",
    "    for idx,i in enumerate(pointset):\n",
    "        startframe = i[0]\n",
    "        endframe = i[1]\n",
    "        audioseg = _audioseg(startframe, endframe, frame_shift, fs)\n",
    "        makeWavSegFile(audioseg, i=idx)\n",
    "    return \"Finish\""
   ]
  },
  {
   "cell_type": "code",
   "execution_count": 125,
   "metadata": {
    "collapsed": true
   },
   "outputs": [],
   "source": [
    "\"\"\"\n",
    "noise 종류는 010, 0110, 01110\n",
    "앞뒤중 하나가 노이즈값에 3프레임 건너서 스피치가 나올 때 (ex. 111100010001111)\n",
    "이는 speech 뭉텅이에 합쳐주고 (앞에 합치는 것을 우선순위로 잡는다.)\n",
    "그 외의 경우는 노이즈 제거\n",
    "\"\"\"\n",
    "def denoisingAfterFinalArray(finalarray):\n",
    "    \"\"\"\n",
    "    input: finalarray(offset처리를 마친 array)\n",
    "    \"\"\"\n",
    "    for idx, elm in enumerate(finalarray):\n",
    "        if (idx>=7) and (idx <= finalarray.shape[0]-1-10): # 양끝고려\n",
    "            if (finalarray[idx] == 1 and # 010\n",
    "                finalarray[idx-1] == 0 and\n",
    "                finalarray[idx+1] == 0):\n",
    "                if np.sum(finalarray[idx-5:idx-1])==4:\n",
    "                    finalarray[idx-5:idx] = 1\n",
    "                elif np.sum(finalarray[idx+2:idx+6])==4:\n",
    "                    finalarray[idx:idx+6] = 1\n",
    "                elif np.sum(finalarray[idx-6:idx-2])==4:\n",
    "                    finalarray[idx-6:idx] = 1\n",
    "                elif np.sum(finalarray[idx+3:idx+7])==4:\n",
    "                    finalarray[idx:idx+7] = 1\n",
    "                elif np.sum(finalarray[idx-7:idx-3])==4:\n",
    "                    finalarray[idx-7:idx] = 1\n",
    "                elif np.sum(finalarray[idx+4:idx+8])==4:\n",
    "                    finalarray[idx:idx+8] = 1\n",
    "                else:\n",
    "                    finalarray[idx] = 0\n",
    "\n",
    "            elif (finalarray[idx] == 1 and # 0110\n",
    "                finalarray[idx-1] == 0 and\n",
    "                finalarray[idx+1] == 1 and\n",
    "                finalarray[idx+2] == 0):\n",
    "                if np.sum(finalarray[idx-5:idx-1])==4:\n",
    "                    finalarray[idx-5:idx] = 1\n",
    "                elif np.sum(finalarray[idx+3:idx+7])==4:\n",
    "                    finalarray[idx:idx+7] = 1\n",
    "                elif np.sum(finalarray[idx-6:idx-2])==4:\n",
    "                    finalarray[idx-6:idx] = 1\n",
    "                elif np.sum(finalarray[idx+4:idx+8])==4:\n",
    "                    finalarray[idx:idx+8] = 1\n",
    "                elif np.sum(finalarray[idx-7:idx-3])==4:\n",
    "                    finalarray[idx-7:idx] = 1\n",
    "                elif np.sum(finalarray[idx+5:idx+9])==4:\n",
    "                    finalarray[idx:idx+9] = 1\n",
    "                else:\n",
    "                    finalarray[idx] = 0\n",
    "                    finalarray[idx+1] = 0\n",
    "\n",
    "            elif (finalarray[idx] == 1 and # 01110\n",
    "                finalarray[idx-1] == 0 and\n",
    "                finalarray[idx+1] == 1 and\n",
    "                finalarray[idx+2] == 1 and\n",
    "                finalarray[idx+3] == 0):\n",
    "                if np.sum(finalarray[idx-5:idx-1])==4:\n",
    "                    finalarray[idx-5:idx] = 1\n",
    "                elif np.sum(finalarray[idx+4:idx+8])==4:\n",
    "                    finalarray[idx:idx+8] = 1\n",
    "                elif np.sum(finalarray[idx-6:idx-2])==4:\n",
    "                    finalarray[idx-6:idx] = 1\n",
    "                elif np.sum(finalarray[idx+5:idx+9])==4:\n",
    "                    finalarray[idx:idx+9] = 1\n",
    "                elif np.sum(finalarray[idx-7:idx-3])==4:\n",
    "                    finalarray[idx-7:idx] = 1\n",
    "                elif np.sum(finalarray[idx+6:idx+10])==4:\n",
    "                    finalarray[idx:idx+10] = 1\n",
    "                else:\n",
    "                    finalarray[idx] = 0    \n",
    "                    finalarray[idx+1] = 0\n",
    "                    finalarray[idx+2] = 0\n",
    "        if idx<7:\n",
    "            if idx==0:\n",
    "                finalarray[idx]=0\n",
    "            if 0<idx<6:\n",
    "                if (finalarray[idx] == 1 and # 010\n",
    "                finalarray[idx-1] == 0 and\n",
    "                finalarray[idx+1] == 0):\n",
    "                    if np.sum(finalarray[idx+1:idx+5])==4:\n",
    "                        finalarray[idx:idx+5]=1\n",
    "                    elif np.sum(finalarray[idx+2:idx+6])==4:\n",
    "                        finalarray[idx:idx+6]=1\n",
    "                    elif np.sum(finalarray[idx+3:idx+7])==4:\n",
    "                        finalarray[idx:idx+7]=1\n",
    "                    else:\n",
    "                        finalarray[idx]=0\n",
    "            \n",
    "                elif (finalarray[idx] == 1 and # 0110\n",
    "                finalarray[idx-1] == 0 and\n",
    "                finalarray[idx+1] == 1 and\n",
    "                finalarray[idx+1] == 0):\n",
    "                    if np.sum(finalarray[idx+3:idx+7])==4:\n",
    "                        finalarray[idx:idx+7] = 1\n",
    "                    elif np.sum(finalarray[idx+4:idx+8])==4:\n",
    "                        finalarray[idx:idx+8] = 1\n",
    "                    elif np.sum(finalarray[idx+5:idx+9])==4:\n",
    "                        finalarray[idx:idx+9] = 1\n",
    "                    else:\n",
    "                        finalarray[idx] = 0\n",
    "                        finalarray[idx+1] = 0\n",
    "            \n",
    "            \n",
    "                elif (finalarray[idx] == 1 and # 01110\n",
    "                finalarray[idx-1] == 0 and\n",
    "                finalarray[idx+1] == 1 and\n",
    "                finalarray[idx+2] == 1 and\n",
    "                finalarray[idx+3] == 0):\n",
    "                    if np.sum(finalarray[idx+4:idx+8])==4:\n",
    "                        finalarray[idx:idx+8] = 1\n",
    "                    elif np.sum(finalarray[idx+5:idx+9])==4:\n",
    "                        finalarray[idx:idx+9] = 1\n",
    "                    elif np.sum(finalarray[idx+6:idx+10])==4:\n",
    "                        finalarray[idx:idx+10] = 1\n",
    "                    else:\n",
    "                        finalarray[idx] = 0    \n",
    "                        finalarray[idx+1] = 0\n",
    "                        finalarray[idx+2] = 0\n",
    "            \n",
    "            if idx==6:\n",
    "                if (finalarray[idx] == 1 and # 010\n",
    "                finalarray[idx-1] == 0 and\n",
    "                finalarray[idx+1] == 0):\n",
    "                    if np.sum(finalarray[1:5])==4:\n",
    "                        finalarray[idx-1:idx+1]=0\n",
    "                    elif np.sum(finalarray[idx+1:idx+5])==4:\n",
    "                        finalarray[idx:idx+5]=1\n",
    "                    elif np.sum(finalarray[idx+2:idx+6])==4:\n",
    "                        finalarray[idx:idx+6]=1\n",
    "                    elif np.sum(finalarray[idx+3:idx+7])==4:\n",
    "                        finalarray[idx:idx+7]=1\n",
    "                    else:\n",
    "                        finalarray[idx]=0\n",
    "            \n",
    "                elif (finalarray[idx] == 1 and # 0110\n",
    "                finalarray[idx-1] == 0 and\n",
    "                finalarray[idx+1] == 1 and\n",
    "                finalarray[idx+1] == 0):\n",
    "                    if np.sum(finalarray[1:5])==4:\n",
    "                        finalarray[idx-1:idx+1]=0\n",
    "                    elif np.sum(finalarray[idx+3:idx+7])==4:\n",
    "                        finalarray[idx:idx+7] = 1\n",
    "                    elif np.sum(finalarray[idx+4:idx+8])==4:\n",
    "                        finalarray[idx:idx+8] = 1\n",
    "                    elif np.sum(finalarray[idx+5:idx+9])==4:\n",
    "                        finalarray[idx:idx+9] = 1\n",
    "                    else:\n",
    "                        finalarray[idx] = 0\n",
    "                        finalarray[idx+1] = 0\n",
    "            \n",
    "            \n",
    "                elif (finalarray[idx] == 1 and # 01110\n",
    "                finalarray[idx-1] == 0 and\n",
    "                finalarray[idx+1] == 1 and\n",
    "                finalarray[idx+2] == 1 and\n",
    "                finalarray[idx+3] == 0):\n",
    "                    if np.sum(finalarray[1:5])==4:\n",
    "                        finalarray[idx-1:idx+1]=0\n",
    "                    elif np.sum(finalarray[idx+4:idx+8])==4:\n",
    "                        finalarray[idx:idx+8] = 1\n",
    "                    elif np.sum(finalarray[idx+5:idx+9])==4:\n",
    "                        finalarray[idx:idx+9] = 1\n",
    "                    elif np.sum(finalarray[idx+6:idx+10])==4:\n",
    "                        finalarray[idx:idx+10] = 1\n",
    "                    else:\n",
    "                        finalarray[idx] = 0    \n",
    "                        finalarray[idx+1] = 0\n",
    "                        finalarray[idx+2] = 0\n",
    "    return finalarray    "
   ]
  },
  {
   "cell_type": "code",
   "execution_count": 473,
   "metadata": {
    "collapsed": true
   },
   "outputs": [],
   "source": [
    "def get_speech_section(daf, fs, frame_shift):\n",
    "    startflag = 0\n",
    "    daf[-1] = 0\n",
    "    daf[0] = 0\n",
    "    startframe = 0\n",
    "    endframe = 0\n",
    "    Isspeech = []\n",
    "    Tdspeech = []\n",
    "    Fdspeech = []\n",
    "    starttime = 0.0\n",
    "    endtime = 0.0\n",
    "    Tstarttime = 0\n",
    "    Tendtime = 0\n",
    "    Fstarttime = 0\n",
    "    Fendtime = 0\n",
    "    toadd = 0\n",
    "    costcount = 0\n",
    "    totaltime = 0.0\n",
    "    toaddtime = 0.0\n",
    "    for idx, elm in enumerate(daf):\n",
    "        if startflag==0:\n",
    "            if elm==1:\n",
    "                startflag=1\n",
    "                startframe=idx\n",
    "            else:\n",
    "                pass   \n",
    "        elif startflag==1:\n",
    "            if elm==1:\n",
    "                pass\n",
    "            else: # elm==0:\n",
    "                startflag=0\n",
    "                endframe=idx-1\n",
    "                starttime = (1/fs)*startframe*frame_shift\n",
    "                endtime = (1/fs)*endframe*frame_shift\n",
    "                Fstarttime = startframe\n",
    "                Fendtime = endframe\n",
    "                Tstarttime = startframe*frame_shift\n",
    "                Tendtime = endframe*frame_shift\n",
    "                Isspeech.append({'startTime':starttime,\n",
    "                                'endTime':endtime,\n",
    "                                'word':\"\"})\n",
    "                Tdspeech.append({'startTime':Tstarttime,\n",
    "                                'endTime':Tendtime,\n",
    "                                'word':\"\"})\n",
    "                Fdspeech.append({'startTime':Fstarttime,\n",
    "                                'endTime':Fendtime,\n",
    "                                'word':\"\"})\n",
    "#                 toadd = int((endtime-starttime)/15)+1\n",
    "#                 costcount += toadd\n",
    "#                 toaddtime = endtime-starttime\n",
    "#                 totaltime += toaddtime\n",
    "    return Isspeech, Tdspeech, Fdspeech  # costcount, totaltime\n",
    "\n",
    "#finalarray, daf, isspeech\n",
    "def makeForm(wave, fs, Isspeech,step):\n",
    "    totalWave = np.arange(0, dtype=float)\n",
    "    for i in Isspeech:\n",
    "        startframe = int(i[\"startTime\"]*fs)\n",
    "        endframe = int(i[\"endTime\"]*fs) + 1\n",
    "        waveToAdd = np.hstack([wave[startframe:endframe], np.zeros((int(fs*step),))])\n",
    "        totalWave = np.hstack([totalWave, waveToAdd])\n",
    "    return totalWave\n",
    "\n",
    "def makeBridge(dAF, step):\n",
    "    \"\"\"\n",
    "    denoisingAfterFinalArray()의 값을 인풋으로 하여\n",
    "    지정 프레임내에 다시 speech가 시작하는 부분을 잇는 함수\n",
    "    \"\"\"\n",
    "    DAF = dAF.copy()\n",
    "    startframe = 0\n",
    "    endframe = 0\n",
    "    startflag = 0\n",
    "    bridgelist = []\n",
    "    for idx, elm in enumerate(DAF):\n",
    "        if idx != (DAF.shape[0]-1):\n",
    "            if startflag==0:\n",
    "                if DAF[idx]==1 and DAF[idx+1]==0:\n",
    "                    startflag=1\n",
    "                    startframe=idx+1\n",
    "                else:\n",
    "                    pass\n",
    "            else: # startflag==1\n",
    "                if DAF[idx+1]==1:\n",
    "                    startflag=0\n",
    "                    endframe = idx\n",
    "                    bridgelist.append((startframe,endframe))\n",
    "                else:\n",
    "                    pass\n",
    "    for i in bridgelist:\n",
    "        if (i[1] - i[0] + 1)<=step:\n",
    "            DAF[i[0]:i[1]+1] = 1\n",
    "        else:\n",
    "            pass\n",
    "    return DAF"
   ]
  },
  {
   "cell_type": "markdown",
   "metadata": {},
   "source": [
    "# 조효진"
   ]
  },
  {
   "cell_type": "code",
   "execution_count": 297,
   "metadata": {},
   "outputs": [
    {
     "name": "stderr",
     "output_type": "stream",
     "text": [
      "C:\\ProgramData\\Anaconda3\\lib\\site-packages\\ipykernel_launcher.py:13: RuntimeWarning: invalid value encountered in true_divide\n",
      "  del sys.path[0]\n",
      "C:\\ProgramData\\Anaconda3\\lib\\site-packages\\ipykernel_launcher.py:59: RuntimeWarning: invalid value encountered in true_divide\n"
     ]
    },
    {
     "name": "stdout",
     "output_type": "stream",
     "text": [
      "Checking the speech\n"
     ]
    }
   ],
   "source": [
    "hjfinal_zero = check_final(wave=wave, frameoffset=6, cl=0.05, cutN=0.97, cutEH=0.98)"
   ]
  },
  {
   "cell_type": "code",
   "execution_count": 298,
   "metadata": {
    "collapsed": true
   },
   "outputs": [],
   "source": [
    "daf = denoisingAfterFinalArray(finalarray=hjfinal_zero)\n",
    "isspeech, costcnt, runtime  = get_speech_section(daf=daf, frame_shift=frame_shift, fs=fs)\n",
    "hjbridge = makeBridge(daf, step=30)"
   ]
  },
  {
   "cell_type": "code",
   "execution_count": 438,
   "metadata": {
    "collapsed": true
   },
   "outputs": [],
   "source": [
    "# hjfinal_zero2 = check_final(wave=wave, frameoffset=0, cl=0.05, cutN=0.97, cutEH=0.98)\n",
    "daf2 = denoisingAfterFinalArray(finalarray=hjfinal_zero2)\n",
    "hjbridge2 = makeBridge(daf2, step=10)"
   ]
  },
  {
   "cell_type": "code",
   "execution_count": 474,
   "metadata": {
    "collapsed": true
   },
   "outputs": [],
   "source": [
    "# hjfinal_zero3 = check_final(wave=wave, frameoffset=0, cl=0.05, cutN=0.99, cutEH=0.99)\n",
    "daf3 = denoisingAfterFinalArray(finalarray=hjfinal_zero3)\n",
    "isspeech, tdspeech, fdspeech  = get_speech_section(daf=daf3, frame_shift=frame_shift, fs=fs)\n",
    "hjbridge3 = makeBridge(daf3, step=10)"
   ]
  },
  {
   "cell_type": "code",
   "execution_count": 372,
   "metadata": {
    "collapsed": true
   },
   "outputs": [],
   "source": [
    "hjbridge_zero = makeBridge(hjfinal_zero, step=30)"
   ]
  },
  {
   "cell_type": "code",
   "execution_count": 215,
   "metadata": {},
   "outputs": [
    {
     "data": {
      "text/plain": [
       "[<matplotlib.lines.Line2D at 0x2b06a28f198>]"
      ]
     },
     "execution_count": 215,
     "metadata": {},
     "output_type": "execute_result"
    },
    {
     "data": {
      "image/png": "[encoded data removed]",
      "text/plain": [
       "<matplotlib.figure.Figure at 0x2b06993d278>"
      ]
     },
     "metadata": {},
     "output_type": "display_data"
    }
   ],
   "source": [
    "plt.figure(figsize=(20,5))\n",
    "plt.subplot(311)\n",
    "plt.plot(daf[:1000])\n",
    "plt.subplot(312)\n",
    "plt.plot(hjbridge[:1000])\n",
    "plt.subplot(313)\n",
    "plt.plot(wave[:1000*frame_shift])"
   ]
  },
  {
   "cell_type": "code",
   "execution_count": 40,
   "metadata": {
    "collapsed": true
   },
   "outputs": [],
   "source": [
    "form = makeForm(wave, fs, isspeech, 1)\n",
    "scipy.io.wavfile.write('0.3secstep.wav', fs, form)"
   ]
  },
  {
   "cell_type": "markdown",
   "metadata": {},
   "source": [
    "# 설민석"
   ]
  },
  {
   "cell_type": "code",
   "execution_count": 57,
   "metadata": {
    "collapsed": true
   },
   "outputs": [],
   "source": [
    "smswave, smsfs = librosa.load('../samples/sms.wav')"
   ]
  },
  {
   "cell_type": "code",
   "execution_count": 87,
   "metadata": {},
   "outputs": [
    {
     "name": "stderr",
     "output_type": "stream",
     "text": [
      "C:\\ProgramData\\Anaconda3\\lib\\site-packages\\ipykernel_launcher.py:13: RuntimeWarning: invalid value encountered in true_divide\n",
      "  del sys.path[0]\n",
      "C:\\ProgramData\\Anaconda3\\lib\\site-packages\\ipykernel_launcher.py:59: RuntimeWarning: invalid value encountered in true_divide\n"
     ]
    },
    {
     "name": "stdout",
     "output_type": "stream",
     "text": [
      "Checking the speech\n"
     ]
    }
   ],
   "source": [
    "smsfinal_zero = check_final(wave=smswave, frameoffset=15, cl=0.05, cutN=0.99, cutEH=0.99)"
   ]
  },
  {
   "cell_type": "code",
   "execution_count": 89,
   "metadata": {
    "collapsed": true
   },
   "outputs": [],
   "source": [
    "smsdaf = denoisingAfterFinalArray(finalarray=smsfinal_zero)\n",
    "smsisspeech, costcnt, runtime  = get_speech_section(daf=smsdaf, frame_shift=frame_shift, fs=fs)"
   ]
  },
  {
   "cell_type": "code",
   "execution_count": 63,
   "metadata": {
    "collapsed": true
   },
   "outputs": [],
   "source": [
    "smsform = makeForm(smswave, fs, smsisspeech, 1)\n",
    "scipy.io.wavfile.write('sms.wav', fs, smsform)"
   ]
  },
  {
   "cell_type": "code",
   "execution_count": 133,
   "metadata": {},
   "outputs": [
    {
     "name": "stderr",
     "output_type": "stream",
     "text": [
      "C:\\ProgramData\\Anaconda3\\lib\\site-packages\\ipykernel_launcher.py:13: RuntimeWarning: invalid value encountered in true_divide\n",
      "  del sys.path[0]\n",
      "C:\\ProgramData\\Anaconda3\\lib\\site-packages\\ipykernel_launcher.py:59: RuntimeWarning: invalid value encountered in true_divide\n"
     ]
    },
    {
     "name": "stdout",
     "output_type": "stream",
     "text": [
      "Checking the speech\n"
     ]
    }
   ],
   "source": [
    "smsfinal_test = check_final(wave=smswave[:5000*frame_shift], frameoffset=15, cl=0.05, cutN=0.96, cutEH=0.98)\n",
    "smsdaf_test = denoisingAfterFinalArray(finalarray=smsfinal_test)"
   ]
  },
  {
   "cell_type": "code",
   "execution_count": 141,
   "metadata": {
    "collapsed": true
   },
   "outputs": [],
   "source": [
    "smsisspeech_test, costcnt, runtime  = get_speech_section(daf=smsdaf_test, frame_shift=frame_shift, fs=fs)\n",
    "smsform_test = makeForm(smswave[:10000*frame_shift], fs, smsisspeech_test, 1)\n",
    "scipy.io.wavfile.write('sms_test.wav', fs, smsform_test)"
   ]
  },
  {
   "cell_type": "code",
   "execution_count": 142,
   "metadata": {},
   "outputs": [
    {
     "data": {
      "text/plain": [
       "[<matplotlib.lines.Line2D at 0x2b044b78860>]"
      ]
     },
     "execution_count": 142,
     "metadata": {},
     "output_type": "execute_result"
    },
    {
     "data": {
      "image/png": "[encoded data removed]",
      "text/plain": [
       "<matplotlib.figure.Figure at 0x2b0445b2e80>"
      ]
     },
     "metadata": {},
     "output_type": "display_data"
    }
   ],
   "source": [
    "plt.figure(figsize=(20,5))\n",
    "plt.subplot(211)\n",
    "plt.plot(smsdaf_test[1000:5000])\n",
    "plt.subplot(212)\n",
    "plt.plot(smswave[1000*frame_shift:5000*frame_shift])"
   ]
  },
  {
   "cell_type": "markdown",
   "metadata": {},
   "source": [
    "# Jeju"
   ]
  },
  {
   "cell_type": "code",
   "execution_count": 97,
   "metadata": {
    "collapsed": true
   },
   "outputs": [],
   "source": [
    "jjwave, jjfs = librosa.load('../samples/jeju.wav')"
   ]
  },
  {
   "cell_type": "code",
   "execution_count": 131,
   "metadata": {},
   "outputs": [
    {
     "name": "stderr",
     "output_type": "stream",
     "text": [
      "C:\\ProgramData\\Anaconda3\\lib\\site-packages\\ipykernel_launcher.py:13: RuntimeWarning: invalid value encountered in true_divide\n",
      "  del sys.path[0]\n",
      "C:\\ProgramData\\Anaconda3\\lib\\site-packages\\ipykernel_launcher.py:59: RuntimeWarning: invalid value encountered in true_divide\n"
     ]
    },
    {
     "name": "stdout",
     "output_type": "stream",
     "text": [
      "Checking the speech\n"
     ]
    }
   ],
   "source": [
    "jjfinal_test = check_final(wave=jjwave[:5000*frame_shift], frameoffset=10, cl=0.05, cutN=0.95, cutEH=0.85)\n",
    "jjdaf_test = denoisingAfterFinalArray(finalarray=jjfinal_test)"
   ]
  },
  {
   "cell_type": "code",
   "execution_count": 103,
   "metadata": {
    "collapsed": true
   },
   "outputs": [],
   "source": [
    "jjisspeech_test, costcnt, runtime  = get_speech_section(daf=jjdaf_test, frame_shift=frame_shift, fs=fs)\n",
    "jjform_test = makeForm(jjwave[:10000*frame_shift], fs, jjisspeech_test, 1)\n",
    "scipy.io.wavfile.write('jj_test.wav', fs, jjform_test)"
   ]
  },
  {
   "cell_type": "code",
   "execution_count": 132,
   "metadata": {},
   "outputs": [
    {
     "data": {
      "text/plain": [
       "[<matplotlib.lines.Line2D at 0x2b02adc7588>]"
      ]
     },
     "execution_count": 132,
     "metadata": {},
     "output_type": "execute_result"
    },
    {
     "data": {
      "image/png": "[encoded data removed]",
      "text/plain": [
       "<matplotlib.figure.Figure at 0x2b02ad094e0>"
      ]
     },
     "metadata": {},
     "output_type": "display_data"
    }
   ],
   "source": [
    "plt.figure(figsize=(20,5))\n",
    "plt.subplot(211)\n",
    "plt.plot(jjfinal_test[:1000])\n",
    "plt.subplot(212)\n",
    "plt.plot(jjwave[:1000*frame_shift])"
   ]
  },
  {
   "cell_type": "markdown",
   "metadata": {},
   "source": [
    "# Hojin data 처리"
   ]
  },
  {
   "cell_type": "code",
   "execution_count": 218,
   "metadata": {
    "collapsed": true
   },
   "outputs": [],
   "source": [
    "import csv\n",
    "csv_hj_path = \"../samples/hyojin.csv\""
   ]
  },
  {
   "cell_type": "code",
   "execution_count": 230,
   "metadata": {
    "collapsed": true
   },
   "outputs": [],
   "source": [
    "data_hj = []\n",
    "with open(csv_hj_path, 'r', encoding='utf-16') as reader:\n",
    "    for line in reader:\n",
    "        data_hj.append(line.split('\"')[1])"
   ]
  },
  {
   "cell_type": "code",
   "execution_count": 228,
   "metadata": {
    "collapsed": true
   },
   "outputs": [],
   "source": [
    "for idx,i in enumerate(data_hj):\n",
    "    data_hj[idx] = i.replace(']', '[').split('[')[1]"
   ]
  },
  {
   "cell_type": "code",
   "execution_count": 245,
   "metadata": {},
   "outputs": [
    {
     "data": {
      "text/plain": [
       "9"
      ]
     },
     "execution_count": 245,
     "metadata": {},
     "output_type": "execute_result"
    }
   ],
   "source": [
    "len(data_hj[0].split(\",\"))"
   ]
  },
  {
   "cell_type": "code",
   "execution_count": 261,
   "metadata": {
    "collapsed": true
   },
   "outputs": [],
   "source": [
    "def _stringDataToRealData(stringData):\n",
    "    \"\"\"\n",
    "    데이터 리스트로 리턴\n",
    "    \"\"\"\n",
    "    toReturnLst = []\n",
    "    numOfWord = int((len(stringData.split(\",\")))/3)\n",
    "    for i in range(numOfWord):\n",
    "        startTime = float(stringData.split(\",\")[i*3].split(\"'\")[3].replace(\"s\",\"\"))\n",
    "        endTime = float(stringData.split(\",\")[i*3 + 1].split(\"'\")[3].replace(\"s\",\"\"))\n",
    "        word = (stringData.split(\",\")[i*3 + 2].split(\"'\")[3].replace(\"s\",\"\"))\n",
    "        toReturnLst.append({'startTime': startTime,\n",
    "                           'endTime': endTime,\n",
    "                           'word': word})\n",
    "    return toReturnLst"
   ]
  },
  {
   "cell_type": "code",
   "execution_count": 262,
   "metadata": {
    "collapsed": true
   },
   "outputs": [],
   "source": [
    "def getAllRealData(totalStringData):\n",
    "    toReturn = []\n",
    "    for i in totalStringData:\n",
    "        toReturn.append(_stringDataToRealData(i))\n",
    "    return toReturn"
   ]
  },
  {
   "cell_type": "code",
   "execution_count": 263,
   "metadata": {
    "collapsed": true
   },
   "outputs": [],
   "source": [
    "dataHJ = getAllRealData(data_hj)"
   ]
  },
  {
   "cell_type": "code",
   "execution_count": 274,
   "metadata": {
    "collapsed": true
   },
   "outputs": [],
   "source": [
    "def _secToTimeF(data_elm, fs, frame_shift):\n",
    "    \"\"\"\n",
    "    getAllRealData 의 원소 하나를 인풋으로 받아서 time 도메인의 프레임으로 바꿔준다.\n",
    "    \"\"\"\n",
    "    startframe = 0\n",
    "    startfftf = 0\n",
    "    endframe = 0\n",
    "    endfftf = 0\n",
    "    timeFrameLst = []\n",
    "    fourierFrameLst = []\n",
    "    for i in data_elm:\n",
    "        startframe = int(i['startTime']*fs)\n",
    "        endframe = int(i['endTime']*fs)\n",
    "        timeFrameLst.append((startframe, endframe))\n",
    "        startfftf = int(startframe/frame_shift)\n",
    "        endfftf = int(endframe/frame_shift)\n",
    "        fourierFrameLst.append((startfftf,endfftf))\n",
    "    return timeFrameLst, fourierFrameLst"
   ]
  },
  {
   "cell_type": "code",
   "execution_count": 275,
   "metadata": {
    "collapsed": true
   },
   "outputs": [],
   "source": [
    "tfl, ffl = _secToTimeF(dataHJ[0], fs, frame_shift)"
   ]
  },
  {
   "cell_type": "code",
   "execution_count": 465,
   "metadata": {
    "collapsed": true
   },
   "outputs": [],
   "source": [
    "def showAll(wave,fftwave, data_elm, fs, frame_shift, offset=0):\n",
    "    TFL, FFL = _secToTimeF(data_elm, fs, frame_shift)\n",
    "    tdmainstart = TFL[0][0]\n",
    "    tdmainend = TFL[-1][1]\n",
    "    fflstart = FFL[0][0]\n",
    "    fflend = FFL[-1][1]\n",
    "    plt.figure(figsize=(14,5))\n",
    "    plt.subplot(211)\n",
    "    if tdmainstart>=(offset*frame_shift):\n",
    "        offsetstart = offset*frame_shift\n",
    "    else:\n",
    "        offsetstart = tdmainstart\n",
    "    if tdmainend<(wave.shape[0]-offset*frame_shift):\n",
    "        offsetend = offset*frame_shift\n",
    "    else:\n",
    "        offsetend = wave.shape[0]-tdmainend\n",
    "    if offset == 0:\n",
    "        offsetstart=0\n",
    "        offsetend=0\n",
    "    plt.plot(wave[tdmainstart-offsetstart:tdmainend+offsetend])\n",
    "    for i in TFL:\n",
    "        plt.axvline(x=i[0]-(tdmainstart-offsetstart), color='r', linewidth=5)\n",
    "        plt.axvline(x=i[1]-(tdmainstart-offsetstart), color='r', linestyle='--')\n",
    "    if fflstart>=(offset):\n",
    "        offsetstart = offset\n",
    "    else:\n",
    "        offsetstart = fflstart\n",
    "    if fflend<(fftwave.shape[0]-offset):\n",
    "        offsetend = offset\n",
    "    else:\n",
    "        offsetend = fftwave.shape[0]-tdmainend\n",
    "    if offset == 0:\n",
    "        offsetstart=0\n",
    "        offsetend=0\n",
    "    plt.subplot(212)\n",
    "    plt.plot(fftwave[fflstart-offsetstart:fflend+offsetend])\n",
    "    for i in FFL:\n",
    "        plt.axvline(x=i[0]-(fflstart-offsetstart), color='r', linewidth=5)\n",
    "        plt.axvline(x=i[1]-(fflstart-offsetstart)+0, color='r', linestyle='--')\n",
    "    _playAudio(wave, data_elm, fs)\n",
    "    ipd.display(ipd.Audio(wave[tdmainstart:tdmainend+1], rate=fs))\n",
    "    print('Total Speech', (tdmainstart, tdmainend), (fflstart, fflend))\n",
    "    return 'finish'\n",
    "\n",
    "def _playAudio(wave, data_elm, fs):\n",
    "    TFL, FFL = _secToTimeF(data_elm, fs, frame_shift)\n",
    "    for idx, i in enumerate(TFL):\n",
    "        start = i[0]\n",
    "        end = i[1]\n",
    "        ipd.display(ipd.Audio(wave[start-0*frame_shift:end+0*frame_shift], rate=fs))\n",
    "        print('ㄴ'+data_elm[idx]['word'])\n",
    "        print(TFL[idx], FFL[idx])\n",
    "\n",
    "    return 'finish'"
   ]
  },
  {
   "cell_type": "code",
   "execution_count": 1,
   "metadata": {},
   "outputs": [],
   "source": [
    "# showAll(wave, daf3, dataHJ[0], fs, frame_shift, offset=10)"
   ]
  },
  {
   "cell_type": "code",
   "execution_count": 478,
   "metadata": {
    "collapsed": true
   },
   "outputs": [],
   "source": [
    "def endpoint_HoleFixer():\n",
    "    \"\"\"\n",
    "    1- 0- 1- 형태의 단어를 1- / 0- 1- 로 start end를 조정하는 함수\n",
    "    \"\"\"\n",
    "def _endfixer():\n",
    "    \"\"\"\n",
    "    뒤 10개 확인\n",
    "    \"\"\"\n",
    "def _startfixer():\n",
    "    \"\"\"\n",
    "    앞 4개 뒤 6개 확인\n",
    "    \"\"\"\n",
    "def _holefixer():\n",
    "    \"\"\"\n",
    "    end, start 확인 후 hole 확인\n",
    "    \"\"\""
   ]
  },
  {
   "cell_type": "code",
   "execution_count": 2,
   "metadata": {},
   "outputs": [],
   "source": [
    "# fdspeech"
   ]
  }
 ],
 "metadata": {
  "kernelspec": {
   "display_name": "Python 3",
   "language": "python",
   "name": "python3"
  },
  "language_info": {
   "codemirror_mode": {
    "name": "ipython",
    "version": 3
   },
   "file_extension": ".py",
   "mimetype": "text/x-python",
   "name": "python",
   "nbconvert_exporter": "python",
   "pygments_lexer": "ipython3",
   "version": "3.6.3"
  }
 },
 "nbformat": 4,
 "nbformat_minor": 2
}
