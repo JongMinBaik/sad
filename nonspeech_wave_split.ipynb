{
 "cells": [
  {
   "cell_type": "code",
   "execution_count": 1,
   "metadata": {},
   "outputs": [
    {
     "name": "stdout",
     "output_type": "stream",
     "text": [
      "no env is setup, using dev env default\n"
     ]
    }
   ],
   "source": [
    "import stt\n",
    "import spliter\n",
    "import compressor\n",
    "import json\n",
    "\n",
    "import vad_test as vt\n",
    "import librosa\n",
    "import copy\n",
    "\n",
    "import numpy as np\n",
    "import matplotlib.pyplot as plt\n",
    "from vad_test import play\n",
    "import IPython.display as display"
   ]
  },
  {
   "cell_type": "code",
   "execution_count": 114,
   "metadata": {},
   "outputs": [],
   "source": [
    "video_file = './80_resized_powercast1.mp4'"
   ]
  },
  {
   "cell_type": "code",
   "execution_count": 3,
   "metadata": {
    "collapsed": true
   },
   "outputs": [
    {
     "name": "stdout",
     "output_type": "stream",
     "text": [
      "ffmpeg -y -i ./80_resized_powercast1.mp4 -filter:v scale=\"640:ih*640/iw\" -c:a copy /tmp/resized_80_resized_powercast1.mp4\n",
      "resized_80_resized_powercast1.flac\n",
      "31\n",
      "31\n",
      "31\n",
      "31\n",
      "31\n",
      "31\n",
      "31\n",
      "31\n",
      "31\n",
      "31\n",
      "31\n",
      "31\n",
      "31\n",
      "31\n",
      "31\n",
      "31\n",
      "31\n",
      "31\n",
      "31\n",
      "31\n",
      "31\n",
      "31\n",
      "31\n",
      "31\n",
      "31\n",
      "31\n",
      "31\n",
      "31\n",
      "31\n",
      "31\n",
      "31\n",
      "31\n",
      "31\n",
      "31\n",
      "31\n",
      "31\n",
      "31\n",
      "31\n",
      "31\n",
      "31\n",
      "61\n",
      "61\n",
      "61\n",
      "61\n",
      "61\n",
      "61\n",
      "61\n",
      "61\n",
      "61\n",
      "61\n",
      "61\n",
      "61\n",
      "61\n",
      "61\n",
      "61\n",
      "61\n",
      "61\n",
      "61\n",
      "61\n",
      "61\n",
      "61\n",
      "61\n",
      "61\n",
      "61\n",
      "61\n",
      "61\n",
      "61\n",
      "61\n",
      "61\n",
      "61\n",
      "61\n",
      "61\n",
      "61\n",
      "61\n",
      "61\n",
      "61\n",
      "61\n",
      "89\n"
     ]
    },
    {
     "ename": "KeyboardInterrupt",
     "evalue": "",
     "output_type": "error",
     "traceback": [
      "\u001b[0;31m---------------------------------------------------------------------------\u001b[0m",
      "\u001b[0;31mKeyboardInterrupt\u001b[0m                         Traceback (most recent call last)",
      "\u001b[0;32m<ipython-input-3-15e2fe528de1>\u001b[0m in \u001b[0;36m<module>\u001b[0;34m()\u001b[0m\n\u001b[1;32m      4\u001b[0m \u001b[0mvideo_meta\u001b[0m\u001b[0;34m[\u001b[0m\u001b[0;34m'Hz'\u001b[0m\u001b[0;34m]\u001b[0m \u001b[0;34m=\u001b[0m \u001b[0;36m44100\u001b[0m\u001b[0;34m\u001b[0m\u001b[0m\n\u001b[1;32m      5\u001b[0m \u001b[0mcompressed_video_file\u001b[0m\u001b[0;34m,\u001b[0m \u001b[0mvideo_meta\u001b[0m \u001b[0;34m=\u001b[0m \u001b[0mcompressor\u001b[0m\u001b[0;34m.\u001b[0m\u001b[0mcompress\u001b[0m\u001b[0;34m(\u001b[0m\u001b[0mvideo_file\u001b[0m\u001b[0;34m)\u001b[0m\u001b[0;34m\u001b[0m\u001b[0m\n\u001b[0;32m----> 6\u001b[0;31m \u001b[0mres\u001b[0m \u001b[0;34m=\u001b[0m \u001b[0mstt\u001b[0m\u001b[0;34m.\u001b[0m\u001b[0mstt\u001b[0m\u001b[0;34m(\u001b[0m\u001b[0mcompressed_video_file\u001b[0m\u001b[0;34m,\u001b[0m \u001b[0mlanguage\u001b[0m\u001b[0;34m,\u001b[0m \u001b[0mvideo_meta\u001b[0m\u001b[0;34m)\u001b[0m\u001b[0;34m\u001b[0m\u001b[0m\n\u001b[0m",
      "\u001b[0;32m~/Work/script_voithru/jamake-engine/stt/__init__.py\u001b[0m in \u001b[0;36mstt\u001b[0;34m(video_file, language, video_meta)\u001b[0m\n\u001b[1;32m    112\u001b[0m     \u001b[0m현재는\u001b[0m \u001b[0mgoogleapi\u001b[0m \u001b[0mstt\u001b[0m \u001b[0m사용\u001b[0m\u001b[0;34m\u001b[0m\u001b[0m\n\u001b[1;32m    113\u001b[0m     \"\"\"\n\u001b[0;32m--> 114\u001b[0;31m     \u001b[0;32mreturn\u001b[0m \u001b[0mgoogle_api_stt\u001b[0m\u001b[0;34m(\u001b[0m\u001b[0mvideo_file\u001b[0m\u001b[0;34m,\u001b[0m \u001b[0mlanguage\u001b[0m\u001b[0;34m,\u001b[0m \u001b[0mvideo_meta\u001b[0m\u001b[0;34m)\u001b[0m\u001b[0;34m\u001b[0m\u001b[0m\n\u001b[0m\u001b[1;32m    115\u001b[0m \u001b[0;34m\u001b[0m\u001b[0m\n\u001b[1;32m    116\u001b[0m \u001b[0;34m\u001b[0m\u001b[0m\n",
      "\u001b[0;32m~/Work/script_voithru/jamake-engine/stt/__init__.py\u001b[0m in \u001b[0;36mgoogle_api_stt\u001b[0;34m(video_file, language, video_meta)\u001b[0m\n\u001b[1;32m    105\u001b[0m \u001b[0;34m\u001b[0m\u001b[0m\n\u001b[1;32m    106\u001b[0m     \u001b[0;31m# now polling\u001b[0m\u001b[0;34m\u001b[0m\u001b[0;34m\u001b[0m\u001b[0m\n\u001b[0;32m--> 107\u001b[0;31m     \u001b[0;32mreturn\u001b[0m \u001b[0mgoogleapi_polling\u001b[0m\u001b[0;34m(\u001b[0m\u001b[0mname\u001b[0m\u001b[0;34m,\u001b[0m \u001b[0mgl\u001b[0m\u001b[0;34m)\u001b[0m\u001b[0;34m\u001b[0m\u001b[0m\n\u001b[0m\u001b[1;32m    108\u001b[0m \u001b[0;34m\u001b[0m\u001b[0m\n\u001b[1;32m    109\u001b[0m \u001b[0;34m\u001b[0m\u001b[0m\n",
      "\u001b[0;32m~/Work/script_voithru/jamake-engine/stt/__init__.py\u001b[0m in \u001b[0;36mgoogleapi_polling\u001b[0;34m(keycode, gl)\u001b[0m\n\u001b[1;32m     35\u001b[0m     \"\"\"\n\u001b[1;32m     36\u001b[0m     \u001b[0;32mwhile\u001b[0m \u001b[0;32mTrue\u001b[0m\u001b[0;34m:\u001b[0m\u001b[0;34m\u001b[0m\u001b[0m\n\u001b[0;32m---> 37\u001b[0;31m         \u001b[0mres\u001b[0m \u001b[0;34m=\u001b[0m \u001b[0mgl\u001b[0m\u001b[0;34m.\u001b[0m\u001b[0mgetResponse\u001b[0m\u001b[0;34m(\u001b[0m\u001b[0mkeycode\u001b[0m\u001b[0;34m)\u001b[0m\u001b[0;34m\u001b[0m\u001b[0m\n\u001b[0m\u001b[1;32m     38\u001b[0m         \u001b[0mjson_data\u001b[0m \u001b[0;34m=\u001b[0m \u001b[0mjson\u001b[0m\u001b[0;34m.\u001b[0m\u001b[0mloads\u001b[0m\u001b[0;34m(\u001b[0m\u001b[0mres\u001b[0m\u001b[0;34m.\u001b[0m\u001b[0mtext\u001b[0m\u001b[0;34m)\u001b[0m\u001b[0;34m\u001b[0m\u001b[0m\n\u001b[1;32m     39\u001b[0m         \u001b[0;32mtry\u001b[0m\u001b[0;34m:\u001b[0m\u001b[0;34m\u001b[0m\u001b[0m\n",
      "\u001b[0;32m~/Work/script_voithru/jamake-engine/googleapi.py\u001b[0m in \u001b[0;36mgetResponse\u001b[0;34m(self, name)\u001b[0m\n\u001b[1;32m    198\u001b[0m         \u001b[0mcommand2\u001b[0m \u001b[0;34m=\u001b[0m \u001b[0;34m\"gcloud auth print-access-token\"\u001b[0m\u001b[0;34m\u001b[0m\u001b[0m\n\u001b[1;32m    199\u001b[0m         \u001b[0mprocess\u001b[0m \u001b[0;34m=\u001b[0m \u001b[0msubprocess\u001b[0m\u001b[0;34m.\u001b[0m\u001b[0mPopen\u001b[0m\u001b[0;34m(\u001b[0m\u001b[0mcommand2\u001b[0m\u001b[0;34m.\u001b[0m\u001b[0msplit\u001b[0m\u001b[0;34m(\u001b[0m\u001b[0;34m)\u001b[0m\u001b[0;34m,\u001b[0m \u001b[0mstdout\u001b[0m\u001b[0;34m=\u001b[0m\u001b[0msubprocess\u001b[0m\u001b[0;34m.\u001b[0m\u001b[0mPIPE\u001b[0m\u001b[0;34m)\u001b[0m\u001b[0;34m\u001b[0m\u001b[0m\n\u001b[0;32m--> 200\u001b[0;31m         \u001b[0moutput\u001b[0m\u001b[0;34m,\u001b[0m \u001b[0merror\u001b[0m \u001b[0;34m=\u001b[0m \u001b[0mprocess\u001b[0m\u001b[0;34m.\u001b[0m\u001b[0mcommunicate\u001b[0m\u001b[0;34m(\u001b[0m\u001b[0;34m)\u001b[0m\u001b[0;34m\u001b[0m\u001b[0m\n\u001b[0m\u001b[1;32m    201\u001b[0m         \u001b[0mkey\u001b[0m \u001b[0;34m=\u001b[0m \u001b[0moutput\u001b[0m\u001b[0;34m.\u001b[0m\u001b[0mdecode\u001b[0m\u001b[0;34m(\u001b[0m\u001b[0;34m\"utf-8\"\u001b[0m\u001b[0;34m)\u001b[0m\u001b[0;34m.\u001b[0m\u001b[0mreplace\u001b[0m\u001b[0;34m(\u001b[0m\u001b[0;34m'\\n'\u001b[0m\u001b[0;34m,\u001b[0m\u001b[0;34m''\u001b[0m\u001b[0;34m)\u001b[0m\u001b[0;34m\u001b[0m\u001b[0m\n\u001b[1;32m    202\u001b[0m \u001b[0;34m\u001b[0m\u001b[0m\n",
      "\u001b[0;32m~/anaconda3/envs/jamake_engine/lib/python3.6/subprocess.py\u001b[0m in \u001b[0;36mcommunicate\u001b[0;34m(self, input, timeout)\u001b[0m\n\u001b[1;32m    828\u001b[0m                 \u001b[0mself\u001b[0m\u001b[0;34m.\u001b[0m\u001b[0m_stdin_write\u001b[0m\u001b[0;34m(\u001b[0m\u001b[0minput\u001b[0m\u001b[0;34m)\u001b[0m\u001b[0;34m\u001b[0m\u001b[0m\n\u001b[1;32m    829\u001b[0m             \u001b[0;32melif\u001b[0m \u001b[0mself\u001b[0m\u001b[0;34m.\u001b[0m\u001b[0mstdout\u001b[0m\u001b[0;34m:\u001b[0m\u001b[0;34m\u001b[0m\u001b[0m\n\u001b[0;32m--> 830\u001b[0;31m                 \u001b[0mstdout\u001b[0m \u001b[0;34m=\u001b[0m \u001b[0mself\u001b[0m\u001b[0;34m.\u001b[0m\u001b[0mstdout\u001b[0m\u001b[0;34m.\u001b[0m\u001b[0mread\u001b[0m\u001b[0;34m(\u001b[0m\u001b[0;34m)\u001b[0m\u001b[0;34m\u001b[0m\u001b[0m\n\u001b[0m\u001b[1;32m    831\u001b[0m                 \u001b[0mself\u001b[0m\u001b[0;34m.\u001b[0m\u001b[0mstdout\u001b[0m\u001b[0;34m.\u001b[0m\u001b[0mclose\u001b[0m\u001b[0;34m(\u001b[0m\u001b[0;34m)\u001b[0m\u001b[0;34m\u001b[0m\u001b[0m\n\u001b[1;32m    832\u001b[0m             \u001b[0;32melif\u001b[0m \u001b[0mself\u001b[0m\u001b[0;34m.\u001b[0m\u001b[0mstderr\u001b[0m\u001b[0;34m:\u001b[0m\u001b[0;34m\u001b[0m\u001b[0m\n",
      "\u001b[0;31mKeyboardInterrupt\u001b[0m: "
     ]
    }
   ],
   "source": [
    "# video_file = './46.mp4'\n",
    "language = \"ko\"\n",
    "video_meta = {}\n",
    "video_meta['Hz'] = 44100\n",
    "compressed_video_file, video_meta = compressor.compress(video_file)\n",
    "res = stt.stt(compressed_video_file, language, video_meta)"
   ]
  },
  {
   "cell_type": "code",
   "execution_count": 137,
   "metadata": {
    "scrolled": true
   },
   "outputs": [
    {
     "name": "stdout",
     "output_type": "stream",
     "text": [
      "Extracting Harmonics...\n"
     ]
    },
    {
     "name": "stderr",
     "output_type": "stream",
     "text": [
      "/home/jm2338/Work/script_voithru/jamake-engine/vad_test.py:162: ComplexWarning: Casting complex values to real discards the imaginary part\n",
      "  blank_array[i] = self._get_column_harmonic(hpeak[:,i])\n"
     ]
    },
    {
     "name": "stdout",
     "output_type": "stream",
     "text": [
      "Wave smoothing...\n",
      "~Smooth~\n",
      "\\Harmonics/\n",
      "Extracting Entropy...\n"
     ]
    },
    {
     "name": "stderr",
     "output_type": "stream",
     "text": [
      "/home/jm2338/Work/script_voithru/jamake-engine/vad_test.py:43: RuntimeWarning: invalid value encountered in true_divide\n",
      "  div_square_abs_stft = square_abs_stft / np.sum(square_abs_stft, axis=0)\n"
     ]
    },
    {
     "name": "stdout",
     "output_type": "stream",
     "text": [
      "\\Entropy/\n",
      "Extract SEM...\n"
     ]
    },
    {
     "name": "stderr",
     "output_type": "stream",
     "text": [
      "/home/jm2338/Work/script_voithru/jamake-engine/vad_test.py:337: RuntimeWarning: divide by zero encountered in true_divide\n",
      "  norm_eh = self.normalization(smhar/sment)\n"
     ]
    },
    {
     "name": "stdout",
     "output_type": "stream",
     "text": [
      "Wave smoothing...\n",
      "~Smooth~\n",
      "Wave smoothing...\n",
      "~Smooth~\n",
      "\\SEM/\n"
     ]
    },
    {
     "name": "stderr",
     "output_type": "stream",
     "text": [
      "/home/jm2338/Work/script_voithru/jamake-engine/vad_test.py:242: RuntimeWarning: divide by zero encountered in true_divide\n",
      "  psr = (B - pmin)/mu\n",
      "/home/jm2338/Work/script_voithru/jamake-engine/vad_test.py:242: RuntimeWarning: invalid value encountered in true_divide\n",
      "  psr = (B - pmin)/mu\n"
     ]
    }
   ],
   "source": [
    "# wave, fs = librosa.load(video_file)\n",
    "# fe = vt.FeatureExtraction(wave, fs)\n",
    "fe.get_wave_point(cut_eh=0.97, cut_n=0.95)\n",
    "hangover = fe.check_speech(fe.vad_value, frameoffset=6)\n",
    "daf = fe.denoise_after_vad(hangover)\n",
    "bridge = fe.make_bridge(daf, step=25)\n",
    "hangover2 = fe.check_speech(bridge, frameoffset=4)"
   ]
  },
  {
   "cell_type": "code",
   "execution_count": 94,
   "metadata": {},
   "outputs": [
    {
     "data": {
      "text/plain": [
       "[<matplotlib.lines.Line2D at 0x7fe41dfe3400>]"
      ]
     },
     "execution_count": 94,
     "metadata": {},
     "output_type": "execute_result"
    },
    {
     "data": {
      "image/png": "[encoded data removed]",
      "text/plain": [
       "<Figure size 1008x432 with 2 Axes>"
      ]
     },
     "metadata": {},
     "output_type": "display_data"
    }
   ],
   "source": [
    "'''\n",
    "test: vad wave check\n",
    "'''\n",
    "start = 0\n",
    "end = 6000\n",
    "t = np.linspace(0, len(fe.wave)/fe.fs, num = len(fe.wave))\n",
    "plt.figure(figsize=(14, 6))\n",
    "# plt.subplot(511)\n",
    "# plt.plot(hangover[start:end])\n",
    "# plt.subplot(512)\n",
    "# plt.plot(daf[start:end])\n",
    "plt.subplot(513)\n",
    "plt.plot(t[start*fe.frame_shift:end*fe.frame_shift], (wave)[start*fe.frame_shift:end*fe.frame_shift])\n",
    "# plt.axvline(x=0.05, color='r')\n",
    "# plt.axvline(x=0.5, color='r')\n",
    "# plt.subplot(514)\n",
    "# plt.plot(bridge[start:end])\n",
    "plt.subplot(515)\n",
    "plt.plot(hangover2[start:end])\n",
    "# play((fe.wave)[start*fe.frame_shift:end*fe.frame_shift], fe.fs)"
   ]
  },
  {
   "cell_type": "code",
   "execution_count": 135,
   "metadata": {},
   "outputs": [],
   "source": [
    "def find_zero_section_frame(vad_result, find_speech=0):\n",
    "    '''\n",
    "    nonspeech 구간을 프레임의 튜플들의 리스트로 리턴하는 함수\n",
    "    find_speech: 0 or 1\n",
    "    0이면 nonspeech 찾기\n",
    "    1이면 speech 찾기찾\n",
    "    '''\n",
    "    start_frame = 0\n",
    "    end_frame = 0\n",
    "    zero_section_lst = []\n",
    "    zero_section = ()\n",
    "    \n",
    "    if find_speech == 0: # want to find non-speech\n",
    "        zero_elms = np.where(vad_result == 0)[0]\n",
    "    else: # want to find speech\n",
    "        zero_elms = np.where(vad_result == 1)[0]\n",
    "        \n",
    "        \n",
    "    if len(zero_elms)==0:\n",
    "        return None\n",
    "    if len(zero_elms)==1 and zero_elms[0]==0:\n",
    "        return None\n",
    "#     if zero_elms[0]==0:\n",
    "#         zero_elms.pop(0)\n",
    "\n",
    "    for num, zero_idx in enumerate(zero_elms):\n",
    "        if num==0:\n",
    "            start_frame = zero_elms[num]\n",
    "            end_frame = zero_elms[num]\n",
    "            if zero_idx == zero_elms[-1]:\n",
    "                zero_section = (start_frame, end_frame)\n",
    "                zero_section_lst.append(zero_section)\n",
    "                return zero_section_lst\n",
    "            else:\n",
    "                continue\n",
    "        else:\n",
    "            if zero_elms[num-1]+1 == zero_idx: # 앞의 zero_idx와 이어진다면\n",
    "                end_frame = zero_idx\n",
    "                \n",
    "                if zero_idx == zero_elms[-1]:\n",
    "                    zero_section = (start_frame, end_frame)\n",
    "                    zero_section_lst.append(zero_section)\n",
    "                    return zero_section_lst\n",
    "                \n",
    "                else:\n",
    "                    continue\n",
    "                    \n",
    "            else: # 이어지지 않으면 리스트에 기존 섹션 넣고 새로운 섹션 시작\n",
    "                zero_section = (start_frame, end_frame)\n",
    "                zero_section_lst.append(zero_section)\n",
    "                start_frame = zero_idx\n",
    "                end_frame = zero_idx\n",
    "                \n",
    "                if zero_idx == zero_elms[-1]:\n",
    "                    zero_section = (start_frame, end_frame)\n",
    "                    zero_section_lst.append(zero_section)\n",
    "                    return zero_section_lst\n",
    "                else:\n",
    "                    continue        \n",
    "        \n",
    "def zero_section_frame_to_sec(zero_section_frame, fs, frame_shift):\n",
    "    '''\n",
    "    find_zero_section_frame의 리턴값을 받아서\n",
    "    sec단위로 반환하는 함수\n",
    "    '''\n",
    "    sec_lst = np.asarray(zero_section_frame, dtype=float)\n",
    "    if len(zero_section_frame)==0:\n",
    "        return sec_lst\n",
    "    for i in sec_lst:\n",
    "        i[0] = round(i[0]/fs*frame_shift, 2)\n",
    "        i[1] = round((i[1]+1)/fs*(frame_shift),2)\n",
    "    return sec_lst"
   ]
  },
  {
   "cell_type": "code",
   "execution_count": 136,
   "metadata": {},
   "outputs": [],
   "source": [
    "def elm_to_float(elm):\n",
    "    '''string으로 되어있는 startTime, endTime을 float로 만들어주는 함수'''\n",
    "    startTime = float(elm['startTime'].replace('s',''))\n",
    "    endTime = float(elm['endTime'].replace('s',''))\n",
    "    return startTime, endTime\n",
    "\n",
    "def check_end_location_to_split(words_lst, nonspeech_sec):\n",
    "    words_lst_copy = copy.deepcopy(words_lst)\n",
    "    split_location = []\n",
    "    idx_flag = -1\n",
    "    for nons in nonspeech_sec:\n",
    "        '''\n",
    "        nons = [22.94, 23.84]\n",
    "        '''\n",
    "        start_buffer = []\n",
    "        end_buffer = []\n",
    "        \n",
    "        for idx, elm in enumerate(words_lst_copy):\n",
    "            '''\n",
    "            elm = {'startTime': '1.29s', 'endTime': '1.300s', 'word': '입금은'}\n",
    "            '''\n",
    "            startTime, endTime = elm_to_float(elm)\n",
    "            \n",
    "            if (nons[0] - endTime <= 3) and (nons[0] >= endTime): # Nstart가 endTime보다 크고 둘의 차이가 2초 이내일 때\n",
    "                start_buffer.append((idx, elm, nons))\n",
    "                if idx+1==len(words_lst_copy):\n",
    "                    try:\n",
    "                        split_location.append(start_buffer[-1])\n",
    "                    except:\n",
    "                        break\n",
    "            \n",
    "            elif (endTime > nons[0]) or idx+1==len(words_lst_copy): # endTime이 Nstart보다 클 때는 for문을 멈추고 startbuffer 완성한다.\n",
    "                try:\n",
    "                    split_location.append(start_buffer[-1])\n",
    "                    break\n",
    "                except: # start_buffer가 None일 때\n",
    "                    break\n",
    "            \n",
    "            else: # 2초 이내가 아직 아닐 때\n",
    "                continue\n",
    "                \n",
    "    return split_location\n",
    "\n",
    "def fix_endpoint(words_lst, end_location_to_split):\n",
    "    words_lst_copy = copy.deepcopy(words_lst)\n",
    "    \n",
    "    for i in end_location_to_split:\n",
    "        # start 수정하기\n",
    "        words_lst_copy[i[0]]['endTime'] = str(i[2][0]) + \"s\"\n",
    "        # 수정된 elm 뒤로 수정할 엘리먼트 버퍼에 넣기\n",
    "        idx = i[0] + 1\n",
    "        while idx < len(words_lst):\n",
    "            startTime, endTime = elm_to_float(words_lst_copy[idx])\n",
    "            if startTime < i[2][1]: # Nend보다 startTime이 앞이라면\n",
    "                words_lst_copy[idx]['startTime'] = str(i[2][1]) + \"s\"\n",
    "                if endTime < i[2][1]:\n",
    "                    words_lst_copy[idx]['endTime'] =str(i[2][1]) + \"s\"\n",
    "                    idx += 1\n",
    "                else:\n",
    "                    idx += 1\n",
    "                    continue\n",
    "            else:\n",
    "                break\n",
    "    return words_lst_copy\n",
    "\n",
    "'''\n",
    "nonspeech+speech 구간 같이 띄우기\n",
    "'''\n",
    "def play_test(speech_section_sec, wave=wave, fs=fs):\n",
    "    '''ex. \n",
    "    plot_test(speech_sec_lst)'''\n",
    "    for idx,i in enumerate(speech_section_sec):\n",
    "        display.display(display.Audio(data=wave[int(i[0]*fs):int(i[1]*fs)], rate=fs))\n",
    "        print(i)\n",
    "#         plt.subplot(speech_section_sec.shape[0], 1, idx)\n",
    "        plt.plot(wave[int(i[0]*fs):int(i[1]*fs)])"
   ]
  },
  {
   "cell_type": "code",
   "execution_count": 146,
   "metadata": {},
   "outputs": [],
   "source": [
    "def joint_words(words):\n",
    "    \"\"\"\n",
    "    words: word 단위 [start, end, word] 리스트\n",
    "    \"\"\"\n",
    "    sentences = []\n",
    "    sentence = {}\n",
    "    # for idx, elm in enumerate(words):\n",
    "    i = 0\n",
    "    joint = []\n",
    "    some_words = []\n",
    "    while i < len(words):    \n",
    "        if i == 0:\n",
    "            if i!= len(words)-1:\n",
    "                sentence['startTime']=words[i]['startTime']\n",
    "                some_words.append(words[i])\n",
    "                joint.append(words[i]['word'])\n",
    "                i+=1\n",
    "            else:\n",
    "                sentences.append({'sentence':{'startTime':words[i]['startTime'],\n",
    "                                 'endTime':words[i]['endTime'],\n",
    "                                 'sentence':words[i]['word']},\n",
    "                                 'words':[words[i]]})\n",
    "                break\n",
    "        elif words[i]['startTime'] == words[i-1]['endTime']:\n",
    "            if i != len(words)-1:\n",
    "                some_words.append(words[i])\n",
    "                joint.append(words[i]['word'])\n",
    "                i+=1\n",
    "            else:\n",
    "                joint.append(words[i]['word'])\n",
    "                sentence['endTime']=words[i]['endTime']\n",
    "                sentence['sentence'] = ' '.join(joint)\n",
    "                some_words.append(words[i])\n",
    "                sentences.append({'sentence': sentence,\n",
    "                                 'words': some_words})\n",
    "                break\n",
    "\n",
    "        else:\n",
    "            if i != len(words)-1:\n",
    "                sentence['endTime'] = words[i-1]['endTime']\n",
    "                sentence['sentence'] = ' '.join(joint)\n",
    "                sentences.append({'sentence': sentence,\n",
    "                                 'words':some_words})\n",
    "                sentence = {}\n",
    "                some_words = []\n",
    "                joint = []\n",
    "                sentence['startTime'] = words[i]['startTime']\n",
    "                joint.append(words[i]['word'])\n",
    "                some_words.append(words[i])\n",
    "                i+=1\n",
    "            else:\n",
    "                sentence['endTime'] = words[i-1]['endTime']\n",
    "                sentence['sentence'] = ' '.join(joint)\n",
    "                sentences.append({'sentence':sentence,\n",
    "                                 'words':some_words})\n",
    "                sentences.append({'sentence': {'startTime': words[i]['startTime'],\n",
    "                                 'endTime':words[i]['endTime'],\n",
    "                                 'sentence':words[i]['word']},\n",
    "                                 'words': words})\n",
    "                break\n",
    "    return sentences"
   ]
  },
  {
   "cell_type": "code",
   "execution_count": 116,
   "metadata": {},
   "outputs": [],
   "source": [
    "nonspeech_frame_lst = find_zero_section_frame(hangover2, find_speech=0)\n",
    "nonspeech_sec_lst = zero_section_frame_to_sec(nonspeech_frame_lst,\n",
    "                                             fe.fs, fe.frame_shift)\n",
    "speech_frame_lst = find_zero_section_frame(hangover2, find_speech=1)\n",
    "speech_sec_lst = zero_section_frame_to_sec(speech_frame_lst,\n",
    "                                          fe.fs, fe.frame_shift)\n",
    "\n",
    "words_lst = []\n",
    "for i in res['response']['results']:\n",
    "    for k in i['alternatives'][0]['words']:\n",
    "        words_lst.append(k)\n",
    "        \n",
    "end_location = check_end_location_to_split(words_lst, nonspeech_sec_lst)\n",
    "fixed_words_lst = fix_endpoint(words_lst, end_location)\n",
    "\n",
    "joining = joint_words(fixed_words_lst)"
   ]
  },
  {
   "cell_type": "code",
   "execution_count": null,
   "metadata": {},
   "outputs": [],
   "source": [
    "'''\n",
    "실행순서\n",
    "\n",
    "wave, fs = librosa.load('./46.mp4')\n",
    "fe = vt.FeatureExtraction(wave, fs)\n",
    "\n",
    "fe.get_wave_point(cut_eh=0.97, cut_n=96) # threshold not fixed\n",
    "hangover = fe.check_speech(fe.vad_value, frameoffset=6) # frameoffset not fixed\n",
    "daf = fe.denoise_after_vad(hangover)\n",
    "bridge = fe.make_bridge(daf, step=25) # step not fixed\n",
    "hangover2 = fe.check_speech(bridge, frameoffset=3) # frameoffset not fixed\n",
    "\n",
    "nonspeech_frame_lst = find_zero_section_frame(hangover2, find_speech=0)\n",
    "nonspeech_sec_lst = zero_section_frame_to_sec(nonspeech_frame_lst,\n",
    "                                             fe.fs, fe.frame_shift)\n",
    "speech_frame_lst = find_zero_section_frame(hangover2, find_speech=1)\n",
    "speech_sec_lst = zero_section_frame_to_sec(speech_frame_lst,\n",
    "                                          fe.fs, fe.frame_shift)\n",
    "\n",
    "words_lst = []\n",
    "for i in res:\n",
    "    for k in i['alternatives'][0]['words']:\n",
    "        words_lst.append(k)\n",
    "\n",
    "end_location = check_end_location_to_split(words_lst, nonspeech_sec_lst)\n",
    "fixed_words_lst = fix_endpoint(words_lst, end_location)\n",
    "\n",
    "joining = joint_words(fixed_words_lst)\n",
    "\n",
    "joining 사용\n",
    "'''"
   ]
  },
  {
   "cell_type": "code",
   "execution_count": 124,
   "metadata": {},
   "outputs": [
    {
     "data": {
      "text/plain": [
       "[<matplotlib.lines.Line2D at 0x7fe40588c4e0>]"
      ]
     },
     "execution_count": 124,
     "metadata": {},
     "output_type": "execute_result"
    },
    {
     "data": {
      "image/png": "[encoded data removed]",
      "text/plain": [
       "<Figure size 1008x360 with 1 Axes>"
      ]
     },
     "metadata": {},
     "output_type": "display_data"
    }
   ],
   "source": [
    "'''\n",
    "test\n",
    "green: vad speech detect set\n",
    "blue: google speech detect set\n",
    "red: vad nonspeech detect set\n",
    "'''\n",
    "\n",
    "# base = np.zeros(200000)\n",
    "# for i in words_lst:\n",
    "#     startTime = int(float(i['startTime'].replace('s',''))*1000)\n",
    "#     endTime = int(float(i['endTime'].replace('s',''))*1000)\n",
    "#     base[startTime:endTime]=1\n",
    "    \n",
    "# speech_base = np.zeros(200000)\n",
    "# for i in speech_sec_lst:\n",
    "#     startTime = int(i[0]*1000)\n",
    "#     endTime = int(i[1]*1000)\n",
    "#     speech_base[startTime:endTime]=2\n",
    "\n",
    "# non_speech_base = np.zeros(200000)\n",
    "# for i in nonspeech_sec_lst:\n",
    "#     startTime = int(i[0]*1000)\n",
    "#     endTime = int(i[1]*1000)\n",
    "#     non_speech_base[startTime:endTime]=-1\n",
    "    \n",
    "# plt.figure(figsize=(14, 5))\n",
    "# plt.plot(base, color='b')\n",
    "# plt.plot(speech_base, color='g')\n",
    "# plt.plot(non_speech_base, color='r')"
   ]
  },
  {
   "cell_type": "code",
   "execution_count": 119,
   "metadata": {},
   "outputs": [
    {
     "data": {
      "text/plain": [
       "[<matplotlib.lines.Line2D at 0x7fe4179c63c8>]"
      ]
     },
     "execution_count": 119,
     "metadata": {},
     "output_type": "execute_result"
    },
    {
     "data": {
      "image/png": "[encoded data removed]",
      "text/plain": [
       "<Figure size 1008x360 with 1 Axes>"
      ]
     },
     "metadata": {},
     "output_type": "display_data"
    }
   ],
   "source": [
    "base = np.zeros(200000)\n",
    "for i in fixed_words_lst:\n",
    "    startTime = int(float(i['startTime'].replace('s',''))*1000)\n",
    "    endTime = int(float(i['endTime'].replace('s',''))*1000)\n",
    "    base[startTime:endTime]=1\n",
    "    \n",
    "speech_base = np.zeros(200000)\n",
    "for i in speech_sec_lst:\n",
    "    startTime = int(i[0]*1000)\n",
    "    endTime = int(i[1]*1000)\n",
    "    speech_base[startTime:endTime]=2\n",
    "\n",
    "non_speech_base = np.zeros(200000)\n",
    "for i in nonspeech_sec_lst:\n",
    "    startTime = int(i[0]*1000)\n",
    "    endTime = int(i[1]*1000)\n",
    "    non_speech_base[startTime:endTime]=-1\n",
    "    \n",
    "plt.figure(figsize=(14, 5))\n",
    "plt.plot(base, color='b')\n",
    "plt.plot(speech_base, color='g')\n",
    "plt.plot(non_speech_base, color='r')"
   ]
  }
 ],
 "metadata": {
  "kernelspec": {
   "display_name": "jamake_engine",
   "language": "python",
   "name": "jamake_engine"
  },
  "language_info": {
   "codemirror_mode": {
    "name": "ipython",
    "version": 3
   },
   "file_extension": ".py",
   "mimetype": "text/x-python",
   "name": "python",
   "nbconvert_exporter": "python",
   "pygments_lexer": "ipython3",
   "version": "3.6.5"
  }
 },
 "nbformat": 4,
 "nbformat_minor": 2
}
